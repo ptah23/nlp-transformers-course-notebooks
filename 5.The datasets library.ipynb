{
 "cells": [
  {
   "cell_type": "markdown",
   "id": "8df1fafd-a04a-4f45-ac50-3b8d51835a54",
   "metadata": {},
   "source": [
    "# What if my dataset isn't on the Hub"
   ]
  },
  {
   "cell_type": "markdown",
   "id": "71324689-0965-405d-b89f-5236b6e963a8",
   "metadata": {
    "jp-MarkdownHeadingCollapsed": true,
    "tags": []
   },
   "source": [
    "## Loading a local dataset"
   ]
  },
  {
   "cell_type": "code",
   "execution_count": 1,
   "id": "2dcbefba-e758-4bf4-aa59-e75df020305c",
   "metadata": {},
   "outputs": [
    {
     "name": "stdout",
     "output_type": "stream",
     "text": [
      "--2023-08-16 22:05:13--  https://github.com/crux82/squad-it/raw/master/SQuAD_it-train.json.gz\n",
      "Resolving github.com (github.com)... 140.82.113.4\n",
      "Connecting to github.com (github.com)|140.82.113.4|:443... connected.\n",
      "HTTP request sent, awaiting response... 302 Found\n",
      "Location: https://raw.githubusercontent.com/crux82/squad-it/master/SQuAD_it-train.json.gz [following]\n",
      "--2023-08-16 22:05:18--  https://raw.githubusercontent.com/crux82/squad-it/master/SQuAD_it-train.json.gz\n",
      "Resolving raw.githubusercontent.com (raw.githubusercontent.com)... 185.199.109.133, 185.199.108.133, 185.199.110.133, ...\n",
      "Connecting to raw.githubusercontent.com (raw.githubusercontent.com)|185.199.109.133|:443... connected.\n",
      "HTTP request sent, awaiting response... 200 OK\n",
      "Length: 7725286 (7.4M) [application/octet-stream]\n",
      "Saving to: ‘SQuAD_it-train.json.gz’\n",
      "\n",
      "SQuAD_it-train.json 100%[===================>]   7.37M  --.-KB/s    in 0.03s   \n",
      "\n",
      "2023-08-16 22:05:18 (254 MB/s) - ‘SQuAD_it-train.json.gz’ saved [7725286/7725286]\n",
      "\n",
      "--2023-08-16 22:05:19--  https://github.com/crux82/squad-it/raw/master/SQuAD_it-test.json.gz\n",
      "Resolving github.com (github.com)... 140.82.113.3\n",
      "Connecting to github.com (github.com)|140.82.113.3|:443... connected.\n",
      "HTTP request sent, awaiting response... 302 Found\n",
      "Location: https://raw.githubusercontent.com/crux82/squad-it/master/SQuAD_it-test.json.gz [following]\n",
      "--2023-08-16 22:05:24--  https://raw.githubusercontent.com/crux82/squad-it/master/SQuAD_it-test.json.gz\n",
      "Resolving raw.githubusercontent.com (raw.githubusercontent.com)... 185.199.108.133, 185.199.111.133, 185.199.109.133, ...\n",
      "Connecting to raw.githubusercontent.com (raw.githubusercontent.com)|185.199.108.133|:443... connected.\n",
      "HTTP request sent, awaiting response... 200 OK\n",
      "Length: 1051245 (1.0M) [application/octet-stream]\n",
      "Saving to: ‘SQuAD_it-test.json.gz’\n",
      "\n",
      "SQuAD_it-test.json. 100%[===================>]   1.00M  --.-KB/s    in 0.008s  \n",
      "\n",
      "2023-08-16 22:05:25 (133 MB/s) - ‘SQuAD_it-test.json.gz’ saved [1051245/1051245]\n",
      "\n"
     ]
    }
   ],
   "source": [
    "!wget https://github.com/crux82/squad-it/raw/master/SQuAD_it-train.json.gz\n",
    "!wget https://github.com/crux82/squad-it/raw/master/SQuAD_it-test.json.gz"
   ]
  },
  {
   "cell_type": "code",
   "execution_count": 2,
   "id": "6a13afd5-e311-4744-8b8d-dcea7f9edb8b",
   "metadata": {},
   "outputs": [
    {
     "name": "stdout",
     "output_type": "stream",
     "text": [
      "SQuAD_it-test.json.gz:\t 87.5% -- created SQuAD_it-test.json\n",
      "SQuAD_it-train.json.gz:\t 82.3% -- created SQuAD_it-train.json\n"
     ]
    }
   ],
   "source": [
    "!gzip -dkv SQuAD_it-*.json.gz"
   ]
  },
  {
   "cell_type": "code",
   "execution_count": 3,
   "id": "f642115a-44bc-4f64-ab3c-71efaf5cd3bb",
   "metadata": {},
   "outputs": [
    {
     "name": "stderr",
     "output_type": "stream",
     "text": [
      "Using custom data configuration default-eef1ed41c7f8af58\n"
     ]
    },
    {
     "name": "stdout",
     "output_type": "stream",
     "text": [
      "Downloading and preparing dataset json/default to /root/.cache/huggingface/datasets/json/default-eef1ed41c7f8af58/0.0.0/a3e658c4731e59120d44081ac10bf85dc7e1388126b92338344ce9661907f253...\n"
     ]
    },
    {
     "data": {
      "application/vnd.jupyter.widget-view+json": {
       "model_id": "97c5b8eddadc4403bccbaa002d0bcb4c",
       "version_major": 2,
       "version_minor": 0
      },
      "text/plain": [
       "Downloading data files:   0%|          | 0/1 [00:00<?, ?it/s]"
      ]
     },
     "metadata": {},
     "output_type": "display_data"
    },
    {
     "data": {
      "application/vnd.jupyter.widget-view+json": {
       "model_id": "3caebf8d9df442519025bb887253f5b7",
       "version_major": 2,
       "version_minor": 0
      },
      "text/plain": [
       "Extracting data files:   0%|          | 0/1 [00:00<?, ?it/s]"
      ]
     },
     "metadata": {},
     "output_type": "display_data"
    },
    {
     "data": {
      "application/vnd.jupyter.widget-view+json": {
       "model_id": "",
       "version_major": 2,
       "version_minor": 0
      },
      "text/plain": [
       "0 tables [00:00, ? tables/s]"
      ]
     },
     "metadata": {},
     "output_type": "display_data"
    },
    {
     "name": "stdout",
     "output_type": "stream",
     "text": [
      "Dataset json downloaded and prepared to /root/.cache/huggingface/datasets/json/default-eef1ed41c7f8af58/0.0.0/a3e658c4731e59120d44081ac10bf85dc7e1388126b92338344ce9661907f253. Subsequent calls will reuse this data.\n"
     ]
    },
    {
     "data": {
      "application/vnd.jupyter.widget-view+json": {
       "model_id": "88db4a72446742d98cb7713728ee70d5",
       "version_major": 2,
       "version_minor": 0
      },
      "text/plain": [
       "  0%|          | 0/1 [00:00<?, ?it/s]"
      ]
     },
     "metadata": {},
     "output_type": "display_data"
    },
    {
     "data": {
      "text/plain": [
       "DatasetDict({\n",
       "    train: Dataset({\n",
       "        features: ['title', 'paragraphs'],\n",
       "        num_rows: 442\n",
       "    })\n",
       "})"
      ]
     },
     "execution_count": 3,
     "metadata": {},
     "output_type": "execute_result"
    }
   ],
   "source": [
    "from datasets import load_dataset\n",
    "squad_it_dataset = load_dataset(\"json\", data_files=\"SQuAD_it-train.json\", field=\"data\")\n",
    "squad_it_dataset"
   ]
  },
  {
   "cell_type": "code",
   "execution_count": 5,
   "id": "70efa97e-6020-45d7-bf70-9784e1e7cce0",
   "metadata": {},
   "outputs": [
    {
     "data": {
      "text/plain": [
       "{'title': 'Terremoto del Sichuan del 2008',\n",
       " 'paragraphs': [{'context': \"Il terremoto del Sichuan del 2008 o il terremoto del Gran Sichuan, misurato a 8.0 Ms e 7.9 Mw, e si è verificato alle 02:28:01 PM China Standard Time all' epicentro (06:28:01 UTC) il 12 maggio nella provincia del Sichuan, ha ucciso 69.197 persone e lasciato 18.222 dispersi.\",\n",
       "   'qas': [{'answers': [{'answer_start': 29, 'text': '2008'}],\n",
       "     'id': '56cdca7862d2951400fa6826',\n",
       "     'question': 'In quale anno si è verificato il terremoto nel Sichuan?'},\n",
       "    {'answers': [{'answer_start': 232, 'text': '69.197'}],\n",
       "     'id': '56cdca7862d2951400fa6828',\n",
       "     'question': 'Quante persone sono state uccise come risultato?'},\n",
       "    {'answers': [{'answer_start': 29, 'text': '2008'}],\n",
       "     'id': '56d4f9902ccc5a1400d833c0',\n",
       "     'question': 'Quale anno ha avuto luogo il terremoto del Sichuan?'},\n",
       "    {'answers': [{'answer_start': 78, 'text': '8.0 Ms e 7.9 Mw'}],\n",
       "     'id': '56d4f9902ccc5a1400d833c1',\n",
       "     'question': 'Che cosa ha fatto la misura di sisma?'},\n",
       "    {'answers': [{'answer_start': 183, 'text': '12 maggio'}],\n",
       "     'id': '56d4f9902ccc5a1400d833c2',\n",
       "     'question': 'Che giorno si è verificato il terremoto?'},\n",
       "    {'answers': [{'answer_start': 118,\n",
       "       'text': '02:28:01 PM China Standard Time'}],\n",
       "     'id': '56d4f9902ccc5a1400d833c3',\n",
       "     'question': 'Che ora del giorno è accaduto il terremoto?'},\n",
       "    {'answers': [{'answer_start': 232, 'text': '69.197'}],\n",
       "     'id': '56d4f9902ccc5a1400d833c4',\n",
       "     'question': 'Quante persone sono morte?'}]},\n",
       "  {'context': 'E\\' noto anche come terremoto di Wenchuan (Cinese:????; pinyin: Wènchu? n dà dìzhèn; letteralmente:\"Grande terremoto di Wenchuan\"), dopo l\\' ubicazione dell\\' epicentro del terremoto, Wenchuan County, Sichuan. L\\' epicentro era di 80 chilometri (50 miglia) ad ovest nord-ovest di Chengdu, capoluogo di provincia, con una profondità focale di 19 km (12 miglia). Il terremoto ha colpito anche i paesi vicini e lontani da Pechino e Shanghai-1.500 km (930 mi) e 1.700 km (1.060 mi) di distanza, dove gli edifici adibiti a uffici hanno oscillato con il tremore. Forti scosse di assestamento, un po\\' superiori alla magnitudo 6, hanno continuato a colpire l\\' area anche mesi dopo il sisma principale, causando nuove vittime e danni.',\n",
       "   'qas': [{'answers': [{'answer_start': 415, 'text': 'Pechino e Shanghai'}],\n",
       "     'id': '56cdcb2c62d2951400fa6830',\n",
       "     'question': 'Quali città lontane in altri paesi potrebbero sentire il terremoto?'},\n",
       "    {'answers': [{'answer_start': 338, 'text': '19 km'}],\n",
       "     'id': '56cdcb2c62d2951400fa6833',\n",
       "     'question': 'Qual è stata la profondità focale del terremoto?'},\n",
       "    {'answers': [{'answer_start': 659, 'text': 'mesi dopo'}],\n",
       "     'id': '56cdcb2c62d2951400fa6834',\n",
       "     'question': 'Quanto tempo dopo il terremoto si sono sentite le scosse di assestamento?'},\n",
       "    {'answers': [{'answer_start': 181, 'text': 'Wenchuan County, Sichuan'}],\n",
       "     'id': '56d4fb6f2ccc5a1400d833d5',\n",
       "     'question': \"Dov' era l' epicentro del terremoto?\"},\n",
       "    {'answers': [{'answer_start': 227, 'text': '80 chilometri'}],\n",
       "     'id': '56d4fb6f2ccc5a1400d833d6',\n",
       "     'question': 'Quanto lontano era da Chengdu?'},\n",
       "    {'answers': [{'answer_start': 338, 'text': '19 km'}],\n",
       "     'id': '56d4fb6f2ccc5a1400d833d7',\n",
       "     'question': 'Qual era la profondità focale del sisma?'}]},\n",
       "  {'context': \"I dati ufficiali (al 21 luglio 2008 ore 12:00 CST) hanno dichiarato che 69.197 sono stati confermati morti, di cui 68.636 nella provincia del Sichuan e 374.176 feriti, di cui 18.222 scomparsi. Il terremoto ha lasciato circa 4,8 milioni di senzatetto, anche se il numero potrebbe raggiungere gli 11 milioni. Circa 15 milioni di persone vivevano nell' area colpita. E' stato il terremoto più mortale per colpire la Cina dopo il terremoto di Tangshan 1976, che ha ucciso almeno 240.000 persone, e il più forte del paese dal terremoto di Chayu 1950, che ha registrato a 8,5 sulla scala di magnitudo Richter. E' il 21° terremoto più morto di tutti i tempi. Il 6 novembre 2008, il governo centrale ha annunciato che avrebbe speso 1 trilione di RMB (circa 146,5 miliardi di dollari USA) nei prossimi tre anni per ricostruire le aree devastate dal terremoto, come parte del programma cinese di stimolo economico.\",\n",
       "   'qas': [{'answers': [{'answer_start': 72, 'text': '69.197'}],\n",
       "     'id': '56cdcbb762d2951400fa683a',\n",
       "     'question': 'Quante persone sono state confermate morte?'},\n",
       "    {'answers': [{'answer_start': 115, 'text': '68.636'}],\n",
       "     'id': '56cdcbb762d2951400fa683b',\n",
       "     'question': 'Quanti morti sono stati confermati solo nella provincia del Sichuan?'},\n",
       "    {'answers': [{'answer_start': 224, 'text': '4,8 milioni'}],\n",
       "     'id': '56cdcbb762d2951400fa683c',\n",
       "     'question': 'Quante persone sono rimaste senza tetto a causa del terremoto?'},\n",
       "    {'answers': [{'answer_start': 313, 'text': '15 milioni'}],\n",
       "     'id': '56cdcbb762d2951400fa683d',\n",
       "     'question': 'Quante persone hanno vissuto nella zona colpita?'},\n",
       "    {'answers': [{'answer_start': 724, 'text': '1 trilione di RMB'}],\n",
       "     'id': '56cdcbb762d2951400fa683e',\n",
       "     'question': 'Quanto denaro è stato destinato alla ricostruzione di aree devastate?'},\n",
       "    {'answers': [{'answer_start': 115, 'text': '68.636'}],\n",
       "     'id': '56d4fca52ccc5a1400d833de',\n",
       "     'question': 'Quante persone sono morte nella provincia del Sichuan?'},\n",
       "    {'answers': [{'answer_start': 152, 'text': '374.176'}],\n",
       "     'id': '56d4fca52ccc5a1400d833df',\n",
       "     'question': 'Quanti sono stati feriti nel Sichuan?'},\n",
       "    {'answers': [{'answer_start': 175, 'text': '18.222'}],\n",
       "     'id': '56d4fca52ccc5a1400d833e0',\n",
       "     'question': 'Quante persone sono elencate come scomparse?'},\n",
       "    {'answers': [{'answer_start': 224, 'text': '4,8 milioni'}],\n",
       "     'id': '56d4fca52ccc5a1400d833e1',\n",
       "     'question': 'Quante persone sono senzatetto a causa del terremoto?'},\n",
       "    {'answers': [{'answer_start': 295, 'text': '11 milioni'}],\n",
       "     'id': '56d4fca52ccc5a1400d833e2',\n",
       "     'question': 'Quanto potrebbe arrivare il numero dei senzatetto?'}]},\n",
       "  {'context': \"Il terremoto ha avuto una magnitudine di 8,0 Ms e 7,9 Mw. L' epicentro è stato in Wenchuan County, Ngawa Tibetano e Prefettura Autonoma di Qiang, 80 km ad ovest / nord-ovest del capoluogo di provincia di Chengdu, con il suo tremore principale che si verifica alle 14:28:01.42 China Standard Time (06:28:01.42 UTC), il 12 maggio 2008 della durata di circa 2 minuti, nel terremoto quasi l' 80% degli edifici sono stati distrutti.\",\n",
       "   'qas': [{'answers': [{'answer_start': 355, 'text': '2 minuti'}],\n",
       "     'id': '56cdcc5562d2951400fa6847',\n",
       "     'question': 'Quanto tempo è durato il terremoto?'},\n",
       "    {'answers': [{'answer_start': 388, 'text': '80%'}],\n",
       "     'id': '56cdcc5562d2951400fa6848',\n",
       "     'question': 'Quale percentuale di edifici è stata distrutta?'},\n",
       "    {'answers': [{'answer_start': 41, 'text': '8,0 Ms e 7,9 Mw'}],\n",
       "     'id': '56d4fe332ccc5a1400d833e8',\n",
       "     'question': 'Qual era la magnitudo del terremoto?'},\n",
       "    {'answers': [{'answer_start': 355, 'text': '2 minuti'}],\n",
       "     'id': '56d4fe332ccc5a1400d833eb',\n",
       "     'question': 'Quanto tempo è durato il tremore principale?'},\n",
       "    {'answers': [{'answer_start': 379, 'text': \"quasi l' 80%\"}],\n",
       "     'id': '56d4fe332ccc5a1400d833ec',\n",
       "     'question': 'Quale percentuale di edifici è stata distrutta durante il sisma?'}]},\n",
       "  {'context': \"Secondo uno studio della China Earthquake Administration (CEA), il terremoto si è verificato lungo la faglia Longmenshan, una struttura di spinta lungo il confine della piastra Indo-Australiana e placca eurasiatica. Le attività sismiche si sono concentrate sulla sua frattura media (nota come frattura Yingxiu-Beichuan). La rottura è durata quasi 120 sec, con la maggior parte dell' energia rilasciata nei primi 80 sec. Partendo da Wenchuan, la rottura si propagò ad una velocità media di 3,1 chilometri al secondo 49° verso nord-est, rompendosi per un totale di circa 300 km. Lo spostamento massimo ammontava a 9 metri. Il fuoco era più profondo di 10 km.\",\n",
       "   'qas': [{'answers': [{'answer_start': 347, 'text': '120 sec'}],\n",
       "     'id': '56cdccd962d2951400fa6850',\n",
       "     'question': 'Quanto tempo ha durato la rottura?'},\n",
       "    {'answers': [{'answer_start': 650, 'text': '10 km'}],\n",
       "     'id': '56cdccd962d2951400fa6852',\n",
       "     'question': 'Quanto è stato profondo il centro del terremoto?'},\n",
       "    {'answers': [{'answer_start': 293, 'text': 'frattura Yingxiu-Beichuan'}],\n",
       "     'id': '56d5005d2ccc5a1400d833f4',\n",
       "     'question': 'Su quale frattura ha messo a fuoco il terremoto?'},\n",
       "    {'answers': [{'answer_start': 612, 'text': '9 metri'}],\n",
       "     'id': '56d5005d2ccc5a1400d833f6',\n",
       "     'question': 'Qual è stato lo sfollamento più causato dal terremoto?'}]},\n",
       "  {'context': 'Yazhou Zhoukan, con sede in Malesia, ha condotto un\\' intervista con l\\' ex ricercatore presso il China Seismological Bureau Geng Qingguo (??), in cui Geng ha sostenuto che un rapporto scritto riservato è stato inviato all\\' Ufficio sismologico di Stato il 30 aprile 2008, avvertendo circa il possibile verificarsi di un terremoto significativo nella regione della prefettura di Ngawa del Sichuan intorno all\\' 8 maggio, con una gamma di 10 giorni prima o dopo il terremoto. Il Geng, pur riconoscendo che la predizione del terremoto era ampiamente considerata problematica dalla comunità scientifica, credeva che \"più grande è il terremoto, più facile è prevedere\". Geng aveva a lungo tentato di stabilire una correlazione tra il verificarsi di siccità e terremoti; Premier Zhou Enlai ha riferito che ha preso interesse nel lavoro di Geng. La teoria di correlazione siccità-terra terremoto di Geng è stata pubblicata per la prima volta nel 1972, e ha detto di aver pronosticato con successo i terremoti di Haicheng 1975 e 1976 Tangshan. Lo stesso articolo di Yazhou Zhoukan ha sottolineato le difficoltà intrinseche associate alla previsione dei terremoti.',\n",
       "   'qas': [{'answers': [{'answer_start': 936, 'text': '1972'}],\n",
       "     'id': '56cdce0b62d2951400fa685b',\n",
       "     'question': 'Quando è stata rilasciata la teoria di correlazione siccità-terra terremoto di Geng?'},\n",
       "    {'answers': [{'answer_start': 394, 'text': \"intorno all' 8 maggio\"}],\n",
       "     'id': '56d67a8d1c8504140094714f',\n",
       "     'question': 'Qual era il tempo previsto per il terremoto?'},\n",
       "    {'answers': [{'answer_start': 741, 'text': 'siccità'}],\n",
       "     'id': '56d67a8d1c85041400947150',\n",
       "     'question': 'Che cosa ha cercato Geng a lungo di stabilire come rapporto con i terremoti?'}]},\n",
       "  {'context': 'In uno studio dell\\' USGS (United States Geological Survey) i modelli preliminari di rottura del terremoto hanno indicato uno spostamento fino a 9 metri lungo un guasto lungo circa 240 km di lunghezza e 20 km di profondità. Il terremoto ha generato deformazioni della superficie superiori a 3 metri e ha aumentato lo stress (e la probabilità che si verifichino eventi futuri) alle estremità nord-orientale e sud-occidentale del guasto. Il 20 maggio, il sismologo dell\\' USGS Tom Parsons ha avvertito che c\\' è \"alto rischio\" di una grave scossa di assestamento M>7 nelle prossime settimane o mesi.',\n",
       "   'qas': [{'answers': [{'answer_start': 137, 'text': 'fino a 9 metri'}],\n",
       "     'id': '56cdcebe62d2951400fa6862',\n",
       "     'question': 'Quanto è stato grande lo spostamento?'},\n",
       "    {'answers': [{'answer_start': 473, 'text': 'Tom Parsons'}],\n",
       "     'id': '56cdcebe62d2951400fa6866',\n",
       "     'question': \"Chi ha prima messo in guardia da possibili attività sismiche nell' area?\"},\n",
       "    {'answers': [{'answer_start': 144, 'text': '9 metri'}],\n",
       "     'id': '56d5027a9d1b871400ae05e1',\n",
       "     'question': \"Che cosa ha mostrato il Geological Survey degli Stati Uniti come l' entità dello spostamento?\"},\n",
       "    {'answers': [{'answer_start': 202, 'text': '20 km di profondità'}],\n",
       "     'id': '56d5027a9d1b871400ae05e3',\n",
       "     'question': 'Quanto è profondo il guasto?'},\n",
       "    {'answers': [{'answer_start': 508, 'text': 'alto rischio'}],\n",
       "     'id': '56d5027a9d1b871400ae05e5',\n",
       "     'question': 'Che cosa ha considerato Tom Parsons come il fattore di rischio per forti terremoti futuri?'}]},\n",
       "  {'context': 'Sismologo giapponese Yuji Yagi Yuji Yagi presso l\\' Università di Tsukuba ha detto che il terremoto si è verificato in due fasi:\"Il 155 miglia Longmenshan Fault tore in due sezioni, il primo uno strappo di circa sette metri, seguita da un secondo che ha tosato quattro metri\". I suoi dati hanno anche mostrato che il terremoto è durato circa due minuti e ha rilasciato 30 volte l\\' energia del grande terremoto di Hanshin del 1995 in Giappone, che ha ucciso oltre 6.000 persone. Egli ha sottolineato che la scarsità dell\\' epicentro e la densità di popolazione hanno notevolmente aumentato la gravità del terremoto. Teruyuki Kato, un sismologo dell\\' Università di Tokyo, ha detto che le onde sismiche del terremoto hanno percorso una lunga distanza senza perdere il loro potere a causa della fermezza del terreno nella Cina centrale.',\n",
       "   'qas': [{'answers': [{'answer_start': 115, 'text': 'in due fasi'}],\n",
       "     'id': '56d504539d1b871400ae05eb',\n",
       "     'question': 'Come ha fatto Yuji Yagi a dire che il terremoto è successo?'},\n",
       "    {'answers': [{'answer_start': 142, 'text': 'Longmenshan Fault'}],\n",
       "     'id': '56d504539d1b871400ae05ec',\n",
       "     'question': 'Che errore si è verificato in due luoghi?'},\n",
       "    {'answers': [{'answer_start': 368, 'text': '30 volte'}],\n",
       "     'id': '56d504539d1b871400ae05ee',\n",
       "     'question': 'Quanta più energia di quella prodotta dal terremoto del 1995 in Giappone?'},\n",
       "    {'answers': [{'answer_start': 789, 'text': 'fermezza del terreno'}],\n",
       "     'id': '56d504539d1b871400ae05ef',\n",
       "     'question': 'Perché le onde sismiche hanno viaggiato finora?'}]},\n",
       "  {'context': 'Tra 64 e 104 scosse di assestamento importanti, di magnitudo compresa tra 4,0 e 6,1, sono state registrate entro 72 ore dal sisma principale. Secondo i conteggi ufficiali cinesi,\"alle ore 12:00 CST, 6 novembre 2008 c\\' erano state 42.719 scariche post-shock totali, di cui 246 variavano da 4,0 SM a 4,9 SM, 34 da 5,0 MS a 5,9 MS, e 8 da 6,0 Ms a 6,4 MS; l\\' urto post-shock più forte misurato 6,4 MS.\" L\\' ultima scossa post-shock superiore a M6 si è verificato il 5 agosto.',\n",
       "   'qas': [{'answers': [{'answer_start': 0, 'text': 'Tra 64 e 104'}],\n",
       "     'id': '56cdd08862d2951400fa6894',\n",
       "     'question': 'Quante sono state le scosse di assestamento?'},\n",
       "    {'answers': [{'answer_start': 107,\n",
       "       'text': 'entro 72 ore dal sisma principale'}],\n",
       "     'id': '56cdd08862d2951400fa6896',\n",
       "     'question': 'Quando sono state registrate le scosse di assestamento?'},\n",
       "    {'answers': [{'answer_start': 0, 'text': 'Tra 64 e 104'}],\n",
       "     'id': '56d505f99d1b871400ae05f5',\n",
       "     'question': 'Quante sono state le scosse di assestamento entro 72 ore?'},\n",
       "    {'answers': [{'answer_start': 230, 'text': '42.719'}],\n",
       "     'id': '56d505f99d1b871400ae05f6',\n",
       "     'question': 'Che cosa dicono i cinesi è il numero totale di shock dopo il terremoto?'},\n",
       "    {'answers': [{'answer_start': 272, 'text': '246'}],\n",
       "     'id': '56d505f99d1b871400ae05f8',\n",
       "     'question': 'In quale data si sono verificate le scosse di assestamento più recenti superiori a 6 SM?'}]},\n",
       "  {'context': '(Il terremoto della sig. ra 6.1 del 30 agosto 2008 nel Sichuan meridionale non faceva parte di questa serie perché è stato causato da una diversa colpa.',\n",
       "   'qas': [{'answers': [{'answer_start': 55, 'text': 'Sichuan meridionale'}],\n",
       "     'id': '56cdd10962d2951400fa68a0',\n",
       "     'question': 'Dove si è verificato il terremoto?'},\n",
       "    {'answers': [{'answer_start': 55, 'text': 'Sichuan meridionale'}],\n",
       "     'id': '56cdd10962d2951400fa68a2',\n",
       "     'question': \"Dov' era il terremoto del 30 agosto 2008?\"},\n",
       "    {'answers': [{'answer_start': 20, 'text': 'sig'}],\n",
       "     'id': '56d507269d1b871400ae05ff',\n",
       "     'question': 'Qual era la grandezza del terremoto del Sichuan meridionale?'}]},\n",
       "  {'context': 'La mappa dell\\' intensità sismica pubblicata dal CEA dopo aver rilevato 500.000 km2 dell\\' area colpita mostra una liedu massima di XI sulla scala di intensità sismica cinese (CSIS), descritta come \"molto distruttiva\" sulla scala macrosismica europea (EMS) da cui il CSIS ha tratto riferimento. (USGS, utilizzando la scala di intensità Mercalli modificata (CC), collocava anche l\\' intensità massima a XI,\"molto disastrosa\". Due strisce sud-ovest-nord-est di liedu XI sono centrate intorno a Yingxiu, Wenchuan (la città più vicina all\\' epicentro del terremoto principale) e Beichuan (la città ripetutamente colpita da forti scosse di assestamento tra cui una che registra MS 6.1 il 1 agosto 2008), entrambe nella provincia del Sichuan, occupando un totale di 2.419 km2. La zona Yingxiu liedu-XI è lunga circa 66 km e larga 20 km lungo Wenchuan-Dujiangyan-Pengzhou; la zona Beichuan liedu-XI è lunga circa 82 km e larga 15 km lungo An County-Beichuan-Pingwu. L\\' area con liedu X (comparabile a X su EMS,\"distruttivo\" e X su MM,\"disastroso\") ha una superficie di 3.144 km2.',\n",
       "   'qas': [{'answers': [{'answer_start': 48, 'text': 'CEA'}],\n",
       "     'id': '56cdd21562d2951400fa68b0',\n",
       "     'question': \"Chi ha pubblicato la mappa dell' intensità dei terremoti?\"},\n",
       "    {'answers': [{'answer_start': 130, 'text': 'XI'}],\n",
       "     'id': '56cdd21562d2951400fa68b2',\n",
       "     'question': 'A quale intensità è stata scalata?'},\n",
       "    {'answers': [{'answer_start': 489, 'text': 'Yingxiu, Wenchuan'}],\n",
       "     'id': '56d5098a9d1b871400ae0609',\n",
       "     'question': \"Quale città era più vicina all' epicentro principale?\"}]},\n",
       "  {'context': \"Il sistema Longmen Shan Fault System si trova al confine orientale dell' altopiano tibetano e contiene diversi difetti. Questo terremoto ha rotto almeno due strutture imbricate in Longmen Shan Fault System, vale a dire il Fault Beichuan e il Guanxian-Anxian Fault. Nell' area epicentrale, lo slittamento medio in Fault Beichuan era di circa 3,5 metri (11 ft) verticale, di 3,5 metri (11 ft) orizzontale parallelo al guasto, e di 4,8 metri (16 ft) orizzontale-pendicolare al guasto. Nell' area di circa 30 chilometri (19 miglia) a nord-est dell' epicentro, lo scivolamento superficiale su Beichuan Fault è stato quasi esclusivamente dextral strike-slip fino a circa 3 metri, mentre lo scivolamento medio in Guanxian-Anxian Fault è stato di circa 2 metri verticali (6 ft 7 in) e 2,3 metri (7 ft 7 in) orizzontali. il confine orientale dell' altopiano tibetano.\",\n",
       "   'qas': [{'answers': [{'answer_start': 665, 'text': '3 metri'}],\n",
       "     'id': '56cdd4d762d2951400fa68cd',\n",
       "     'question': 'Quanto è stato grande lo slip 30 km a nord-est del guasto?'},\n",
       "    {'answers': [{'answer_start': 745, 'text': '2 metri'}],\n",
       "     'id': '56cdd4d762d2951400fa68ce',\n",
       "     'question': 'Qual è stato lo slittamento verticale media sul Guanxian-Anxian errore?'},\n",
       "    {'answers': [{'answer_start': 777, 'text': '2,3 metri'}],\n",
       "     'id': '56cdd4d762d2951400fa68cf',\n",
       "     'question': 'Che cosa è stato lo slittamento orizzontale media sul Guanxian-Anxian errore?'},\n",
       "    {'answers': [{'answer_start': 73, 'text': 'altopiano tibetano'}],\n",
       "     'id': '56cdd4d762d2951400fa68d0',\n",
       "     'question': 'Dove si trova il guasto dello shan Longmen?'},\n",
       "    {'answers': [{'answer_start': 3,\n",
       "       'text': 'sistema Longmen Shan Fault System'}],\n",
       "     'id': '56d516439d1b871400ae0611',\n",
       "     'question': 'Dove sono i guasti Beichuan e Guanxian-Ansia?'},\n",
       "    {'answers': [{'answer_start': 341, 'text': '3,5 metri'}],\n",
       "     'id': '56d516439d1b871400ae0612',\n",
       "     'question': 'Qual è stato lo slittamento verticale medio nel difetto di Beichaun?'},\n",
       "    {'answers': [{'answer_start': 341, 'text': '3,5 metri'}],\n",
       "     'id': '56d516439d1b871400ae0613',\n",
       "     'question': \"Qual è stato lo slittamento orizzontale nel Fault Beichuan all' epicentro?\"},\n",
       "    {'answers': [{'answer_start': 429, 'text': '4,8 metri'}],\n",
       "     'id': '56d516439d1b871400ae0614',\n",
       "     'question': 'Qual è stato lo slittamento orizzontale perpendicolare al guasto?'}]},\n",
       "  {'context': 'Gli edifici per uffici nel distretto finanziario di Shanghai, tra cui la Jin Mao Tower e la Hong Kong New World Tower, sono stati evacuati. Un receptionist al Tibet Hotel di Chengdu ha detto che le cose erano \"calme\" dopo che l\\' hotel ha evacuato i suoi ospiti. Nel frattempo, i lavoratori di uno stabilimento Ford nel Sichuan sono stati evacuati per circa 10 minuti. L\\' aeroporto internazionale di Chengdu Shuangliu è stato chiuso e la torre di controllo e il controllo radar regionale sono stati evacuati. Un volo di SilkAir è stato deviato e atterrato a Kunming. Cathay Pacific ha ritardato entrambe le tratte del suo quadruplo quotidiano Hong Kong a Londra a causa di questa perturbazione dei servizi di traffico aereo. Chengdu Shuangliu Aeroporto riaperto più tardi la sera del 12 maggio, offrendo un servizio limitato come l\\' aeroporto ha cominciato ad essere utilizzato come una zona di sosta per le operazioni di soccorso.',\n",
       "   'qas': [{'answers': [{'answer_start': 210, 'text': 'calm'}],\n",
       "     'id': '56cdd63a62d2951400fa68d7',\n",
       "     'question': \"Come ha descritto un receptionist l' atmosfera dopo l' evacuazione?\"},\n",
       "    {'answers': [{'answer_start': 357, 'text': '10 minuti'}],\n",
       "     'id': '56cdd63a62d2951400fa68d8',\n",
       "     'question': 'Per quanto tempo sono stati evacuati i lavoratori di Ford Plant?'},\n",
       "    {'answers': [{'answer_start': 371,\n",
       "       'text': 'aeroporto internazionale di Chengdu Shuangliu'}],\n",
       "     'id': '56cdd63a62d2951400fa68d9',\n",
       "     'question': 'Quale aeroporto è stato chiuso?'},\n",
       "    {'answers': [{'answer_start': 783, 'text': '12 maggio'}],\n",
       "     'id': '56cdd63a62d2951400fa68da',\n",
       "     'question': \"Quando è stato riaperto l' aeroporto?\"},\n",
       "    {'answers': [{'answer_start': 907, 'text': 'operazioni di soccorso'}],\n",
       "     'id': '56d5185a9d1b871400ae061d',\n",
       "     'question': \"A cosa servivano l' aeroporto per fare tappa?\"}]},\n",
       "  {'context': \"Reporter a Chengdu hanno detto che hanno visto crepe sulle pareti di alcuni edifici residenziali nelle zone del centro, ma nessun edificio è crollato. Molti uffici di Pechino torri ufficio sono stati evacuati, tra cui l' edificio che ospita gli uffici dei media per gli organizzatori delle Olimpiadi estive 2008. Nessuna delle sedi olimpiche sono state danneggiate. Nel frattempo, un treno cargo che trasportava 13 cisterne a benzina deragliato nella contea di Hui, Gansu, e prese fuoco dopo che la ferrovia era stata distorta.\",\n",
       "   'qas': [{'answers': [{'answer_start': 9, 'text': 'a Chengdu'}],\n",
       "     'id': '56cddec762d2951400fa692c',\n",
       "     'question': 'Dove hanno detto i giornalisti che hanno visto crepe sulle pareti di alcuni edifici?'},\n",
       "    {'answers': [{'answer_start': 167, 'text': 'Pechino'}],\n",
       "     'id': '56cddec762d2951400fa692d',\n",
       "     'question': 'Dove sono state evacuate le torri degli uffici?'},\n",
       "    {'answers': [{'answer_start': 47, 'text': 'crepe sulle pareti'}],\n",
       "     'id': '56d519a82593cc1400307a6b',\n",
       "     'question': 'Cosa è stato riportato in Chengdu?'}]},\n",
       "  {'context': \"Tutte le autostrade in Wenchuan, e altri in tutta la provincia, sono stati danneggiati, con conseguente ritardo di arrivo delle truppe di soccorso. Nella contea di Beichuan, l' 80% degli edifici è crollato secondo Xinhua News. Nella città di Shifang, il crollo di due impianti chimici ha portato alla fuoriuscita di circa 80 tonnellate di ammoniaca liquida, con centinaia di persone segnalate sepolte. Nella città di Dujiangyan, a sud-est dell' epicentro, un' intera scuola è crollata con 900 studenti sepolti e meno di 60 sopravvissuti. La Juyuan Middle School, dove sono stati sepolti molti adolescenti, è stata scavata da civili e gru. Dujiangyan è la sede del Dujiangyan Irrigation System, un antico progetto di deviazione dell' acqua che è ancora in uso ed è un patrimonio mondiale dell' UNESCO. La famosa bocca di pesce del progetto è stata incrinata, ma non gravemente danneggiata altrimenti.\",\n",
       "   'qas': [{'answers': [{'answer_start': 0, 'text': 'Tutte le autostrade'}],\n",
       "     'id': '56cddf9e62d2951400fa6934',\n",
       "     'question': 'Quante autostrade che conducono a Wenchuan sono state danneggiate?'},\n",
       "    {'answers': [{'answer_start': 177, 'text': '80%'}],\n",
       "     'id': '56cddf9e62d2951400fa6936',\n",
       "     'question': \"Quale percentuale dell' edificio è crollata a Beichuan?\"},\n",
       "    {'answers': [{'answer_start': 417, 'text': 'Dujiangyan'}],\n",
       "     'id': '56cddf9e62d2951400fa6937',\n",
       "     'question': 'Dove sono crollati due impianti chimici?'},\n",
       "    {'answers': [{'answer_start': 520, 'text': '60'}],\n",
       "     'id': '56cddf9e62d2951400fa6938',\n",
       "     'question': 'Quanti studenti su 900 nella scuola sono sopravvissuti al crollo?'},\n",
       "    {'answers': [{'answer_start': 0, 'text': 'Tutte le autostrade'}],\n",
       "     'id': '56d51b832593cc1400307a75',\n",
       "     'question': 'Quali autostrade di Wenchuan sono state danneggiate?'},\n",
       "    {'answers': [{'answer_start': 177, 'text': '80%'}],\n",
       "     'id': '56d51b832593cc1400307a77',\n",
       "     'question': 'Quanti edifici di Beichuan sono crollati?'},\n",
       "    {'answers': [{'answer_start': 264, 'text': 'due impianti chimici'}],\n",
       "     'id': '56d51b832593cc1400307a78',\n",
       "     'question': 'Quale ammoniaca liquida fuoriuscita a Shifang?'},\n",
       "    {'answers': [{'answer_start': 512, 'text': 'meno di 60'}],\n",
       "     'id': '56d51b832593cc1400307a79',\n",
       "     'question': 'Quanti dei 900 studenti sepolti in un crollo scolastico Dujiangyan sono sopravvissuti?'}]},\n",
       "  {'context': 'Sia la borsa valori di Shanghai che la Shenzhen Stock Exchange hanno sospeso il commercio di società con sede nella Cina sudoccidentale. Il rame è aumentato a causa delle speculazioni che la produzione nel sud-ovest della Cina potrebbe essere influenzata, e i prezzi del petrolio è sceso a fronte di speculazioni che la domanda dalla Cina sarebbe scesa.',\n",
       "   'qas': [{'answers': [{'answer_start': 116, 'text': 'Cina sudoccidentale'}],\n",
       "     'id': '56cddfff62d2951400fa693f',\n",
       "     'question': 'Dove si sono basati gli scambi?'},\n",
       "    {'answers': [{'answer_start': 140, 'text': 'rame'}],\n",
       "     'id': '56cddfff62d2951400fa6940',\n",
       "     'question': 'Quale metallo è aumentato di valore?'},\n",
       "    {'answers': [{'answer_start': 275, 'text': 'olio'}],\n",
       "     'id': '56cddfff62d2951400fa6941',\n",
       "     'question': 'Quale risorsa naturale è diminuita di valore?'},\n",
       "    {'answers': [{'answer_start': 116, 'text': 'Cina sudoccidentale'}],\n",
       "     'id': '56d51d272593cc1400307a80',\n",
       "     'question': 'Dove si trovavano le società che avevano sospeso il loro commercio di azioni?'},\n",
       "    {'answers': [{'answer_start': 140, 'text': 'rame'}],\n",
       "     'id': '56d51d272593cc1400307a81',\n",
       "     'question': 'Quale metallo è aumentato a causa della speculazione?'},\n",
       "    {'answers': [{'answer_start': 39, 'text': 'Shenzhen Stock Exchange'}],\n",
       "     'id': '56d51d272593cc1400307a83',\n",
       "     'question': 'Oltre alla borsa valori di Shanghai, quale altra borsa sospesa negoziazione di titoli azionari sud-ovest della Cina?'}]},\n",
       "  {'context': \"Immediatamente dopo l' evento sismico, le telecomunicazioni mobili e terrestri sono state tagliate verso l' area colpita e quella circostante, con tutte le capacità internet tagliate anche verso l' area del Sichuan. Elementi di telecomunicazioni sono stati ripristinati dal governo pezzo per pezzo nel corso dei prossimi mesi come la situazione nella provincia del Sichuan gradualmente migliorata. Alla fine, una manciata di importanti siti web di notizie e media sono stati resi accessibili online nella regione, anche se con pagine web drammaticamente ridotte.\",\n",
       "   'qas': [{'answers': [{'answer_start': 165, 'text': 'internet'}],\n",
       "     'id': '56cde07662d2951400fa6947',\n",
       "     'question': \"Quali capacità sono state tagliate all' intera area del Sichuan?\"},\n",
       "    {'answers': [{'answer_start': 321, 'text': 'mesi'}],\n",
       "     'id': '56cde07662d2951400fa6948',\n",
       "     'question': 'Quanto tempo ci è voluto per ripristinare queste capacità?'},\n",
       "    {'answers': [{'answer_start': 42, 'text': 'telecomunicazioni'}],\n",
       "     'id': '56d51ea52593cc1400307a89',\n",
       "     'question': 'Cosa è stato tagliato dopo il terremoto?'},\n",
       "    {'answers': [{'answer_start': 436, 'text': 'siti web di notizie e media'}],\n",
       "     'id': '56d51ea52593cc1400307a8c',\n",
       "     'question': \"Quali servizi internet sono diminuiti nell' area?\"}]},\n",
       "  {'context': \"China Mobile ha avuto più di 2.300 stazioni base sospese a causa di interruzione dell' alimentazione o grave congestione del traffico delle telecomunicazioni. Metà delle comunicazioni wireless sono andate perse nella provincia del Sichuan. Il servizio di China Unicom a Wenchuan e in quattro contee vicine è stato interrotto, con più di 700 torri sospese.\",\n",
       "   'qas': [{'answers': [{'answer_start': 29, 'text': '2.300'}],\n",
       "     'id': '56cde11f62d2951400fa694c',\n",
       "     'question': 'Quante stazioni base sono state sospese?'},\n",
       "    {'answers': [{'answer_start': 29, 'text': '2.300'}],\n",
       "     'id': '56d5202a2593cc1400307a93',\n",
       "     'question': 'Quante stazioni base China Mobile hanno smesso di funzionare?'},\n",
       "    {'answers': [{'answer_start': 109, 'text': 'congestione del traffico'}],\n",
       "     'id': '56d5202a2593cc1400307a94',\n",
       "     'question': \"Oltre all' interruzione dell' alimentazione, cosa ha causato la sospensione delle telecomunicazioni?\"},\n",
       "    {'answers': [{'answer_start': 159, 'text': 'Metà'}],\n",
       "     'id': '56d5202a2593cc1400307a95',\n",
       "     'question': 'Quante comunicazioni wireless sono fallite nel Sichuan?'},\n",
       "    {'answers': [{'answer_start': 255, 'text': 'China Unicom'}],\n",
       "     'id': '56d5202a2593cc1400307a96',\n",
       "     'question': 'Chi servizio a Wenchuan è stato interrotto?'},\n",
       "    {'answers': [{'answer_start': 337, 'text': '700'}],\n",
       "     'id': '56d5202a2593cc1400307a97',\n",
       "     'question': 'Quante torri di China Unicom sono state tagliate?'}]},\n",
       "  {'context': \"Inizialmente, i funzionari non erano in grado di contattare la Wolong National Nature Reserve, sede di circa 280 panda giganti. Tuttavia, il Ministero degli Esteri in seguito ha detto che un gruppo di 31 turisti britannici che visitano la riserva Wolong Panda nella zona colpita dal terremoto ha restituito sicuro e indenne a Chengdu. Tuttavia, il benessere di un numero ancora maggiore di panda nelle vicine riserve del panda è rimasto sconosciuto. Cinque guardie di sicurezza della riserva sono state uccise dal terremoto. Sei panda sono fuggiti dopo che i loro recinti sono stati danneggiati. Entro il 20 maggio, due panda presso la riserva sono stati trovati per essere feriti, mentre la ricerca è continuata per altri due panda adulti che è andato perduto dopo il terremoto. Al 28 maggio 2008 mancava ancora un panda. Il panda mancante è stato poi trovato morto sotto le macerie di un recinto. Mao Mao Mao Mao, nove anni, madre di cinque anni nel centro di allevamento, è stata scoperta lunedì, il suo corpo schiacciato da un muro nel suo recinto. I detentori di panda e altri lavoratori hanno messo i suoi resti in una piccola cassa di legno e l' hanno seppellita fuori dal centro di allevamento.\",\n",
       "   'qas': [{'answers': [{'answer_start': 103, 'text': 'circa 280'}],\n",
       "     'id': '56cde1f462d2951400fa695f',\n",
       "     'question': 'Quanti panda vivono nella riserva?'},\n",
       "    {'answers': [{'answer_start': 201, 'text': '31'}],\n",
       "     'id': '56cde1f462d2951400fa6960',\n",
       "     'question': 'Quanti visitatori britannici della Riserva hanno lasciato illeso?'},\n",
       "    {'answers': [{'answer_start': 109, 'text': '2'}],\n",
       "     'id': '56cde1f462d2951400fa6961',\n",
       "     'question': 'Quanti panda sono stati feriti?'},\n",
       "    {'answers': [{'answer_start': 63,\n",
       "       'text': 'Wolong National Nature Reserve'}],\n",
       "     'id': '56d521ee2593cc1400307a9d',\n",
       "     'question': 'Quale centro naturalistico è stato tagliato?'},\n",
       "    {'answers': [{'answer_start': 525, 'text': 'Sei'}],\n",
       "     'id': '56d521ee2593cc1400307a9f',\n",
       "     'question': 'Quanti panda sono fuggiti dalla riserva?'},\n",
       "    {'answers': [{'answer_start': 450, 'text': 'cinque'}],\n",
       "     'id': '56d521ee2593cc1400307aa0',\n",
       "     'question': 'Quante guardie di sicurezza sono morte nella riserva?'},\n",
       "    {'answers': [{'answer_start': 899, 'text': 'Mao Mao Mao'}],\n",
       "     'id': '56d521ee2593cc1400307aa1',\n",
       "     'question': 'Quale famoso panda è stato ucciso sotto le macerie?'}]},\n",
       "  {'context': \"La centrale idroelettrica Zipingpu (semplificata cinese:????; tradizionale cinese:??????) situata a 20 km ad est dell' epicentro è stata danneggiata. Da una recente ispezione è emerso che il danno era meno grave di quanto inizialmente temuto e resta strutturalmente stabile e sicuro. Il serbatoio di Tulong a monte rischia di crollare. Circa 2.000 soldati sono stati assegnati a Zipingpu, cercando di liberare la pressione attraverso lo sfioratore. In totale sono state segnalate 391 dighe, per la maggior parte di piccole dimensioni, danneggiate dal sisma.\",\n",
       "   'qas': [{'answers': [{'answer_start': 342, 'text': '2.000'}],\n",
       "     'id': '56cde29b62d2951400fa696b',\n",
       "     'question': 'Quante truppe sono state assegnate a Zipingpu?'},\n",
       "    {'answers': [{'answer_start': 480, 'text': '391'}],\n",
       "     'id': '56cde29b62d2951400fa696c',\n",
       "     'question': 'Quante dighe sono state danneggiate?'},\n",
       "    {'answers': [{'answer_start': 100, 'text': '20 km'}],\n",
       "     'id': '56d523bd2593cc1400307aa8',\n",
       "     'question': \"Quanto era vicina all' epicentro la centrale elettrica?\"},\n",
       "    {'answers': [{'answer_start': 201, 'text': 'meno grave'}],\n",
       "     'id': '56d523bd2593cc1400307aa9',\n",
       "     'question': 'Che cosa è emerso da una recente ispezione sui danni alla centrale?'},\n",
       "    {'answers': [{'answer_start': 480, 'text': '391'}],\n",
       "     'id': '56d523bd2593cc1400307aab',\n",
       "     'question': 'Qual è il numero totale di dighe danneggiate?'}]},\n",
       "  {'context': \"Secondo i funzionari di Stato cinesi, il terremoto ha causato 69.180 morti conosciute tra cui 68.636 nella provincia del Sichuan; 18.498 persone sono elencate come scomparse, e 374.176 feriti, ma queste cifre possono ulteriormente aumentare con l' arrivo di più rapporti.\",\n",
       "   'qas': [{'answers': [{'answer_start': 94, 'text': '68.636'}],\n",
       "     'id': '56cde34662d2951400fa6973',\n",
       "     'question': 'Quanti decessi sono stati segnalati solo nella provincia del Sichuan?'},\n",
       "    {'answers': [{'answer_start': 130, 'text': '18.498'}],\n",
       "     'id': '56cde34662d2951400fa6974',\n",
       "     'question': \"Quante persone sono state inserite nell' elenco come scomparse?\"},\n",
       "    {'answers': [{'answer_start': 177, 'text': '374.176'}],\n",
       "     'id': '56cde34662d2951400fa6975',\n",
       "     'question': 'Quante persone sono rimaste ferite?'},\n",
       "    {'answers': [{'answer_start': 94, 'text': '68.636'}],\n",
       "     'id': '56d525192593cc1400307ab1',\n",
       "     'question': 'Quanti morti nel Sichuan?'},\n",
       "    {'answers': [{'answer_start': 62, 'text': '69.180'}],\n",
       "     'id': '56d525192593cc1400307ab2',\n",
       "     'question': 'Qual è il conteggio totale dei morti noti causati dal terremoto?'},\n",
       "    {'answers': [{'answer_start': 130, 'text': '18.498'}],\n",
       "     'id': '56d525192593cc1400307ab3',\n",
       "     'question': 'Qual è il numero di persone scomparse?'},\n",
       "    {'answers': [{'answer_start': 177, 'text': '374.176'}],\n",
       "     'id': '56d525192593cc1400307ab4',\n",
       "     'question': 'Quante persone sono rimaste ferite?'}]},\n",
       "  {'context': \"Una squadra di soccorso ha riportato solo 2.300 sopravvissuti della città di Yingxiu nella contea di Wenchuan, su una popolazione totale di circa 9.000 abitanti. Da 3.000 a 5.000 persone sono state uccise nella sola contea di Beichuan, nel Sichuan; nello stesso luogo, 10.000 persone sono rimaste ferite e l' 80% degli edifici sono stati distrutti. L' antica sede della contea di Beichuan è stata abbandonata e conservata come parte del Beichuan Earthquake Museum. Otto scuole sono state abbattute nel Dujiangyan. Un cinquantaseienne è stato ucciso a Dujiangyan durante un tentativo di salvataggio sulla Lingyanshan Ropeway, dove a causa del terremoto 11 turisti taiwanesi erano rimasti intrappolati all' interno di funivie dal 13 maggio. Un ragazzo di 4 anni di nome Zhu Shaowei (cinese tradizionale:???; cinese semplificato:???; pinyin: Zh? Shàowéi) è stato ucciso anche a Mianzhu City quando una casa è crollata su di lui e un altro è stato segnalato perduto.\",\n",
       "   'qas': [{'answers': [{'answer_start': 42, 'text': '2.300'}],\n",
       "     'id': '56ceb9c4aab44d1400b8892b',\n",
       "     'question': 'Quanti sopravvissuti ci sono stati da Yingxiu?'},\n",
       "    {'answers': [{'answer_start': 146, 'text': '9.000'}],\n",
       "     'id': '56ceb9c4aab44d1400b8892d',\n",
       "     'question': 'Quante persone in totale vivevano a Yingxiu?'},\n",
       "    {'answers': [{'answer_start': 162, 'text': 'Da 3.000 a 5.000'}],\n",
       "     'id': '56ceb9c4aab44d1400b8892e',\n",
       "     'question': 'Quante persone sono state uccise nella contea di Beichuan?'},\n",
       "    {'answers': [{'answer_start': 269, 'text': '10.000'}],\n",
       "     'id': '56ceb9c4aab44d1400b8892f',\n",
       "     'question': 'Quante persone sono rimaste ferite nella contea di Beichuan?'},\n",
       "    {'answers': [{'answer_start': 42, 'text': '2.300'}],\n",
       "     'id': '56d5307f2593cc1400307abb',\n",
       "     'question': \"Quanti sopravvissuti c' erano nella città di Yingxiu?\"},\n",
       "    {'answers': [{'answer_start': 140, 'text': 'circa 9.000'}],\n",
       "     'id': '56d5307f2593cc1400307abc',\n",
       "     'question': 'Qual era la popolazione precedente di Yingxiu?'},\n",
       "    {'answers': [{'answer_start': 162, 'text': 'Da 3.000 a 5.000'}],\n",
       "     'id': '56d5307f2593cc1400307abd',\n",
       "     'question': 'Quanti residenti sono stati uccisi nella contea di Beichuan?'},\n",
       "    {'answers': [{'answer_start': 269, 'text': '10.000'}],\n",
       "     'id': '56d5307f2593cc1400307abe',\n",
       "     'question': 'Quanto è stato grande il numero di feriti nella contea di Beichuan?'},\n",
       "    {'answers': [{'answer_start': 465, 'text': 'Otto scuole'}],\n",
       "     'id': '56d5307f2593cc1400307abf',\n",
       "     'question': 'Qual è il numero di scuole crollate in Dujiangyan?'}]},\n",
       "  {'context': 'Gli esperti sottolineano che il terremoto ha colpito un\\' area in gran parte trascurata e non toccata dall\\' ascesa economica della Cina. L\\' assistenza sanitaria è carente nelle zone interne come il Sichuan, il che mette in evidenza il crescente divario tra gli abitanti urbani prosperi e le popolazioni rurali in difficoltà. Vice Ministro della Sanità Gao Qiang ha detto ai giornalisti a Pechino che il \"sistema sanitario pubblico in Cina è insufficiente\".',\n",
       "   'qas': [{'answers': [{'answer_start': 351, 'text': 'Gao Qiang'}],\n",
       "     'id': '56ceba72aab44d1400b88936',\n",
       "     'question': 'Chi era il Vice Ministro della Salute?'},\n",
       "    {'answers': [{'answer_start': 176, 'text': 'zone interne'}],\n",
       "     'id': '56d5324d2593cc1400307ac6',\n",
       "     'question': \"Dove è povera l' assistenza sanitaria in Cina?\"},\n",
       "    {'answers': [{'answer_start': 440, 'text': 'insufficiente'}],\n",
       "     'id': '56d5324d2593cc1400307ac7',\n",
       "     'question': 'Che cosa ha chiamato il Vice Ministro della Salute il sistema sanitario pubblico in Cina?'}]},\n",
       "  {'context': 'In termini di feriti scolastici, migliaia di bambini sono morti a causa di costruzioni scadenti. A Mianyang City, sette scuole sono crollate, seppellendo almeno 1.700 persone. Almeno 7.000 edifici scolastici in tutta la provincia sono crollati. Altri 700 studenti sono stati sepolti in una scuola di Hanwang. Alla scuola elementare Juyuan sono morti almeno 600 studenti e personale. Fino a 1.300 bambini e insegnanti sono morti alla Beichuan Middle School.',\n",
       "   'qas': [{'answers': [{'answer_start': 33, 'text': 'migliaia'}],\n",
       "     'id': '56cebae8aab44d1400b8893d',\n",
       "     'question': 'Quanti bambini sono morti a causa di costruzioni scadenti?'},\n",
       "    {'answers': [{'answer_start': 114, 'text': 'sette'}],\n",
       "     'id': '56cebae8aab44d1400b8893e',\n",
       "     'question': 'Quante scuole sono crollate a Mianyang City?'},\n",
       "    {'answers': [{'answer_start': 161, 'text': '1.700'}],\n",
       "     'id': '56cebae8aab44d1400b8893f',\n",
       "     'question': 'Quante persone sono state sepolte nelle scuole crollate?'},\n",
       "    {'answers': [{'answer_start': 183, 'text': '7.000'}],\n",
       "     'id': '56cebae8aab44d1400b88940',\n",
       "     'question': 'Quanti edifici scolastici sono crollati in provincia?'},\n",
       "    {'answers': [{'answer_start': 163, 'text': '700'}],\n",
       "     'id': '56cebae8aab44d1400b88941',\n",
       "     'question': 'Quanti studenti sono stati sepolti in una scuola di Hanwang?'},\n",
       "    {'answers': [{'answer_start': 114, 'text': 'sette'}],\n",
       "     'id': '56d533a52593cc1400307ad0',\n",
       "     'question': 'Quante scuole sono crollate a Mianyang City?'},\n",
       "    {'answers': [{'answer_start': 183, 'text': '7.000'}],\n",
       "     'id': '56d533a52593cc1400307ad1',\n",
       "     'question': 'Quanti edifici scolastici sono caduti in tutta la provincia?'},\n",
       "    {'answers': [{'answer_start': 357, 'text': '600'}],\n",
       "     'id': '56d533a52593cc1400307ad2',\n",
       "     'question': 'Quanti sono stati uccisi alla scuola elementare di Juyuan?'}]},\n",
       "  {'context': \"I dettagli delle vittime scolastiche sono stati oggetto di indagini non governative dal dicembre 2008 da parte di volontari, tra cui l' artista e architetto Ai Weiwei, che dal marzo 2009 ha costantemente pubblicato aggiornamenti sul suo blog. Il conteggio ufficiale degli studenti uccisi nel terremoto è stato rilasciato solo il 7 maggio 2009, quasi un anno dopo il terremoto. Secondo l' agenzia di stampa statale Xinhua, il terremoto ha ucciso 5.335 studenti e lasciato altri 546 bambini disabili. All' indomani del terremoto, il governo cinese ha dichiarato che i genitori che avevano perso i loro soli figli avrebbero ricevuto cure gratuite da cliniche di fertilità per invertire vasectomie e legature tubarie condotte dalle autorità di pianificazione familiare.\",\n",
       "   'qas': [{'answers': [{'answer_start': 88, 'text': 'dicembre 2008'}],\n",
       "     'id': '56cebb71aab44d1400b88951',\n",
       "     'question': \"Quando si è svolta un' indagine in seguito a incidenti scolastici?\"},\n",
       "    {'answers': [{'answer_start': 329, 'text': '7 maggio 2009'}],\n",
       "     'id': '56cebb71aab44d1400b88952',\n",
       "     'question': 'Quando è stato rilasciato il conteggio ufficiale degli studenti uccisi nel terremoto?'},\n",
       "    {'answers': [{'answer_start': 445, 'text': '5.335'}],\n",
       "     'id': '56cebb71aab44d1400b88953',\n",
       "     'question': 'Quanti studenti sono stati uccisi a Xinhua?'},\n",
       "    {'answers': [{'answer_start': 477, 'text': '546'}],\n",
       "     'id': '56cebb71aab44d1400b88954',\n",
       "     'question': 'Quanti studenti sono stati disabili a Xinhua?'},\n",
       "    {'answers': [{'answer_start': 329, 'text': '7 maggio 2009'}],\n",
       "     'id': '56d5357b2593cc1400307ad9',\n",
       "     'question': 'Qual è stata la data in cui è stato rilasciato il numero ufficiale degli studenti uccisi nel terremoto?'},\n",
       "    {'answers': [{'answer_start': 157, 'text': 'Ai Weiwei'}],\n",
       "     'id': '56d5357b2593cc1400307ada',\n",
       "     'question': 'Chi ha tenuto un blog sui decessi scolastici?'},\n",
       "    {'answers': [{'answer_start': 445, 'text': '5.335'}],\n",
       "     'id': '56d5357b2593cc1400307adb',\n",
       "     'question': 'Qual è il numero totale di bambini che hanno perso la scuola?'},\n",
       "    {'answers': [{'answer_start': 477, 'text': '546'}],\n",
       "     'id': '56d5357b2593cc1400307adc',\n",
       "     'question': 'Quanti bambini sono disabili?'},\n",
       "    {'answers': [{'answer_start': 647, 'text': 'cliniche di fertilità'}],\n",
       "     'id': '56d5357b2593cc1400307add',\n",
       "     'question': 'Dove ha deciso il governo cinese che i genitori che avevano perso i figli potessero farsi curare gratuitamente?'}]},\n",
       "  {'context': \"Il terremoto ha lasciato almeno 5 milioni di persone senza alloggio, anche se il numero potrebbe raggiungere gli 11 milioni. Milioni di animali da allevamento e una notevole quantità di agricoltura sono stati distrutti, tra cui 12,5 milioni di animali, principalmente uccelli. Nella provincia del Sichuan sono morti un milione di suini su un totale di 60 milioni. Catastrophe modeling firm AIR Worldwide ha riportato stime ufficiali delle perdite degli assicuratori pari a 1 miliardo di dollari USA dal terremoto; i danni totali stimati superano i 20 miliardi di dollari USA. Valorizza Chengdu, all' epoca con una popolazione urbana di 4,5 milioni di persone, a circa 115 miliardi di dollari, con solo una piccola parte coperta da assicurazioni.\",\n",
       "   'qas': [{'answers': [{'answer_start': 32, 'text': '5 milioni'}],\n",
       "     'id': '56cebbdeaab44d1400b88959',\n",
       "     'question': 'Quante persone sono rimaste senza alloggio?'},\n",
       "    {'answers': [{'answer_start': 113, 'text': '11 milioni'}],\n",
       "     'id': '56cebbdeaab44d1400b8895a',\n",
       "     'question': 'Quante persone potrebbero essere potenzialmente senza alloggio?'},\n",
       "    {'answers': [{'answer_start': 228, 'text': '12,5 milioni'}],\n",
       "     'id': '56cebbdeaab44d1400b8895b',\n",
       "     'question': 'Quanti animali sono stati uccisi?'},\n",
       "    {'answers': [{'answer_start': 113, 'text': '11 milioni'}],\n",
       "     'id': '56d5372f2593cc1400307ae4',\n",
       "     'question': 'Quante persone potrebbero effettivamente essere senzatetto?'},\n",
       "    {'answers': [{'answer_start': 228, 'text': '12,5 milioni di animali'}],\n",
       "     'id': '56d5372f2593cc1400307ae5',\n",
       "     'question': 'Quanto bestiame è andato perduto?'},\n",
       "    {'answers': [{'answer_start': 316, 'text': 'un milione'}],\n",
       "     'id': '56d5372f2593cc1400307ae6',\n",
       "     'question': 'Quanti maiali sono morti a causa del terremoto nel Sichuan?'}]},\n",
       "  {'context': 'Reginald DesRoches, professore di ingegneria civile e ambientale presso la Georgia Tech, ha sottolineato che i danni massicci di proprietà e case nella zona sismica sono dovuti al fatto che la Cina ha creato un adeguato codice di progettazione sismica solo dopo il devastante terremoto di Tangshan del 1976. DesRoches ha detto:\"Se gli edifici fossero più vecchi e costruiti prima di quel terremoto del 1976, è probabile che non siano stati costruiti per un\\' adeguata forza sismica\".',\n",
       "   'qas': [{'answers': [{'answer_start': 0, 'text': 'Reginald DesRoches'}],\n",
       "     'id': '56cebcb4aab44d1400b88963',\n",
       "     'question': 'Chi era professore di ingegneria civile e ambientale alla Georgia Tech?'},\n",
       "    {'answers': [{'answer_start': 20,\n",
       "       'text': 'professore di ingegneria civile e ambientale'}],\n",
       "     'id': '56d538bc2593cc1400307aed',\n",
       "     'question': 'Qual è la professione di Reginald DesRoches?'},\n",
       "    {'answers': [{'answer_start': 302, 'text': '1976'}],\n",
       "     'id': '56d538bc2593cc1400307aee',\n",
       "     'question': \"Quando la Cina ha creato un codice di progettazione sismica per l' edilizia?\"},\n",
       "    {'answers': [{'answer_start': 276, 'text': 'terremoto di Tangshan'}],\n",
       "     'id': '56d538bc2593cc1400307aef',\n",
       "     'question': \"Che catastrofe li ha spinti a fare un codice di progettazione dell' edificio /.?\"}]},\n",
       "  {'context': \"Nei giorni successivi al disastro, un team internazionale di ingegneri è stato inviato nella regione per effettuare un' indagine preliminare dettagliata sugli edifici danneggiati. I loro risultati mostrano una varietà di ragioni per cui molte costruzioni non sono riuscite a resistere al terremoto.\",\n",
       "   'qas': []},\n",
       "  {'context': 'Le notizie di cronaca indicano che i villaggi rurali più poveri sono stati colpiti più duramente. Swaminathan Krishnan, assistente professore di ingegneria civile e geofisica presso il California Institute of Technology ha dichiarato:\"Il terremoto si è verificato nella parte rurale della Cina. Probabilmente, molti degli edifici sono stati appena costruiti; non sono stati progettati, per così dire. Swaminathan Krishnan ha aggiunto:\"In Cina ci sono norme edilizie molto forti, che si occupano di terremoto e problemi di progettazione sismica.',\n",
       "   'qas': [{'answers': [{'answer_start': 98, 'text': 'Swaminathan Krishnan'}],\n",
       "     'id': '56cebd8aaab44d1400b88978',\n",
       "     'question': 'Chi era professore assistente di ingegneria civile e geofisica presso il California Institute of Technology?'},\n",
       "    {'answers': [{'answer_start': 270, 'text': 'parte rurale'}],\n",
       "     'id': '56d53bf82593cc1400307afd',\n",
       "     'question': 'In quale parte della Cina si è verificato il terremoto?'}]},\n",
       "  {'context': 'Anche con le cinque città più grandi del Sichuan che subiscono solo danni di modesta entità a causa del terremoto, alcune stime della perdita economica superano i 75 miliardi di dollari, rendendo il terremoto uno dei disastri naturali più costosi della storia cinese.',\n",
       "   'qas': [{'answers': [{'answer_start': 163,\n",
       "       'text': '75 miliardi di dollari'}],\n",
       "     'id': '56cebdd0aab44d1400b8897f',\n",
       "     'question': 'Qual è la stima della perdita economica del terremoto?'},\n",
       "    {'answers': [{'answer_start': 163, 'text': '75 miliardi di dollari'}],\n",
       "     'id': '56d53d9a2593cc1400307b08',\n",
       "     'question': 'Qual è la stima delle perdite economiche?'},\n",
       "    {'answers': [{'answer_start': 253, 'text': 'storia cinese'}],\n",
       "     'id': '56d53d9a2593cc1400307b09',\n",
       "     'question': 'Chi è questo uno dei disastri più costosi della storia di?'},\n",
       "    {'answers': [{'answer_start': 13, 'text': 'cinque città più grandi'}],\n",
       "     'id': '56d53d9a2593cc1400307b0a',\n",
       "     'question': 'Quali città del Sichuan hanno subito danni minori?'}]},\n",
       "  {'context': \"Forti scosse di assestamento hanno continuato a colpire anche mesi dopo il terremoto principale. Il 25 maggio, una scossa di assestamento di 6.0 Mw (6.4 Ms secondo CEA) ha colpito a nord-est dell' epicentro del terremoto originale, nella contea di Qingchuan, Sichuan, causando otto morti, 1000 feriti e distruggendo migliaia di edifici. Il 27 maggio, due scosse di assestamento, una 5.2 Mw nella contea di Qingchuan e una 5.7 Mw nella contea di Ningqiang, Shaanxi, hanno portato al crollo di oltre 420.000 case e feriti 63 persone. La stessa area ha sofferto due scosse di assestamento più di 5,6 e 6,0 Ms (5,8 e 5,5 Mw, rispettivamente, secondo USGS) il 23 luglio, con conseguente 1 decesso, 6 feriti gravi, crollo di centinaia di case e danni chilometri di autostrade. Pingwu County e Beichuan County, Sichuan, anche a nord-est di Wenchuan e vicino all' epicentro di un terremoto della sig. ra 7.2 nel 1976, subì un terremoto di 6.1 Ms aftershock (5.7 Mw secondo l' USGS) il 1 agosto 1; ha causato 2 morti, 345 feriti, crollo di 707 case, danni a oltre 1.000 case, e bloccato 25 chilometri (16 mi) di strade di campagna.\",\n",
       "   'qas': [{'answers': [{'answer_start': 141, 'text': '6.0 Mw'}],\n",
       "     'id': '56d540072593cc1400307b0f',\n",
       "     'question': 'Quanto è stata forte la scossa di assestamento del 25 maggio nella contea di Qingchuan?'},\n",
       "    {'answers': [{'answer_start': 289, 'text': '1000'}],\n",
       "     'id': '56d540072593cc1400307b10',\n",
       "     'question': 'Quante persone sono rimaste ferite durante la scossa di assestamento del 25 maggio?'},\n",
       "    {'answers': [{'answer_start': 520, 'text': '63'}],\n",
       "     'id': '56d540072593cc1400307b12',\n",
       "     'question': 'Durante il 27 maggio scosse di assestamento, quante persone sono rimaste ferite?'},\n",
       "    {'answers': [{'answer_start': 248, 'text': 'Qingchuan, Sichuan'}],\n",
       "     'id': '56d540072593cc1400307b13',\n",
       "     'question': \"Dov' è stata la scossa di assestamento del 5 agosto che ha causato ampie frane di collina?\"}]},\n",
       "  {'context': 'Vice governatore esecutivo Wei Hong Wei ha confermato il 21 novembre 2008 che più di 90.000 persone in totale erano morti o dispersi nel terremoto. Ha dichiarato che 200.000 case sono state ricostruite e 685.000 sono in fase di ricostruzione, ma 1,94 milioni di famiglie sono ancora prive di ricovero permanente. Sono state ricostruite 1.300 scuole, con il trasferimento iniziale di 25 città, tra cui Beichuan e Wenchuan, due delle aree più devastate. Il governo ha speso 441 miliardi di dollari per gli sforzi di soccorso e ricostruzione.',\n",
       "   'qas': [{'answers': [{'answer_start': 27, 'text': 'Wei Hong'}],\n",
       "     'id': '56cebef6aab44d1400b88997',\n",
       "     'question': 'Chi era il vice governatore esecutivo?'},\n",
       "    {'answers': [{'answer_start': 166, 'text': '200.000'}],\n",
       "     'id': '56cebef6aab44d1400b88999',\n",
       "     'question': 'Quante case sono state ricostruite?'},\n",
       "    {'answers': [{'answer_start': 336, 'text': '1.300'}],\n",
       "     'id': '56cebef6aab44d1400b8899b',\n",
       "     'question': 'Quante scuole sono state ricostruite?'},\n",
       "    {'answers': [{'answer_start': 27, 'text': 'Wei Hong'}],\n",
       "     'id': '56d548552593cc1400307b19',\n",
       "     'question': 'Chi ha parlato dei morti e dei dispersi il 21 novembre 2008?'},\n",
       "    {'answers': [{'answer_start': 85, 'text': '90.000'}],\n",
       "     'id': '56d548552593cc1400307b1a',\n",
       "     'question': 'Quante persone hanno detto Wei Hong che erano morte o mancanti?'},\n",
       "    {'answers': [{'answer_start': 166, 'text': '200.000'}],\n",
       "     'id': '56d548552593cc1400307b1b',\n",
       "     'question': 'Quante case sono state ricostruite?'},\n",
       "    {'answers': [{'answer_start': 204, 'text': '685.000'}],\n",
       "     'id': '56d548552593cc1400307b1c',\n",
       "     'question': 'Quante case erano ancora in costruzione?'}]},\n",
       "  {'context': \"Il segretario generale e presidente Hu Jintao ha annunciato che la risposta alle catastrofi sarà rapida. A soli 90 minuti dal terremoto, il premier Wen Jiabao, che ha una formazione accademica in geomeccanica, ha volato nella zona del terremoto per sorvegliare i lavori di salvataggio. Poco dopo, il Ministero della Salute ha detto che aveva inviato dieci squadre mediche di emergenza a Wenchuan County. Lo stesso giorno, il comando militare della regione militare di Chengdu ha inviato 50.000 soldati e polizia armata per aiutare con il lavoro di soccorso in caso di catastrofe nella contea di Wenchuan. Tuttavia, a causa del terreno accidentato e della vicinanza dell' epicentro del sisma, i soldati hanno avuto molte difficoltà ad ottenere aiuto nelle regioni rurali della provincia.\",\n",
       "   'qas': [{'answers': [{'answer_start': 137,\n",
       "       'text': 'il premier Wen Jiabao'}],\n",
       "     'id': '56cebf6aaab44d1400b889a1',\n",
       "     'question': \"Chi ha volato nella zona sismica 90 minuti dopo l' urto?\"},\n",
       "    {'answers': [{'answer_start': 196, 'text': 'geomeccanica'}],\n",
       "     'id': '56cebf6aaab44d1400b889a2',\n",
       "     'question': \"In cosa c' era il background di Premier Wen Jiabao?\"},\n",
       "    {'answers': [{'answer_start': 261, 'text': 'i lavori di salvataggio'}],\n",
       "     'id': '56cebf6aaab44d1400b889a3',\n",
       "     'question': 'Che cosa ha supervisionato Jiabao nella regione?'},\n",
       "    {'answers': [{'answer_start': 487, 'text': '50.000'}],\n",
       "     'id': '56cebf6aaab44d1400b889a4',\n",
       "     'question': 'Quante truppe sono state inviate dai militari Chengdu?'},\n",
       "    {'answers': [{'answer_start': 350, 'text': 'dieci'}],\n",
       "     'id': '56d54a582593cc1400307b25',\n",
       "     'question': 'Quante squadre mediche sono state inviate nella contea di Wenchuan?'},\n",
       "    {'answers': [{'answer_start': 487, 'text': '50.000'}],\n",
       "     'id': '56d54a582593cc1400307b26',\n",
       "     'question': 'Quante truppe sono state inviate nella zona per operazioni di soccorso?'}]},\n",
       "  {'context': 'La Commissione nazionale di soccorso in caso di catastrofe ha avviato un \"piano di emergenza di II livello\", che copre la categoria più grave di catastrofi naturali. Il piano è salito al livello I alle 22:15 CST, 12 maggio.',\n",
       "   'qas': [{'answers': [{'answer_start': 197,\n",
       "       'text': 'alle 22:15 CST, 12 maggio'}],\n",
       "     'id': '56cebfcaaab44d1400b889ab',\n",
       "     'question': 'Quando è salito il piano al livello I?'},\n",
       "    {'answers': [{'answer_start': 132, 'text': 'più grave'}],\n",
       "     'id': '56d54bc82593cc1400307b2e',\n",
       "     'question': \"Quale classe di catastrofi è un' emergenza di livello II?\"},\n",
       "    {'answers': [{'answer_start': 3,\n",
       "       'text': 'Commissione nazionale di soccorso in caso di catastrofe'}],\n",
       "     'id': '56d54bc82593cc1400307b30',\n",
       "     'question': 'Quale dipartimento ha avviato il piano di emergenza?'}]},\n",
       "  {'context': \"Un' équipe di soccorso in caso di terremoto di 184 persone (composta da 12 persone dell' Ufficio sismologico di Stato, 150 del Comando dell' Area militare di Pechino e 22 dell' Ospedale Generale della Polizia Armata) ha lasciato Pechino dall' aeroporto di Nanyuan alla fine del 12 maggio in due aerei da trasporto militare per raggiungere la contea di Wenchuan.\",\n",
       "   'qas': [{'answers': [{'answer_start': 47, 'text': '184'}],\n",
       "     'id': '56cec033aab44d1400b889af',\n",
       "     'question': 'Quante persone erano nel team di soccorso in caso di terremoto?'},\n",
       "    {'answers': [{'answer_start': 72, 'text': '12'}],\n",
       "     'id': '56cec033aab44d1400b889b0',\n",
       "     'question': \"Quante squadre di soccorso provenivano dall' Ufficio sismologico di Stato?\"},\n",
       "    {'answers': [{'answer_start': 119, 'text': '150'}],\n",
       "     'id': '56cec033aab44d1400b889b1',\n",
       "     'question': 'Quanti membri della squadra erano militari?'},\n",
       "    {'answers': [{'answer_start': 168, 'text': '22'}],\n",
       "     'id': '56cec033aab44d1400b889b2',\n",
       "     'question': 'Quanti membri della squadra provenivano dalla polizia?'},\n",
       "    {'answers': [{'answer_start': 47, 'text': '184'}],\n",
       "     'id': '56d5d41b1c85041400946e0d',\n",
       "     'question': 'Quante persone costituivano la squadra di soccorso?'},\n",
       "    {'answers': [{'answer_start': 119, 'text': '150'}],\n",
       "     'id': '56d5d41b1c85041400946e0e',\n",
       "     'question': \"Quanti soldati provenivano dall' esercito di Pechino?\"},\n",
       "    {'answers': [{'answer_start': 177,\n",
       "       'text': 'Ospedale Generale della Polizia Armata'}],\n",
       "     'id': '56d5d41b1c85041400946e0f',\n",
       "     'question': 'Da dove provengono 22 della squadra di soccorso?'}]},\n",
       "  {'context': 'Nel China Digital Times un articolo riporta un\\' analisi approfondita da parte di un presunto ingegnere edile cinese conosciuto online come \"Book Blade\" (??), che ha dichiarato: un\\' analisi approfondita da parte di un presunto ingegnere edile cinese.',\n",
       "   'qas': [{'answers': [{'answer_start': 140, 'text': 'Book Blade'}],\n",
       "     'id': '56cec11faab44d1400b889c8',\n",
       "     'question': \"Dov' è stato riportato un articolo sullo scandalo?\"},\n",
       "    {'answers': [{'answer_start': 4, 'text': 'China Digital Times'}],\n",
       "     'id': '56d64d231c85041400947089',\n",
       "     'question': 'Qual è stato il nome della persona che ha pubblicato un rapporto nel China Digital Times?'}]},\n",
       "  {'context': 'In occasione della Festa dei bambini, il 1° giugno 2008, molti genitori si sono recati sulle macerie delle scuole per piangere i loro figli. I bambini sopravvissuti, che vivevano per lo più in centri di soccorso, hanno compiuto cerimonie che hanno segnato il giorno speciale, ma anche riconosciuto il terremoto.',\n",
       "   'qas': [{'answers': [{'answer_start': 19, 'text': 'Festa dei bambini'}],\n",
       "     'id': '56cec174aab44d1400b889cb',\n",
       "     'question': 'Che cosa è stato chiamato 1 giugno 2008?'}]},\n",
       "  {'context': \"Le imprese statali centrali hanno donato complessivamente più di 48,6 milioni di dollari. China National Petroleum Corp e Sinopec ha donato 10 milioni di yuan ciascuno per l' area del disastro.\",\n",
       "   'qas': [{'answers': [{'answer_start': 140, 'text': '10 milioni di yuan'}],\n",
       "     'id': '56cec1ffaab44d1400b889de',\n",
       "     'question': 'Quanto ha donato China National Petroleum Corp e Sinopec?'},\n",
       "    {'answers': [{'answer_start': 65, 'text': '48,6 milioni'}],\n",
       "     'id': '56d6647b1c850414009470ed',\n",
       "     'question': 'Quanto hanno donato le imprese statali centrali?'},\n",
       "    {'answers': [{'answer_start': 140, 'text': '10 milioni di yuan ciascuno'}],\n",
       "     'id': '56d6647b1c850414009470ee',\n",
       "     'question': 'Quanto ha donato China National Petroleum e Sinopec?'}]},\n",
       "  {'context': \"Il 16 maggio la Cina ha dichiarato di aver ricevuto anche 457 milioni di dollari in donazioni di denaro e beni per gli sforzi di salvataggio finora compiuti, compresi 83 milioni di dollari provenienti da 19 paesi e quattro organizzazioni internazionali. L' Arabia Saudita è stata il principale donatore di aiuti alla Cina, fornendo quasi 40.000.000 di euro in assistenza finanziaria e altri 8.000.000 di euro di materiale di soccorso.\",\n",
       "   'qas': [{'answers': [{'answer_start': 58,\n",
       "       'text': '457 milioni di dollari'}],\n",
       "     'id': '56cec2a1aab44d1400b889e1',\n",
       "     'question': 'Quanto ha ricevuto la Cina in denaro e beni donati?'},\n",
       "    {'answers': [{'answer_start': 204, 'text': '19 paesi'}],\n",
       "     'id': '56cec2a1aab44d1400b889e2',\n",
       "     'question': 'Quanti paesi hanno donato?'},\n",
       "    {'answers': [{'answer_start': 215, 'text': 'quattro'}],\n",
       "     'id': '56cec2a1aab44d1400b889e3',\n",
       "     'question': 'Quante organizzazioni internazionali hanno donato?'},\n",
       "    {'answers': [{'answer_start': 257, 'text': 'Arabia Saudita'}],\n",
       "     'id': '56cec2a1aab44d1400b889e4',\n",
       "     'question': 'Quale paese è stato il maggiore donatore di aiuti alla Cina?'},\n",
       "    {'answers': [{'answer_start': 167, 'text': '83 milioni'}],\n",
       "     'id': '56d6696d1c850414009470fb',\n",
       "     'question': 'Quanto denaro è stato donato da fonti straniere?'},\n",
       "    {'answers': [{'answer_start': 257, 'text': 'Arabia Saudita'}],\n",
       "     'id': '56d6696d1c850414009470fc',\n",
       "     'question': 'Quale paese è stato il maggiore donatore di aiuti alla Cina?'},\n",
       "    {'answers': [{'answer_start': 215, 'text': 'quattro'}],\n",
       "     'id': '56d6696d1c850414009470fe',\n",
       "     'question': 'Quante organizzazioni internazionali hanno fatto donazioni?'}]},\n",
       "  {'context': 'Nel 2008, il Consiglio di Stato ha stabilito un piano di sostegno alla controparte????????? Il piano è quello di organizzare 19 province orientali e centrali e municipalitie per aiutare 18 contee, su \"una provincia a una contea interessata\" base. Il piano ha una durata di 3 anni, e costa non meno dell\\' uno per cento del bilancio della provincia o del comune. un piano di sostegno di contropartita.',\n",
       "   'qas': [{'answers': [{'answer_start': 273, 'text': '3 anni'}],\n",
       "     'id': '56d66f3e1c85041400947117',\n",
       "     'question': 'Quanto dura il piano?'},\n",
       "    {'answers': [{'answer_start': 304, 'text': 'uno per cento'}],\n",
       "     'id': '56d66f3e1c85041400947118',\n",
       "     'question': 'Qual è il costo per il bilancio della provincia?'}]},\n",
       "  {'context': 'Un articolo in Science suggerisce che la costruzione e il riempimento della diga di Zipingpu potrebbe aver innescato il terremoto. L\\' ingegnere capo del Sichuan Geology and Mineral Bureau ha detto che lo spostamento improvviso di una grande quantità d\\' acqua nella regione avrebbe potuto allentare la tensione tra i due lati del guasto, permettendo loro di allontanarsi, e avrebbe potuto aumentare la pressione diretta su di esso, causando una violenta rottura. L\\' effetto è stato \"25 volte più\" dello stress naturale del movimento tettonico di un anno. Il governo aveva ignorato gli avvertimenti relativi a tanti progetti di dighe su larga scala in un\\' area sismicamente attiva. Ai ricercatori è stato negato l\\' accesso ai dati sismologici e geologici per esaminare ulteriormente la causa del terremoto.',\n",
       "   'qas': [{'answers': [{'answer_start': 554, 'text': 'Il governo'}],\n",
       "     'id': '56d677f31c85041400947145',\n",
       "     'question': 'Chi ha ignorato gli avvertimenti sulle dighe nella zona?'},\n",
       "    {'answers': [{'answer_start': 713,\n",
       "       'text': 'accesso ai dati sismologici e geologici'}],\n",
       "     'id': '56d677f31c85041400947147',\n",
       "     'question': 'Che cosa sono stati negati ai ricercatori?'}]},\n",
       "  {'context': 'Il terremoto ha inoltre offerto ai ricercatori l\\' opportunità di aggiornare i dati per modellare le previsioni future. Utilizzando i dati dell\\' osservatorio geomagnetico Intermagnet Lanzhou, i geologi Lazo Pekevski della Ss. Cyril e Methodius University di Skopje in Macedonia e Strachimir Mavrodiev dell\\' Accademia bulgara delle Scienze hanno cercato di stabilire un \"metodo di previsione temporale\" attraverso la raccolta di statistiche sul geomagnetismo con potenziale gravitazionale delle maree. Utilizzando questo metodo, si diceva che avessero previsto il tempo del terremoto del Sichuan del 2008 con una precisione di ± 1 giorno. Lo stesso studio, tuttavia, riconosce la limitazione dei modelli di previsione dei terremoti e non menziona che la localizzazione del sisma potrebbe essere accuratamente prevista.',\n",
       "   'qas': [{'answers': [{'answer_start': 559,\n",
       "       'text': 'il tempo del terremoto del Sichuan del 2008'}],\n",
       "     'id': '56cec484aab44d1400b88a09',\n",
       "     'question': 'Cosa prevedevano i professori?'},\n",
       "    {'answers': [{'answer_start': 427, 'text': 'statistiche'}],\n",
       "     'id': '56d675ed1c8504140094713d',\n",
       "     'question': 'Cosa hanno raccolto per usare questo metodo?'}]},\n",
       "  {'context': 'In una conferenza stampa tenuta dall\\' Ufficio informazioni del Consiglio di Stato il giorno dopo il terremoto, il geologo Zhang Xiaodong, vice direttore del CEA Seismic Monitoring Network Center, ha ribadito che la previsione del terremoto era un problema globale, nel senso che non esistono metodi comprovati, e che nessuna notifica di previsione è stata ricevuta prima del terremoto. Il sismologo Gary Gibson dell\\' Università di Monash University in Australia ha detto a Deutsche Presse-Agentur che anche lui non vedeva nulla che potesse essere considerato come aver \"previsto\" l\\' accadimento del terremoto.',\n",
       "   'qas': [{'answers': [{'answer_start': 279,\n",
       "       'text': 'non esistono metodi comprovati'}],\n",
       "     'id': '56d674591c85041400947133',\n",
       "     'question': 'Che cosa credono molti geologi nella previsione dei terremoti?'},\n",
       "    {'answers': [{'answer_start': 317,\n",
       "       'text': 'nessuna notifica di previsione'}],\n",
       "     'id': '56d674591c85041400947135',\n",
       "     'question': 'Cosa è stato ricevuto prima del terremoto?'}]},\n",
       "  {'context': \"Nel 2002, il geologo cinese Chen Xuezhong ha pubblicato uno studio di analisi del rischio sismico in cui è giunto alla conclusione che a partire dal 2003, l' attenzione dovrebbe essere prestata alla possibilità di un terremoto con una magnitudo superiore a 7,0 che si verifica nella regione del Sichuan. Ha basato il suo studio sulla correlazione statistica. Che il Sichuan è un' area sismicamente attiva è stata discussa per anni prima del terremoto, anche se pochi studi indicano una data e un' ora specifiche.\",\n",
       "   'qas': [{'answers': [{'answer_start': 0, 'text': 'Nel 2002'}],\n",
       "     'id': '56cec548aab44d1400b88a13',\n",
       "     'question': \"Quando è stata pubblicata l' analisi del rischio sismico?\"},\n",
       "    {'answers': [{'answer_start': 28, 'text': 'Chen Xuezhong'}],\n",
       "     'id': '56cec548aab44d1400b88a14',\n",
       "     'question': \"Chi ha pubblicato l' analisi del rischio sismico?\"},\n",
       "    {'answers': [{'answer_start': 28, 'text': 'Chen Xuezhong'}],\n",
       "     'id': '56d672d21c85041400947129',\n",
       "     'question': 'Chi ha pubblicato uno studio di analisi del rischio sismico?'},\n",
       "    {'answers': [{'answer_start': 4, 'text': '2002'}],\n",
       "     'id': '56d672d21c8504140094712a',\n",
       "     'question': 'In quale anno Chen Xuezhong ha pubblicato uno studio sul terremoto?'}]},\n",
       "  {'context': 'Il terremoto è stato il peggiore a colpire l\\' area del Sichuan in oltre 30 anni. A seguito del terremoto, esperti e il pubblico in generale hanno chiesto informazioni per sapere se il terremoto avrebbe potuto essere previsto in anticipo e se lo studio delle statistiche relative al terremoto avrebbe potuto portare a una migliore previsione dei terremoti in futuro. La predizione del terremoto non è ancora una scienza consolidata; non c\\' era consenso all\\' interno della comunità scientifica sul fatto che la \"previsione\" del terremoto sia possibile.',\n",
       "   'qas': [{'answers': [{'answer_start': 66, 'text': 'oltre 30 anni'}],\n",
       "     'id': '56cec5d1aab44d1400b88a23',\n",
       "     'question': 'Da quanto tempo si è verificato un terremoto di simile entità?'},\n",
       "    {'answers': [{'answer_start': 72, 'text': '30 anni'}],\n",
       "     'id': '56d6713f1c8504140094711f',\n",
       "     'question': \"Da quanto tempo da quando l' area del Sichuan ha subito un grave terremoto?\"},\n",
       "    {'answers': [{'answer_start': 258, 'text': 'statistiche'}],\n",
       "     'id': '56d6713f1c85041400947122',\n",
       "     'question': 'La gente voleva sapere se lo studio di quale matematica poteva produrre previsioni migliori?'}]},\n",
       "  {'context': 'Molte squadre di soccorso, tra cui quella del Taipei Fire Department di Taiwan, sono state segnalate pronte ad unirsi allo sforzo di salvataggio nel Sichuan già mercoledì. Tuttavia, la Croce Rossa Società della Cina ha detto che (il 13 maggio)\"è stato scomodo attualmente a causa del problema del traffico alle zone più colpite più vicino all\\' epicentro\". La Società della Croce Rossa Cinese ha anche dichiarato che le zone disastrate hanno bisogno di tende, forniture mediche, acqua potabile e cibo; tuttavia ha raccomandato di donare denaro invece di altri oggetti, in quanto non era stato possibile raggiungere strade completamente danneggiate o luoghi che sono stati bloccati da frane. Le frane minacciavano continuamente il progresso di un gruppo di ricerca e salvataggio di 80 uomini, ognuno dei quali trasportava circa 40 kg di materiale di soccorso, provenienti da una brigata motorizzata di fanteria sotto il comandante Yang Wenyao, mentre cercavano di raggiungere il villaggio etnicamente tibetano di Sier ad un\\' altezza di 4000 m sul livello del mare nella contea di Pingwu.',\n",
       "   'qas': [{'answers': [{'answer_start': 683, 'text': 'frane'}],\n",
       "     'id': '56d5db271c85041400946e42',\n",
       "     'question': 'Quale problema ha continuato ad impedire alle squadre di soccorso di raggiungere le zone colpite?'}]},\n",
       "  {'context': \"Le piogge e gli smottamenti persistenti nella contea di Wenchuan e nella zona vicina hanno gravemente influenzato gli sforzi di salvataggio. All' inizio delle operazioni di soccorso, il 12 maggio, sono stati impiegati 20 elicotteri per la fornitura di cibo, acqua e aiuti d' emergenza, nonché per l' evacuazione dei feriti e la ricognizione delle aree colpite dal terremoto. A partire dalle 17:37 CST del 13 maggio, un totale di oltre 15.600 soldati e riservisti della milizia della regione militare di Chengdu si erano uniti alla forza di soccorso nelle zone gravemente colpite. Un comandante ha riferito da Yingxiu Town, Wenchuan, che sono stati trovati circa 3.000 sopravvissuti, mentre lo stato degli altri abitanti (circa 9.000) è rimasto poco chiaro. I 1.300 soccorritori raggiunsero l' epicentro e 300 truppe pioniere raggiunsero la sede di Wenchuan a circa 23:30 CST. Entro le 12:17 CST, 14 maggio 2008, la comunicazione nella sede di Wenchuan è stata in parte ripresa. Il pomeriggio del 14 maggio, 15 operazioni speciali 15 truppe, insieme con le forniture di soccorso e attrezzature di comunicazione, paracadutati in inaccessibile Mao County, a nord-est di Wenchuan.\",\n",
       "   'qas': [{'answers': [{'answer_start': 218, 'text': '20'}],\n",
       "     'id': '56cec79caab44d1400b88a34',\n",
       "     'question': 'Quanti elicotteri sono stati impiegati?'},\n",
       "    {'answers': [{'answer_start': 435, 'text': '15.600'}],\n",
       "     'id': '56cec79caab44d1400b88a35',\n",
       "     'question': 'Quanti riservisti delle milizie si sono uniti agli sforzi di salvataggio?'},\n",
       "    {'answers': [{'answer_start': 656, 'text': 'circa 3.000'}],\n",
       "     'id': '56cec79caab44d1400b88a36',\n",
       "     'question': 'Quanti sopravvissuti sono stati trovati?'},\n",
       "    {'answers': [{'answer_start': 435, 'text': '15'}],\n",
       "     'id': '56cec79caab44d1400b88a37',\n",
       "     'question': 'Quante truppe paracadute nella contea di Mao?'},\n",
       "    {'answers': [{'answer_start': 218, 'text': '20'}],\n",
       "     'id': '56d5ecf21c85041400946e5b',\n",
       "     'question': 'Quanti elicotteri sono stati inviati per fornire aiuti alle zone colpite?'},\n",
       "    {'answers': [{'answer_start': 435, 'text': '15.600'}],\n",
       "     'id': '56d5ecf21c85041400946e5c',\n",
       "     'question': 'Entro il 13 maggio, quante truppe erano state aggiunte agli sforzi di salvataggio?'},\n",
       "    {'answers': [{'answer_start': 656, 'text': 'circa 3.000'}],\n",
       "     'id': '56d5ecf21c85041400946e5d',\n",
       "     'question': 'Come sono state segnalate le persone sopravvissute nella città di Yingxiu?'},\n",
       "    {'answers': [{'answer_start': 721, 'text': 'circa 9.000'}],\n",
       "     'id': '56d5ecf21c85041400946e5e',\n",
       "     'question': 'Quante persone a Yingxiu erano ancora sconosciute?'}]},\n",
       "  {'context': \"Il 15 maggio, il premier Wen Jiabao ha ordinato lo spiegamento di altri 90 elicotteri, di cui 60 forniti dal PLAAF e 30 forniti dall' industria dell' aviazione civile, portando così il numero totale di aeromobili impiegati nelle operazioni di soccorso dall' aviazione civile, dall' esercito e dall' aviazione civile a oltre 150, il che ha portato alla più grande operazione di non combattimento nella storia dell' Esercito popolare di liberazione.\",\n",
       "   'qas': [{'answers': [{'answer_start': 94, 'text': '60'}],\n",
       "     'id': '56cec801aab44d1400b88a3e',\n",
       "     'question': 'Quanti elicotteri sono stati forniti dal PLAAF?'},\n",
       "    {'answers': [{'answer_start': 117, 'text': '30'}],\n",
       "     'id': '56cec801aab44d1400b88a3f',\n",
       "     'question': \"Quanti elicotteri sarebbero stati forniti dall' industria dell' aviazione civile?\"},\n",
       "    {'answers': [{'answer_start': 318, 'text': 'oltre 150'}],\n",
       "     'id': '56cec801aab44d1400b88a40',\n",
       "     'question': \"Quanti aerei c' erano in totale?\"},\n",
       "    {'answers': [{'answer_start': 318, 'text': 'oltre 150'}],\n",
       "     'id': '56d60cd01c85041400946eea',\n",
       "     'question': \"Qual è il numero totale di aeromobili utilizzati nell' operazione di soccorso?\"},\n",
       "    {'answers': [{'answer_start': 94, 'text': '60'}],\n",
       "     'id': '56d60cd01c85041400946eec',\n",
       "     'question': 'Quanti elicotteri provenivano dal PLAAF?'},\n",
       "    {'answers': [{'answer_start': 134,\n",
       "       'text': \"industria dell' aviazione civile\"}],\n",
       "     'id': '56d60cd01c85041400946eed',\n",
       "     'question': 'Chi ha fornito gli altri 30 elicotteri?'}]},\n",
       "  {'context': \"Pechino ha accettato l' aiuto della Fondazione Tzu Chi di Taiwan alla fine del 13 maggio. Tzu Chi è stata la prima forza al di fuori della Repubblica Popolare Cinese a partecipare allo sforzo di salvataggio. La Cina ha dichiarato di voler accettare con gratitudine l' aiuto internazionale per far fronte al terremoto.\",\n",
       "   'qas': [{'answers': [{'answer_start': 36, 'text': 'Fondazione Tzu Chi'}],\n",
       "     'id': '56cec88baab44d1400b88a45',\n",
       "     'question': 'Quale Fondazione ha voluto aiutare Pechino?'},\n",
       "    {'answers': [{'answer_start': 58, 'text': 'Taiwan'}],\n",
       "     'id': '56cec88baab44d1400b88a46',\n",
       "     'question': \"Dov' era la fondazione?\"},\n",
       "    {'answers': [{'answer_start': 36, 'text': 'Fondazione Tzu Chi'}],\n",
       "     'id': '56d60ddf1c85041400946ef5',\n",
       "     'question': \"Qual è stato il primo gruppo di fuori della Cina a partecipare all' operazione di soccorso?\"},\n",
       "    {'answers': [{'answer_start': 268, 'text': 'aiuto internazionale'}],\n",
       "     'id': '56d60ddf1c85041400946ef6',\n",
       "     'question': 'Che cosa ha detto la Cina di accettare?'}]},\n",
       "  {'context': \"Un volo merci charter diretto è stato effettuato dalla China Airlines da Taiwan Taoyuan International Airport all' aeroporto internazionale di Chengdu Shuangliu, che ha inviato circa 100 tonnellate di forniture di soccorso donate dalla Fondazione Tzu Chi e dalla Croce Rossa di Taiwan alle zone colpite. È stata chiesta l' approvazione delle autorità cinesi della Cina continentale e il volo charter è partito da Taipei alle 17:00 CST, il 15 maggio e è arrivato a Chengdu entro le 20:30 CST. Una squadra di soccorso della Croce Rossa di Taiwan avrebbe dovuto partire da Taipei con un volo charter diretto di Mandarin Airlines verso Chengdu alle 15:00 CST del 16 maggio.\",\n",
       "   'qas': [{'answers': [{'answer_start': 55, 'text': 'China Airlines'}],\n",
       "     'id': '56cec8e2aab44d1400b88a55',\n",
       "     'question': 'Chi ha effettuato un volo cargo charter diretto?'},\n",
       "    {'answers': [{'answer_start': 439, 'text': '15 maggio'}],\n",
       "     'id': '56cec8e2aab44d1400b88a57',\n",
       "     'question': 'Quale data di partenza del volo cargo?'},\n",
       "    {'answers': [{'answer_start': 659, 'text': '16 maggio'}],\n",
       "     'id': '56cec8e2aab44d1400b88a58',\n",
       "     'question': 'Quando è partita una squadra di soccorso?'},\n",
       "    {'answers': [{'answer_start': 73,\n",
       "       'text': 'Taiwan Taoyuan International Airport'}],\n",
       "     'id': '56d613011c85041400946efd',\n",
       "     'question': 'Da quale aeroporto parte il volo charter?'},\n",
       "    {'answers': [{'answer_start': 143, 'text': 'Chengdu'}],\n",
       "     'id': '56d613011c85041400946efe',\n",
       "     'question': 'Dove è avvenuto il volo charter da Taiwan?'},\n",
       "    {'answers': [{'answer_start': 496, 'text': 'squadra di soccorso'}],\n",
       "     'id': '56d613011c85041400946eff',\n",
       "     'question': 'Che cosa ha lasciato il team della Croce Rossa a Taipei il 16 maggio Chengdu?'}]},\n",
       "  {'context': \"Il 16 maggio, i gruppi di soccorso provenienti da Corea del Sud, Giappone, Singapore, Russia e Taiwan sono arrivati per unirsi allo sforzo di salvataggio. Gli Stati Uniti hanno condiviso con le autorità cinesi alcune delle sue immagini satellitari delle zone colpite dal terremoto. Durante il fine settimana, gli Stati Uniti hanno inviato in Cina due forniture di trasporto dell' aeronautica militare C-17 degli Stati Uniti, tra cui tende e generatori. Xinhua ha riferito 135.000 truppe cinesi e medici sono stati coinvolti nello sforzo di salvataggio in 58 contee e città. immagini satellitari delle aree colpite dal terremoto.\",\n",
       "   'qas': [{'answers': [{'answer_start': 472, 'text': '135.000'}],\n",
       "     'id': '56cec9e1aab44d1400b88a63',\n",
       "     'question': 'Quante truppe cinesi sono state coinvolte negli sforzi di salvataggio?'},\n",
       "    {'answers': [{'answer_start': 3, 'text': '16 maggio'}],\n",
       "     'id': '56cec9e1aab44d1400b88a65',\n",
       "     'question': 'Quando sono arrivati in Cina gruppi provenienti dalla Corea del Sud, dal Giappone e da altri paesi?'},\n",
       "    {'answers': [{'answer_start': 227, 'text': 'immagini satellitari'}],\n",
       "     'id': '56d61a451c85041400946f10',\n",
       "     'question': 'Che cosa ha condiviso gli Stati Uniti con la Cina?'},\n",
       "    {'answers': [{'answer_start': 433, 'text': 'tende e generatori'}],\n",
       "     'id': '56d61a451c85041400946f11',\n",
       "     'question': \"Cosa è stato incluso nelle forniture dell' aeronautica militare C-17?\"},\n",
       "    {'answers': [{'answer_start': 472, 'text': '135.000'}],\n",
       "     'id': '56d61a451c85041400946f13',\n",
       "     'question': 'Quante truppe e medici cinesi sono stati coinvolti negli sforzi di soccorso?'}]},\n",
       "  {'context': \"Internet è stato ampiamente utilizzato per trasmettere informazioni a sostegno degli sforzi di salvataggio e recupero. Ad esempio, l' agenzia di stampa ufficiale Xinhua ha istituito un centro online di richiesta di soccorso per trovare gli angoli ciechi del disaster recovery. Dopo aver saputo che gli elicotteri di soccorso avevano avuto difficoltà ad atterrare nell' area dell' epicentro di Wenchuan, uno studente ha proposto un punto di atterraggio online ed è stato scelto come primo touchdown per gli elicotteri[non in citazione dato]. I volontari hanno anche creato diversi siti web per aiutare a memorizzare le informazioni di contatto per le vittime e gli sfollati. Il 31 maggio, un elicottero di salvataggio che trasportava sopravvissuti al terremoto e membri dell' equipaggio si è schiantato a causa della nebbia e delle turbolenze nella contea di Wenchuan. Nessuno è sopravvissuto.\",\n",
       "   'qas': [{'answers': [{'answer_start': 0, 'text': 'Internet'}],\n",
       "     'id': '56ceccc7aab44d1400b88a7d',\n",
       "     'question': 'Che cosa è stato ampiamente utilizzato per trasmettere informazioni a sostegno degli sforzi di salvataggio e recupero?'},\n",
       "    {'answers': [{'answer_start': 228,\n",
       "       'text': 'trovare gli angoli ciechi del disaster recovery'}],\n",
       "     'id': '56ceccc7aab44d1400b88a7f',\n",
       "     'question': 'Qual era lo scopo di questo centro di richiesta di soccorso online?'},\n",
       "    {'answers': [{'answer_start': 393, 'text': 'Wenchuan'}],\n",
       "     'id': '56ceccc7aab44d1400b88a80',\n",
       "     'question': 'Dove hanno avuto difficoltà di atterraggio gli elicotteri di soccorso?'},\n",
       "    {'answers': [{'answer_start': 0, 'text': 'Internet'}],\n",
       "     'id': '56d61c4e1c85041400946f1a',\n",
       "     'question': 'Che cosa è stato utilizzato come aiuto alle comunicazioni negli sforzi di soccorso?'},\n",
       "    {'answers': [{'answer_start': 403, 'text': 'uno studente'}],\n",
       "     'id': '56d61c4e1c85041400946f1c',\n",
       "     'question': \"Quale persona ha suggerito un atterraggio per elicotteri vicino all' epicentro?\"},\n",
       "    {'answers': [{'answer_start': 618, 'text': 'informazioni di contatto'}],\n",
       "     'id': '56d61c4e1c85041400946f1d',\n",
       "     'question': 'Che tipo di informazioni sono state create sui siti web da archiviare?'}]},\n",
       "  {'context': \"Il 12 maggio 2009, la Cina ha celebrato il primo anniversario del terremoto con un momento di silenzio mentre le persone in tutta la nazione ricordavano i morti. Il governo ha anche aperto l' accesso alle rovine sigillate della sede della contea del Beichuan per tre giorni, dopo di che sarà congelato in tempo come un museo reliquia terremoto di stato, per ricordare alla gente del disastro terribile. Ci sono stati anche diversi concerti in tutto il paese per raccogliere fondi per i sopravvissuti al terremoto.\",\n",
       "   'qas': [{'answers': [{'answer_start': 80,\n",
       "       'text': 'un momento di silenzio'}],\n",
       "     'id': '56cecd53aab44d1400b88a88',\n",
       "     'question': \"Cosa è stato fatto per l' anniversario?\"},\n",
       "    {'answers': [{'answer_start': 263, 'text': 'tre giorni'}],\n",
       "     'id': '56cecd53aab44d1400b88a8a',\n",
       "     'question': 'Per quanto tempo è stato aperto?'},\n",
       "    {'answers': [{'answer_start': 80, 'text': 'un momento di silenzio'}],\n",
       "     'id': '56d66b221c85041400947103',\n",
       "     'question': 'Che cosa ha fatto la Cina per celebrare il primo anniversario del terremoto?'},\n",
       "    {'answers': [{'answer_start': 423, 'text': 'diversi concerti'}],\n",
       "     'id': '56d66b221c85041400947105',\n",
       "     'question': 'Che tipo di evento è stato dato per raccogliere fondi per i sopravvissuti al terremoto?'}]},\n",
       "  {'context': 'A seguito del terremoto, le donazioni sono state effettuate da persone provenienti da tutta la Cina continentale, con cabine allestite nelle scuole, presso le banche e nelle vicinanze di distributori di benzina. La gente ha anche donato sangue, con conseguente secondo Xinhua lungo line-up Xinhua nella maggior parte delle principali città cinesi. Molti donato attraverso messaggi di testo sui telefoni cellulari per i conti istituiti da China Unicom e China Mobile 16 maggio, il governo cinese aveva stanziato un totale di 772 milioni di dollari per il terremoto di soccorso finora, in forte aumento da $ 159 milioni di dollari dal 14 maggio sangue.',\n",
       "   'qas': [{'answers': [{'answer_start': 230, 'text': 'donato sangue'}],\n",
       "     'id': '56d666041c850414009470f1',\n",
       "     'question': 'Che cosa ha causato le lunghe linee nella maggior parte delle grandi città?'},\n",
       "    {'answers': [{'answer_start': 118, 'text': 'cabine'}],\n",
       "     'id': '56d666041c850414009470f2',\n",
       "     'question': 'Quali sono state le premesse cinesi per raccogliere donazioni?'},\n",
       "    {'answers': [{'answer_start': 524, 'text': '772 milioni di dollari'}],\n",
       "     'id': '56d666041c850414009470f4',\n",
       "     'question': 'Quanto aveva designato il governo cinese entro il 16 maggio?'}]},\n",
       "  {'context': 'La Società Croce Rossa della Cina ha volato 557 tende e 2.500 trapunte del valore di 788.000 yuan (113.000 dollari USA) nella contea di Wenchuan. La Fondazione Amity ha già iniziato i lavori di soccorso nella regione e ha stanziato 143.000 USD per i soccorsi in caso di catastrofe. Il ministero degli Affari civili del Sichuan ha dichiarato di aver fornito 30.000 tende per i senzatetto rimasti senza tetto.',\n",
       "   'qas': [{'answers': [{'answer_start': 44, 'text': '557'}],\n",
       "     'id': '56cece5caab44d1400b88a9b',\n",
       "     'question': 'Quante tende sono state volate nella regione?'},\n",
       "    {'answers': [{'answer_start': 56, 'text': '2.500'}],\n",
       "     'id': '56cece5caab44d1400b88a9c',\n",
       "     'question': 'Quanti trapunte sono state volate nella regione?'},\n",
       "    {'answers': [{'answer_start': 85, 'text': '788.000 yuan'}],\n",
       "     'id': '56cece5caab44d1400b88a9d',\n",
       "     'question': 'Quanto valevano entrambe le forniture?'},\n",
       "    {'answers': [{'answer_start': 357, 'text': '30.000'}],\n",
       "     'id': '56cece5caab44d1400b88a9f',\n",
       "     'question': 'Quante tende ha fornito il ministero del Sichuan ai senzatetto?'},\n",
       "    {'answers': [{'answer_start': 357, 'text': '30.000'}],\n",
       "     'id': '56d663b11c850414009470e5',\n",
       "     'question': 'Quante tende ha fornito il Ministero degli Affari del Sichuan?'},\n",
       "    {'answers': [{'answer_start': 146, 'text': 'La Fondazione Amity'}],\n",
       "     'id': '56d663b11c850414009470e7',\n",
       "     'question': 'Quali fondamenta avevano già iniziato i lavori di soccorso nella zona?'}]},\n",
       "  {'context': 'Il governo centrale stima che oltre 7.000 aule scolastiche non adeguatamente attrezzate siano crollate in seguito al terremoto. Da allora i cittadini cinesi hanno inventato una frase di cattura:\"tofu-dregs schoolhouses\" (Cinese:?????), per fingere sia la qualità che la quantità di queste costruzioni inferiori che hanno ucciso così tanti bambini in età scolare. A causa della politica del figlio unico, molte famiglie hanno perso l\\' unico figlio quando le scuole della regione sono crollate durante il terremoto. Di conseguenza, i funzionari provinciali e locali del Sichuan hanno abolito la restrizione per le famiglie il cui unico bambino è stato ucciso o gravemente ferito in seguito al disastro. I cosiddetti \"bambini illegali\" di età inferiore ai 18 anni possono essere registrati come sostituti legali dei loro fratelli morti; se il bambino morto fosse illegale, non si applicherebbero ulteriori sanzioni pecuniarie. Il rimborso non sarebbe tuttavia offerto per le ammende già riscosse.',\n",
       "   'qas': [{'answers': [{'answer_start': 36, 'text': '7.000'}],\n",
       "     'id': '56cecf68aab44d1400b88ab7',\n",
       "     'question': 'Quante aule scolastiche sono crollate nel terremoto?'},\n",
       "    {'answers': [{'answer_start': 195, 'text': 'tofu-dregs schoolhouses'}],\n",
       "     'id': '56cecf68aab44d1400b88ab8',\n",
       "     'question': \"Quale frase d' insieme è stata inventata a seguito del crollo delle scuole?\"},\n",
       "    {'answers': [{'answer_start': 195, 'text': 'tofu-dregs schoolhouses'}],\n",
       "     'id': '56d64a821c85041400947077',\n",
       "     'question': 'Che cosa ha iniziato la cittadinanza a chiamare questo tipo di scuole?'}]},\n",
       "  {'context': 'La sera del 18 maggio, il CCTV-1 ha ospitato un programma speciale di quattro ore chiamato The Giving of Love (cinese semplificato:???; cinese tradizionale:????), ospitato da regolari del Gala di Capodanno CCTV e dall\\' ancora di copertura 24 ore su 24 Bai Yansong. Vi hanno partecipato una vasta gamma di personaggi dello spettacolo, letterari, commerciali e politici provenienti dalla Cina continentale, Hong Kong, Singapore e Taiwan. Le donazioni della serata sono ammontate a 1,5 miliardi di yuan cinese (~208 milioni di dollari USA). Tra le donazioni, la TVCC ha dato il maggior contributo aziendale a ¥50 milioni. Quasi contemporaneamente a Taiwan, un programma tematico simile era in onda ospitato dal presidente in carica Ma Ying-jeou. A giugno, l\\' attore di Hong Kong Jackie Chan, che ha donato 1,57 milioni di dollari alle vittime, ha realizzato un video musicale insieme ad altri artisti intitolato \"Promise\"; la canzone è stata composta da Andy Lau. L\\' Artistes 512 Fund Raising Campaign, una maratona di raccolta fondi della durata di 8 ore, si è tenuta il 1° giugno a Hong Kong, alla quale hanno partecipato circa 200 musicisti e celebrità della Sinosfera. A Singapore, MediaCorp Channel 8 ha ospitato un programma dal vivo?? programma di quattro ore chiamato Il dono dell\\' amore.',\n",
       "   'qas': [{'answers': [{'answer_start': 252, 'text': 'Bai Yansong'}],\n",
       "     'id': '56cecff4aab44d1400b88abe',\n",
       "     'question': 'Quanto erano grandi le donazioni del programma?'},\n",
       "    {'answers': [{'answer_start': 803, 'text': '1,57 milioni di dollari'}],\n",
       "     'id': '56cecff4aab44d1400b88abf',\n",
       "     'question': 'Quanto ha donato Jackie Chan per sostenere?'},\n",
       "    {'answers': [{'answer_start': 1273, 'text': \"Il dono dell' amore\"}],\n",
       "     'id': '56cecff4aab44d1400b88ac1',\n",
       "     'question': 'Qual era il programma che CCTV-1 ha ospitato?'},\n",
       "    {'answers': [{'answer_start': 91, 'text': 'The Giving of Love'}],\n",
       "     'id': '56d6477c1c85041400947065',\n",
       "     'question': 'Quali sono state le donazioni totali per il programma?'},\n",
       "    {'answers': [{'answer_start': 26, 'text': 'CCTV'}],\n",
       "     'id': '56d6477c1c85041400947066',\n",
       "     'question': 'Quale azienda ha dato il massimo?'},\n",
       "    {'answers': [{'answer_start': 803, 'text': '1,57 milioni'}],\n",
       "     'id': '56d6477c1c85041400947067',\n",
       "     'question': \"Quanto ha donato l' attore Jackie Chan?\"}]},\n",
       "  {'context': 'Gli sforzi di salvataggio compiuti dal governo cinese sono stati elogiati dai media occidentali, soprattutto in confronto al blocco degli aiuti stranieri da parte del Myanmar durante il ciclone Nargis, nonché ai precedenti risultati della Cina durante il terremoto di Tangshan del 1976. L\\' apertura della Cina durante la copertura mediatica del terremoto del Sichuan ha portato un professore presso l\\' Università di Pechino a dire:\"Questa è la prima volta[che] i media cinesi sono stati all\\' altezza degli standard internazionali\". Los Angeles Times ha elogiato la copertura mediatica della Cina del terremoto di essere \"democratico\".',\n",
       "   'qas': [{'answers': [{'answer_start': 138, 'text': 'aiuti stranieri'}],\n",
       "     'id': '56d61fc11c85041400946f24',\n",
       "     'question': 'Che cosa ha fatto blocco Myanmar dopo Cyclone Nargis?'},\n",
       "    {'answers': [{'answer_start': 532, 'text': 'Los Angeles Times'}],\n",
       "     'id': '56d61fc11c85041400946f26',\n",
       "     'question': 'Chi ha elogiato la copertura mediatica cinese come democratica?'}]},\n",
       "  {'context': 'A causa del terremoto di magnitudo 7,9 e delle numerose forti scosse di assestamento, molti fiumi sono stati bloccati da grandi frane, che hanno portato alla formazione di \"laghi di sisma\" dietro le ostruzioni; queste enormi quantità d\\' acqua si stavano accumulando ad un ritmo molto elevato dietro le dighe naturali di frane e si temeva che le ostruzioni sarebbero infine crollate sotto il peso della massa d\\' acqua sempre crescente, potenzialmente mettendo a repentaglio la vita di milioni di persone. Al 27 maggio 2008,34 laghi si erano formati a causa del terremoto che bloccava i detriti e arginava i fiumi, e si stimava che 28 di essi fossero ancora potenzialmente pericolosi per la popolazione locale. Gli interi villaggi hanno dovuto essere evacuati a causa delle conseguenti inondazioni.',\n",
       "   'qas': [{'answers': [{'answer_start': 522, 'text': '34'}],\n",
       "     'id': '56cedd7daab44d1400b88b50',\n",
       "     'question': 'Quanti laghi di tremito si sono formati?'},\n",
       "    {'answers': [{'answer_start': 630, 'text': '28'}],\n",
       "     'id': '56cedd7daab44d1400b88b51',\n",
       "     'question': 'Quanti laghi costituivano un pericolo per le persone?'},\n",
       "    {'answers': [{'answer_start': 121, 'text': 'grandi frane'}],\n",
       "     'id': '56d624261c85041400946f2d',\n",
       "     'question': 'Che cosa ha bloccato molti dei fiumi della zona?'},\n",
       "    {'answers': [{'answer_start': 522, 'text': '34'}],\n",
       "     'id': '56d624261c85041400946f2f',\n",
       "     'question': 'A partire dal 27 maggio quanti laghi sismici si erano formati dietro i detriti di frane?'},\n",
       "    {'answers': [{'answer_start': 713, 'text': 'interi villaggi'}],\n",
       "     'id': '56d624261c85041400946f30',\n",
       "     'question': 'Che cosa doveva essere evacuato a causa di un potenziale allagamento?'}]},\n",
       "  {'context': \"Il più precario di questi ciarlatani era quello che si trovava nel terreno estremamente difficile del Monte Tangjia nella contea di Beichuan, Sichuan, accessibile solo a piedi o in aereo; un elicottero di sollevamento pesante Mi-26T appartenente alla China Flying Dragon Special Aviation Company è stato utilizzato per portare pesanti trattori movimento terra nella zona colpita. Questa operazione è stata accoppiata con il lavoro svolto da elicotteri PLAAF Mi-17 portando in corpi di ingegneria PLA, specialisti di esplosivi e altro personale per unire 1.200 soldati che sono arrivati sul posto a piedi. Cinque tonnellate di combustibile per azionare il macchinario sono state trasportate in aria fino al sito, dove è stata costruita una saracinesca per consentire lo scarico sicuro dell' acqua di strozzatura. A valle, più di 200.000 persone sono state evacuate dal Mianyang entro il 1 giugno in previsione dello scoppio della diga.\",\n",
       "   'qas': [{'answers': [{'answer_start': 102,\n",
       "       'text': 'Monte Tangjia nella contea di Beichuan, Sichuan'}],\n",
       "     'id': '56ceddf6aab44d1400b88b67',\n",
       "     'question': 'Dove si trovava il lago più precario?'},\n",
       "    {'answers': [{'answer_start': 335, 'text': 'trattori'}],\n",
       "     'id': '56ceddf6aab44d1400b88b69',\n",
       "     'question': 'Quali macchine sono state trasportate in aereo?'},\n",
       "    {'answers': [{'answer_start': 828, 'text': '200.000'}],\n",
       "     'id': '56ceddf6aab44d1400b88b6b',\n",
       "     'question': 'Quante persone sono state evacuate a valle?'},\n",
       "    {'answers': [{'answer_start': 912, 'text': 'lo scoppio della diga'}],\n",
       "     'id': '56d62b0f1c85041400946f5e',\n",
       "     'question': \"Qual è stata la paura che ha causato l' evacuazione di 200.000 persone dal Mianyang?\"},\n",
       "    {'answers': [{'answer_start': 102, 'text': 'Monte Tangjia'}],\n",
       "     'id': '56d62b0f1c85041400946f5f',\n",
       "     'question': 'Dove si trovava il peggio dei laghi sismici?'},\n",
       "    {'answers': [{'answer_start': 122, 'text': 'contea di Beichuan, Sichuan'}],\n",
       "     'id': '56d62b0f1c85041400946f60',\n",
       "     'question': 'Dove si trova il monte Tangjia?'},\n",
       "    {'answers': [{'answer_start': 554, 'text': '1.200'}],\n",
       "     'id': '56d62b0f1c85041400946f62',\n",
       "     'question': 'Quanti soldati hanno dovuto recarsi nella zona a piedi?'}]},\n",
       "  {'context': 'Il Consiglio di Stato ha dichiarato un periodo di tre giorni di lutto nazionale per le vittime del terremoto a partire dal 19 maggio 2008, la bandiera nazionale della RPC e le bandiere regionali di Hong Kong e Macao regioni amministrative speciali ha volato a metà albero. Era la prima volta che un periodo di lutto nazionale era stato dichiarato per qualcosa di diverso dalla morte di un leader statale, e molti lo hanno definito la più grande manifestazione di lutto dalla morte di Mao Zedong. Alle 14:28 CST 28 il 19 maggio 2008, una settimana dopo il terremoto, il pubblico cinese ha tenuto un momento di silenzio. La gente taceva per tre minuti mentre la difesa aerea, la polizia e le sirene antincendio, e le corna di veicoli, navi e treni suonavano. Anche le auto e i camion sulle strade di Pechino si sono fermati. La gente spontaneamente scoppiò in allegria \"Zhongguo jiayou\"! (Vai, Cina!) e \"Sichuan jiayou\" (Let\\'s go, Sichuan!).',\n",
       "   'qas': [{'answers': [{'answer_start': 547, 'text': 'dopo'}],\n",
       "     'id': '56cede78aab44d1400b88b7c',\n",
       "     'question': 'Chi ha dichiarato il lutto?'},\n",
       "    {'answers': [{'answer_start': 64, 'text': 'lutto nazionale'}],\n",
       "     'id': '56d62ce51c85041400946f7a',\n",
       "     'question': 'Che cosa ha dichiarato il Consiglio di Stato?'},\n",
       "    {'answers': [{'answer_start': 484, 'text': 'Mao Zedong'}],\n",
       "     'id': '56d62ce51c85041400946f7b',\n",
       "     'question': 'Questa è stata la più grande manifestazione di lutto dalla morte di chi?'},\n",
       "    {'answers': [{'answer_start': 123, 'text': '19 maggio 2008'}],\n",
       "     'id': '56d62ce51c85041400946f7c',\n",
       "     'question': 'Quando i cinesi hanno avuto un momento di silenzio?'},\n",
       "    {'answers': [{'answer_start': 39, 'text': 'periodo di tre giorni'}],\n",
       "     'id': '56d62ce51c85041400946f7e',\n",
       "     'question': 'Quanto tempo è durato il lutto nazionale per le vittime del terremoto?'}]},\n",
       "  {'context': \"Il Comitato Organizzatore di Ningbo del comitato organizzatore della torcia olimpica di Pechino ha annunciato che la staffetta, prevista per svolgersi a Ningbo durante la mattinata nazionale, sarebbe stata sospesa per la durata del periodo di lutto. Il percorso della torcia attraverso il paese è stato ridimensionato, e c' è stato un minuto di silenzio quando la tappa successiva ha iniziato nella città di Ruijin, Jiangxi il mercoledì dopo il terremoto.\",\n",
       "   'qas': [{'answers': [{'answer_start': 29, 'text': 'Ningbo'}],\n",
       "     'id': '56cedecdaab44d1400b88b8e',\n",
       "     'question': \"Dov' era previsto il relè?\"},\n",
       "    {'answers': [{'answer_start': 151, 'text': 'a Ningbo'}],\n",
       "     'id': '56d62e501c85041400946f95',\n",
       "     'question': 'Dove doveva avvenire il relè della torcia?'},\n",
       "    {'answers': [{'answer_start': 250, 'text': 'Il percorso'}],\n",
       "     'id': '56d62e501c85041400946f96',\n",
       "     'question': 'Quale parte del relè ha cambiato?'},\n",
       "    {'answers': [{'answer_start': 408, 'text': 'Ruijin, Jiangxi'}],\n",
       "     'id': '56d62e501c85041400946f97',\n",
       "     'question': \"Dove c' era un minuto di silenzio durante la staffetta?\"}]},\n",
       "  {'context': 'Molti siti web hanno convertito la loro home page in bianco e nero; Sina. com e Sohu, i principali portali internet, hanno limitato le loro homepage alle notizie e rimosso tutte le pubblicità. I siti web cinesi di condivisione video Youku e Tudou hanno mostrato uno sfondo nero e collocato più video che mostrano filmati di terremoto e reportage di notizie. La versione cinese di MSN, cn. msn. com, mostrava anche annunci pubblicitari sul terremoto e gli sforzi di soccorso.',\n",
       "   'qas': []},\n",
       "  {'context': \"Ye Zhiping, il preside della scuola media di Sangzao a Sangzao, una delle più grandi della Contea di An, ha ricevuto il merito di un' azione proattiva che ha risparmiato la vita a tutti i 2.323 alunni presenti quando si è verificato il terremoto. Nel corso di un triennio che si è concluso nel 2007, ha seguito un' importante revisione della sua scuola. Durante quel periodo ha ottenuto più di 400.000 yuan (US$60.000) dal dipartimento di istruzione contea, denaro usato per ampliare e rafforzare i pilastri di cemento e la ringhiera balcone di tutti e quattro i piani della sua scuola, così come fissare i pavimenti in cemento.\",\n",
       "   'qas': [{'answers': [{'answer_start': 0, 'text': 'Ye Zhiping'}],\n",
       "     'id': '56cee003aab44d1400b88bb1',\n",
       "     'question': 'Chi era il preside della scuola media di Sangzao?'},\n",
       "    {'answers': [{'answer_start': 188, 'text': '2.323'}],\n",
       "     'id': '56cee003aab44d1400b88bb3',\n",
       "     'question': 'Quanti studenti hanno frequentato la scuola?'},\n",
       "    {'answers': [{'answer_start': 394, 'text': '400.000 yuan'}],\n",
       "     'id': '56cee003aab44d1400b88bb5',\n",
       "     'question': 'Quanto denaro è stato utilizzato per rafforzare la costruzione della scuola?'},\n",
       "    {'answers': [{'answer_start': 0, 'text': 'Ye Zhiping'}],\n",
       "     'id': '56d64f7c1c85041400947095',\n",
       "     'question': 'Quale direttore scolastico ha rafforzato la sua scuola?'},\n",
       "    {'answers': [{'answer_start': 45, 'text': 'Sangzao'}],\n",
       "     'id': '56d64f7c1c85041400947097',\n",
       "     'question': \"Dov' è la scuola media di Sangzao?\"}]},\n",
       "  {'context': \"Tuttavia, Reuters ha riferito nel mese di giugno che, ad oggi, i pubblici ministeri cinesi hanno aderito a un' indagine ufficiale in dieci scuole crollato durante il devastante terremoto di maggio per ottenere materiale di prima mano della qualità delle costruzioni nelle scuole crollato, avviare indagini preliminari e prepararsi per eventuali indagini sulla criminalità professionale. È stato inoltre riferito che, dopo il terremoto del mese scorso, si sarebbero dovuti effettuare controlli di sicurezza nelle scuole di tutta la Cina.\",\n",
       "   'qas': [{'answers': [{'answer_start': 483,\n",
       "       'text': 'controlli di sicurezza'}],\n",
       "     'id': '56cee069aab44d1400b88bbd',\n",
       "     'question': 'Cosa doveva essere fatto nelle scuole dopo il sisma?'},\n",
       "    {'answers': [{'answer_start': 360, 'text': 'criminalità professionale'}],\n",
       "     'id': '56d658061c850414009470a8',\n",
       "     'question': 'Quali indagini stanno conducendo i pubblici ministeri?'},\n",
       "    {'answers': [{'answer_start': 512, 'text': 'scuole di tutta la Cina'}],\n",
       "     'id': '56d658061c850414009470a9',\n",
       "     'question': 'Dove saranno i cinesi ad effettuare i controlli di sicurezza?'},\n",
       "    {'answers': [{'answer_start': 10, 'text': 'Reuters'}],\n",
       "     'id': '56d658061c850414009470aa',\n",
       "     'question': 'Quale gruppo ha riferito che i pubblici ministeri cinesi sono stati coinvolti nelle indagini sui crolli della scuola?'}]},\n",
       "  {'context': 'Il New York Times ha riferito che \"funzionari di governo a Pechino e Sichuan hanno detto che stanno indagando sui crolli. Riconoscendo la debolezza dei codici edilizi nelle campagne, il 27 maggio la Commissione nazionale per lo sviluppo e la riforma ha dichiarato di aver elaborato un emendamento per migliorare gli standard di costruzione delle scuole elementari e medie nelle zone rurali. Gli esperti stanno rivedendo il progetto, ha detto la commissione. Per limitare le proteste, i funzionari hanno spinto i genitori a firmare un documento che vietava loro di organizzare proteste in cambio di denaro, ma alcuni che si rifiutavano di firmare sono stati minacciati. Gli importi dei pagamenti variavano da scuola a scuola, ma erano all\\' incirca gli stessi. Ad Hanwang, ai genitori è stato offerto un pacchetto del valore di 8.800 USD in contanti e una pensione per genitore di quasi 5.600 USD.',\n",
       "   'qas': [{'answers': [{'answer_start': 462, 'text': 'limitare le proteste'}],\n",
       "     'id': '56d65a4b1c850414009470b0',\n",
       "     'question': 'Cosa stanno cercando di fare i funzionari per protestare i genitori?'},\n",
       "    {'answers': [{'answer_start': 598, 'text': 'denaro'}],\n",
       "     'id': '56d65a4b1c850414009470b1',\n",
       "     'question': 'Quali sono i funzionari che offrono ai genitori in cambio di proteste?'}]},\n",
       "  {'context': 'Oltre ai genitori, Liu Shaokun (???), un insegnante di scuola del Sichuan, è stato arrestato il 25 giugno 2008 per \"diffondere voci e distruggere l\\' ordine sociale\" sul terremoto del Sichuan. La famiglia di Liu è stato poi detto che egli è stato indagato su sospetto del reato di istigazione alla sovversione. Liu aveva viaggiato per lo Shifang, scattato foto di edifici scolastici crollati, e metterli online. Aveva anche espresso la sua rabbia per \"gli edifici scadenti tofu-dregs\" (?????) in un\\' intervista ai media. Gli è stato ordinato di servire un anno di rieducazione attraverso il lavoro (RTL). Secondo l\\' organizzazione per i diritti umani in Cina, Liu è stato rilasciato per scontare la sua condanna RTL al di fuori del campo di lavoro.',\n",
       "   'qas': [{'answers': [{'answer_start': 19, 'text': 'Liu Shaokun'}],\n",
       "     'id': '56cee14aaab44d1400b88bcb',\n",
       "     'question': 'Chi era un insegnante di scuola del Sichuan?'},\n",
       "    {'answers': [{'answer_start': 271,\n",
       "       'text': 'reato di istigazione alla sovversione'}],\n",
       "     'id': '56d65c671c850414009470ba',\n",
       "     'question': 'Perché è stato indagato?'},\n",
       "    {'answers': [{'answer_start': 394, 'text': 'metterli online'}],\n",
       "     'id': '56d65c671c850414009470bb',\n",
       "     'question': 'Che cosa ha fatto Liu Shankun con le foto che ha scattato delle scuole crollate?'},\n",
       "    {'answers': [{'answer_start': 492, 'text': \"in un' intervista ai media\"}],\n",
       "     'id': '56d65c671c850414009470bc',\n",
       "     'question': 'Dove ha definito gli edifici scolastici scadenti?'},\n",
       "    {'answers': [{'answer_start': 552, 'text': 'un anno di rieducazione'}],\n",
       "     'id': '56d65c671c850414009470bd',\n",
       "     'question': 'Qual era la sua punizione assegnata?'}]},\n",
       "  {'context': 'Nel gennaio 2010, il giornale inglese con sede a Hong Kong The Standard ha riferito che lo scrittore Tan Zuoren ha tentato di documentare la costruzione scadente che potrebbe aver portato a massicce vittime nelle scuole, è stato condannato in prigione apparentemente per la sua scrittura di un articolo nel 2007 a sostegno del movimento pro-democrazia nel 1989.',\n",
       "   'qas': [{'answers': [{'answer_start': 303, 'text': 'nel 2007'}],\n",
       "     'id': '56cee1e4aab44d1400b88be0',\n",
       "     'question': 'Quando è avvenuta la condanna?'},\n",
       "    {'answers': [{'answer_start': 4, 'text': 'gennaio 2010'}],\n",
       "     'id': '56cee1e4aab44d1400b88be1',\n",
       "     'question': \"Quando è stato pubblicato l' articolo sul caso?\"}]},\n",
       "  {'context': \"A causa della magnitudo del terremoto e dell' attenzione mediatica sulla Cina, le nazioni e le organizzazioni straniere hanno risposto immediatamente al disastro offrendo condoglianze e assistenza. Il 14 maggio, l' UNICEF ha riferito che la Cina ha chiesto formalmente il sostegno della comunità internazionale per rispondere ai bisogni delle famiglie colpite.\",\n",
       "   'qas': [{'answers': [{'answer_start': 234,\n",
       "       'text': 'che la Cina ha chiesto formalmente il sostegno della comunità internazionale'}],\n",
       "     'id': '56cee23caab44d1400b88be6',\n",
       "     'question': \"Che cosa ha riferito l' UNICEF?\"},\n",
       "    {'answers': [{'answer_start': 171, 'text': 'condoglianze e assistenza'}],\n",
       "     'id': '56d660e91c850414009470d3',\n",
       "     'question': 'Che cosa hanno offerto alla Cina le nazioni straniere a causa della gravità del terremoto?'},\n",
       "    {'answers': [{'answer_start': 201, 'text': '14 maggio'}],\n",
       "     'id': '56d660e91c850414009470d4',\n",
       "     'question': 'Quando ha chiesto formalmente aiuto alla comunità internazionale?'},\n",
       "    {'answers': [{'answer_start': 215, 'text': 'UNICEF'}],\n",
       "     'id': '56d660e91c850414009470d5',\n",
       "     'question': 'Quale organizzazione ha riferito che la Cina ha chiesto aiuto?'}]},\n",
       "  {'context': \"Entro il 14 maggio, il Ministero degli Affari civili ha dichiarato che 10,7 miliardi di yuan (circa 1,5 miliardi di dollari) era stato donato dal pubblico cinese. Houston Rockets centro Yao Ming, una delle icone sportive più popolari del paese, ha dato $214.000 e $71.000 alla Società Croce Rossa della Cina. L' associazione ha inoltre raccolto un totale di 26 milioni di dollari in donazioni finora raccolte. Anche altre multinazionali situate in Cina hanno annunciato ingenti donazioni.\",\n",
       "   'qas': [{'answers': [{'answer_start': 358,\n",
       "       'text': '26 milioni di dollari'}],\n",
       "     'id': '56cee294aab44d1400b88bed',\n",
       "     'question': 'Quanto ha raccolto la Croce Rossa in donazioni?'},\n",
       "    {'answers': [{'answer_start': 71, 'text': '10,7 miliardi di yuan'}],\n",
       "     'id': '56d6622d1c850414009470db',\n",
       "     'question': 'Quanto denaro era stato donato entro il 14 maggio?'},\n",
       "    {'answers': [{'answer_start': 186, 'text': 'Yao Ming'}],\n",
       "     'id': '56d6622d1c850414009470dd',\n",
       "     'question': 'Quale famoso giocatore di basket ha fatto due grandi donazioni alla crisi?'},\n",
       "    {'answers': [{'answer_start': 358, 'text': '26 milioni'}],\n",
       "     'id': '56d6622d1c850414009470de',\n",
       "     'question': 'Quanto ha raccolto la Società della Croce Rossa?'}]},\n",
       "  {'context': 'Francis Marcus della Federazione Internazionale della Croce Rossa ha elogiato lo sforzo cinese di salvataggio come \"veloce e molto efficiente\" a Pechino martedì. Ma ha aggiunto che la portata del disastro era tale che \"non possiamo aspettarci che il governo possa fare tutto e gestire ogni aspetto delle necessità\". L\\' economista ha osservato che la Cina ha reagito al disastro \"rapidamente e con un\\' insolita apertura\", contrastandola con la risposta segreta della Birmania al ciclone Nargis, che ha devastato il paese 10 giorni prima del terremoto.',\n",
       "   'qas': [{'answers': [{'answer_start': 410, 'text': 'apertura'}],\n",
       "     'id': '56d614dd1c85041400946f07',\n",
       "     'question': 'Quale atteggiamento atipico ha mostrato la Cina?'},\n",
       "    {'answers': [{'answer_start': 520, 'text': '10 giorni'}],\n",
       "     'id': '56d614dd1c85041400946f09',\n",
       "     'question': 'Quanto tempo prima del terremoto il ciclone Nargis colpì la Birmania?'},\n",
       "    {'answers': [{'answer_start': 21,\n",
       "       'text': 'Federazione Internazionale della Croce Rossa'}],\n",
       "     'id': '56d614dd1c85041400946f0a',\n",
       "     'question': 'Quale organizzazione ha rappresentato Francesco Marco?'}]},\n",
       "  {'context': 'Tutte le emittenti televisive della Cina continentale (insieme ad alcune stazioni di Hong Kong e delle comunità espatriate) hanno cancellato tutti i programmi programmati regolarmente, hanno mostrato il loro logo in scala di grigi e hanno sostituito i programmi cancellati con filmati dal vivo del CCTV-1 per più giorni dopo il terremoto. Anche i canali televisivi a pagamento (come il canale V) sono stati sospesi.',\n",
       "   'qas': [{'answers': [{'answer_start': 298, 'text': 'CCTV-1'}],\n",
       "     'id': '56d646091c8504140094705e',\n",
       "     'question': 'Qual è stata la fonte dei feed live?'}]},\n",
       "  {'context': \"Sebbene il governo cinese sia stato inizialmente elogiato per la sua risposta al terremoto (soprattutto rispetto al blocco degli aiuti da parte della giunta militare di governo del Myanmar durante il ciclone Nargis), ha poi visto un' erosione della fiducia nello scandalo della costruzione scolastica.\",\n",
       "   'qas': [{'answers': [{'answer_start': 181, 'text': 'Myanmar'}],\n",
       "     'id': '56d6488e1c8504140094706f',\n",
       "     'question': 'Quale governo ha bloccato gli aiuti dopo il ciclone Nargis?'},\n",
       "    {'answers': [{'answer_start': 263,\n",
       "       'text': 'scandalo della costruzione scolastica'}],\n",
       "     'id': '56d6488e1c85041400947070',\n",
       "     'question': \"Su quale scandalo ha perso nell' opinione pubblica il governo cinese?\"},\n",
       "    {'answers': [{'answer_start': 69, 'text': 'risposta al terremoto'}],\n",
       "     'id': '56d6488e1c85041400947071',\n",
       "     'question': 'A cosa è stato lodato per la prima volta il governo cinese?'}]},\n",
       "  {'context': \"Il 29 maggio 2008, i funzionari governativi hanno iniziato a ispezionare le rovine di migliaia di scuole crollate, alla ricerca di indizi sul perché si sono sgretolate. Migliaia di genitori in tutta la provincia hanno accusato funzionari locali e costruttori di tagliare angoli nella costruzione della scuola, citando che dopo il terremoto altri edifici vicini sono stati poco danneggiati. All' indomani del terremoto, molti governi locali hanno promesso di indagare formalmente sui crolli della scuola, ma a partire dal 17 luglio 2008 in tutto il Sichuan, i genitori di bambini perduti nelle scuole crollate si sono lamentati di non aver ancora ricevuto alcuna segnalazione. Funzionari locali li ha esortati a non protestare, ma i genitori hanno dimostrato e chiesto un' indagine. Inoltre, i censori hanno scoraggiato la pubblicazione sui media di storie di scuole costruite in modo inadeguato e vi è stato un incidente in cui la polizia ha allontanato i manifestanti.\",\n",
       "   'qas': []},\n",
       "  {'context': 'Il AP ha riferito che \"I media controllati dallo Stato ha ampiamente ignorato la questione, apparentemente sotto le istruzioni dell\\' ufficio di propaganda. Genitori e volontari che hanno interrogato le autorità sono stati detenuti e minacciati.',\n",
       "   'qas': [{'answers': [{'answer_start': 25,\n",
       "       'text': 'media controllati dallo Stato'}],\n",
       "     'id': '56d650911c8504140094709f',\n",
       "     'question': 'Chi ha ignorato la questione della scuola?'},\n",
       "    {'answers': [{'answer_start': 0, 'text': 'Il AP'}],\n",
       "     'id': '56d650911c850414009470a2',\n",
       "     'question': 'Quale fonte mediatica ha riferito che ciò accade?'}]},\n",
       "  {'context': 'Il 15 maggio 2008 Geoffery York del Globeandmail. com ha riferito che gli edifici di costruzione scadente sono comunemente chiamati \"edifici tofu\" perché i costruttori tagliano gli angoli sostituendo barre d\\' acciaio con fili di ferro sottili per il rinforzo del calcestruzzo, utilizzando cemento di qualità inferiore, se ce ne sono, e utilizzando meno mattoni di quanto dovrebbero.',\n",
       "   'qas': []},\n",
       "  {'context': \"Rimangono tuttavia ancora delle domande, in quanto alcuni funzionari di governo corrotti non sono ancora stati consegnati alla giustizia, mentre le numerose famiglie che hanno perso l' unico figlio, cercano ancora di ottenere un risarcimento e di rendere giustizia a quanto era accaduto. Secondo il Times, molti genitori sono stati avvertiti dal governo di non mettere in scena una protesta sotto la minaccia dell' arresto.\",\n",
       "   'qas': []}]}"
      ]
     },
     "execution_count": 5,
     "metadata": {},
     "output_type": "execute_result"
    }
   ],
   "source": [
    "squad_it_dataset[\"train\"][0]"
   ]
  },
  {
   "cell_type": "code",
   "execution_count": 7,
   "id": "366effc9-66da-4677-9b3d-060fd7b5af5c",
   "metadata": {},
   "outputs": [
    {
     "name": "stderr",
     "output_type": "stream",
     "text": [
      "Using custom data configuration default-4a22ed95e9296331\n"
     ]
    },
    {
     "name": "stdout",
     "output_type": "stream",
     "text": [
      "Downloading and preparing dataset json/default to /root/.cache/huggingface/datasets/json/default-4a22ed95e9296331/0.0.0/a3e658c4731e59120d44081ac10bf85dc7e1388126b92338344ce9661907f253...\n"
     ]
    },
    {
     "data": {
      "application/vnd.jupyter.widget-view+json": {
       "model_id": "8a4c2c20d5d348c2bfa45d0bfde2bf75",
       "version_major": 2,
       "version_minor": 0
      },
      "text/plain": [
       "Downloading data files:   0%|          | 0/2 [00:00<?, ?it/s]"
      ]
     },
     "metadata": {},
     "output_type": "display_data"
    },
    {
     "data": {
      "application/vnd.jupyter.widget-view+json": {
       "model_id": "73ef25c0502a4d28861401fb79a3a9b8",
       "version_major": 2,
       "version_minor": 0
      },
      "text/plain": [
       "Extracting data files:   0%|          | 0/2 [00:00<?, ?it/s]"
      ]
     },
     "metadata": {},
     "output_type": "display_data"
    },
    {
     "data": {
      "application/vnd.jupyter.widget-view+json": {
       "model_id": "",
       "version_major": 2,
       "version_minor": 0
      },
      "text/plain": [
       "0 tables [00:00, ? tables/s]"
      ]
     },
     "metadata": {},
     "output_type": "display_data"
    },
    {
     "data": {
      "application/vnd.jupyter.widget-view+json": {
       "model_id": "",
       "version_major": 2,
       "version_minor": 0
      },
      "text/plain": [
       "0 tables [00:00, ? tables/s]"
      ]
     },
     "metadata": {},
     "output_type": "display_data"
    },
    {
     "name": "stdout",
     "output_type": "stream",
     "text": [
      "Dataset json downloaded and prepared to /root/.cache/huggingface/datasets/json/default-4a22ed95e9296331/0.0.0/a3e658c4731e59120d44081ac10bf85dc7e1388126b92338344ce9661907f253. Subsequent calls will reuse this data.\n"
     ]
    },
    {
     "data": {
      "application/vnd.jupyter.widget-view+json": {
       "model_id": "61471be1b5a64ba3867f3595e6366d12",
       "version_major": 2,
       "version_minor": 0
      },
      "text/plain": [
       "  0%|          | 0/2 [00:00<?, ?it/s]"
      ]
     },
     "metadata": {},
     "output_type": "display_data"
    },
    {
     "data": {
      "text/plain": [
       "DatasetDict({\n",
       "    train: Dataset({\n",
       "        features: ['title', 'paragraphs'],\n",
       "        num_rows: 442\n",
       "    })\n",
       "    test: Dataset({\n",
       "        features: ['title', 'paragraphs'],\n",
       "        num_rows: 48\n",
       "    })\n",
       "})"
      ]
     },
     "execution_count": 7,
     "metadata": {},
     "output_type": "execute_result"
    }
   ],
   "source": [
    "data_files = {\"train\":\"SQuAD_it-train.json\", \"test\":\"SQuAD_it-test.json\"}\n",
    "squad_it_dataset = load_dataset(\"json\", data_files=data_files, field=\"data\")\n",
    "squad_it_dataset"
   ]
  },
  {
   "cell_type": "code",
   "execution_count": 8,
   "id": "6d6586d7-76f5-487b-b68c-d359a25a06b5",
   "metadata": {},
   "outputs": [
    {
     "name": "stderr",
     "output_type": "stream",
     "text": [
      "Using custom data configuration default-db4f121605ca4ead\n"
     ]
    },
    {
     "name": "stdout",
     "output_type": "stream",
     "text": [
      "Downloading and preparing dataset json/default to /root/.cache/huggingface/datasets/json/default-db4f121605ca4ead/0.0.0/a3e658c4731e59120d44081ac10bf85dc7e1388126b92338344ce9661907f253...\n"
     ]
    },
    {
     "data": {
      "application/vnd.jupyter.widget-view+json": {
       "model_id": "9f2865c1e7464ae5b241daddb7601a5a",
       "version_major": 2,
       "version_minor": 0
      },
      "text/plain": [
       "Downloading data files:   0%|          | 0/2 [00:00<?, ?it/s]"
      ]
     },
     "metadata": {},
     "output_type": "display_data"
    },
    {
     "data": {
      "application/vnd.jupyter.widget-view+json": {
       "model_id": "5c1a000a023e44f48eb1c336dd118f0e",
       "version_major": 2,
       "version_minor": 0
      },
      "text/plain": [
       "Extracting data files:   0%|          | 0/2 [00:00<?, ?it/s]"
      ]
     },
     "metadata": {},
     "output_type": "display_data"
    },
    {
     "data": {
      "application/vnd.jupyter.widget-view+json": {
       "model_id": "",
       "version_major": 2,
       "version_minor": 0
      },
      "text/plain": [
       "0 tables [00:00, ? tables/s]"
      ]
     },
     "metadata": {},
     "output_type": "display_data"
    },
    {
     "data": {
      "application/vnd.jupyter.widget-view+json": {
       "model_id": "",
       "version_major": 2,
       "version_minor": 0
      },
      "text/plain": [
       "0 tables [00:00, ? tables/s]"
      ]
     },
     "metadata": {},
     "output_type": "display_data"
    },
    {
     "name": "stdout",
     "output_type": "stream",
     "text": [
      "Dataset json downloaded and prepared to /root/.cache/huggingface/datasets/json/default-db4f121605ca4ead/0.0.0/a3e658c4731e59120d44081ac10bf85dc7e1388126b92338344ce9661907f253. Subsequent calls will reuse this data.\n"
     ]
    },
    {
     "data": {
      "application/vnd.jupyter.widget-view+json": {
       "model_id": "eac091816c964e3194fee3174d4c629a",
       "version_major": 2,
       "version_minor": 0
      },
      "text/plain": [
       "  0%|          | 0/2 [00:00<?, ?it/s]"
      ]
     },
     "metadata": {},
     "output_type": "display_data"
    },
    {
     "data": {
      "text/plain": [
       "DatasetDict({\n",
       "    train: Dataset({\n",
       "        features: ['title', 'paragraphs'],\n",
       "        num_rows: 442\n",
       "    })\n",
       "    test: Dataset({\n",
       "        features: ['title', 'paragraphs'],\n",
       "        num_rows: 48\n",
       "    })\n",
       "})"
      ]
     },
     "execution_count": 8,
     "metadata": {},
     "output_type": "execute_result"
    }
   ],
   "source": [
    "data_files = {\"train\":\"SQuAD_it-train.json.gz\", \"test\":\"SQuAD_it-test.json.gz\"}\n",
    "squad_it_dataset = load_dataset(\"json\", data_files=data_files, field=\"data\")\n",
    "squad_it_dataset"
   ]
  },
  {
   "cell_type": "markdown",
   "id": "5e0bad9c-b526-4b0f-a326-254fc84fbaf2",
   "metadata": {},
   "source": [
    "## Loading a remote dataset"
   ]
  },
  {
   "cell_type": "code",
   "execution_count": 9,
   "id": "5ed59813-d903-4c7e-bdae-4c7fe67c75c6",
   "metadata": {},
   "outputs": [
    {
     "name": "stderr",
     "output_type": "stream",
     "text": [
      "Using custom data configuration default-57dcee3ea6992346\n"
     ]
    },
    {
     "name": "stdout",
     "output_type": "stream",
     "text": [
      "Downloading and preparing dataset json/default to /root/.cache/huggingface/datasets/json/default-57dcee3ea6992346/0.0.0/a3e658c4731e59120d44081ac10bf85dc7e1388126b92338344ce9661907f253...\n"
     ]
    },
    {
     "data": {
      "application/vnd.jupyter.widget-view+json": {
       "model_id": "b66d23187d304a47aea9c23ee3fa0674",
       "version_major": 2,
       "version_minor": 0
      },
      "text/plain": [
       "Downloading data files:   0%|          | 0/2 [00:00<?, ?it/s]"
      ]
     },
     "metadata": {},
     "output_type": "display_data"
    },
    {
     "data": {
      "application/vnd.jupyter.widget-view+json": {
       "model_id": "a51ab51e340e43f7aca46bb70ef648af",
       "version_major": 2,
       "version_minor": 0
      },
      "text/plain": [
       "Downloading data:   0%|          | 0.00/7.73M [00:00<?, ?B/s]"
      ]
     },
     "metadata": {},
     "output_type": "display_data"
    },
    {
     "data": {
      "application/vnd.jupyter.widget-view+json": {
       "model_id": "e8b74e9717fc4336b537a7f6a61e7b78",
       "version_major": 2,
       "version_minor": 0
      },
      "text/plain": [
       "Downloading data:   0%|          | 0.00/1.05M [00:00<?, ?B/s]"
      ]
     },
     "metadata": {},
     "output_type": "display_data"
    },
    {
     "data": {
      "application/vnd.jupyter.widget-view+json": {
       "model_id": "aa951bb5f5b64c9480837cbb32aa6e26",
       "version_major": 2,
       "version_minor": 0
      },
      "text/plain": [
       "Extracting data files:   0%|          | 0/2 [00:00<?, ?it/s]"
      ]
     },
     "metadata": {},
     "output_type": "display_data"
    },
    {
     "data": {
      "application/vnd.jupyter.widget-view+json": {
       "model_id": "",
       "version_major": 2,
       "version_minor": 0
      },
      "text/plain": [
       "0 tables [00:00, ? tables/s]"
      ]
     },
     "metadata": {},
     "output_type": "display_data"
    },
    {
     "data": {
      "application/vnd.jupyter.widget-view+json": {
       "model_id": "",
       "version_major": 2,
       "version_minor": 0
      },
      "text/plain": [
       "0 tables [00:00, ? tables/s]"
      ]
     },
     "metadata": {},
     "output_type": "display_data"
    },
    {
     "name": "stdout",
     "output_type": "stream",
     "text": [
      "Dataset json downloaded and prepared to /root/.cache/huggingface/datasets/json/default-57dcee3ea6992346/0.0.0/a3e658c4731e59120d44081ac10bf85dc7e1388126b92338344ce9661907f253. Subsequent calls will reuse this data.\n"
     ]
    },
    {
     "data": {
      "application/vnd.jupyter.widget-view+json": {
       "model_id": "188b2bde81184897a2dfa8bff565daac",
       "version_major": 2,
       "version_minor": 0
      },
      "text/plain": [
       "  0%|          | 0/2 [00:00<?, ?it/s]"
      ]
     },
     "metadata": {},
     "output_type": "display_data"
    }
   ],
   "source": [
    "url = \"https://github.com/crux82/squad-it/raw/master/\"\n",
    "data_files = {\n",
    "    \"train\": url + \"SQuAD_it-train.json.gz\",\n",
    "    \"test\": url + \"SQuAD_it-test.json.gz\",\n",
    "}\n",
    "squad_it_dataset = load_dataset(\"json\", data_files=data_files, field=\"data\")"
   ]
  },
  {
   "cell_type": "markdown",
   "id": "ab1280c9-7577-4690-b405-c828b86e4e35",
   "metadata": {},
   "source": [
    "# Time to slice and dice"
   ]
  },
  {
   "cell_type": "markdown",
   "id": "3ef71ffe-78a9-40bf-960a-1366d68b06b0",
   "metadata": {},
   "source": [
    "## Slicing and dicing our data"
   ]
  },
  {
   "cell_type": "code",
   "execution_count": 10,
   "id": "1c9c6547-86bd-4de2-8508-ed8d6b82b693",
   "metadata": {},
   "outputs": [
    {
     "name": "stdout",
     "output_type": "stream",
     "text": [
      "--2023-08-16 23:04:15--  https://archive.ics.uci.edu/ml/machine-learning-databases/00462/drugsCom_raw.zip\n",
      "Resolving archive.ics.uci.edu (archive.ics.uci.edu)... 128.195.10.252\n",
      "Connecting to archive.ics.uci.edu (archive.ics.uci.edu)|128.195.10.252|:443... connected.\n",
      "HTTP request sent, awaiting response... 200 OK\n",
      "Length: unspecified\n",
      "Saving to: ‘drugsCom_raw.zip’\n",
      "\n",
      "drugsCom_raw.zip        [        <=>         ]  41.00M  26.8MB/s    in 1.5s    \n",
      "\n",
      "2023-08-16 23:04:22 (26.8 MB/s) - ‘drugsCom_raw.zip’ saved [42989872]\n",
      "\n",
      "Archive:  drugsCom_raw.zip\n",
      "  inflating: drugsComTest_raw.tsv    \n",
      "  inflating: drugsComTrain_raw.tsv   \n"
     ]
    }
   ],
   "source": [
    "!wget \"https://archive.ics.uci.edu/ml/machine-learning-databases/00462/drugsCom_raw.zip\"\n",
    "!unzip drugsCom_raw.zip"
   ]
  },
  {
   "cell_type": "code",
   "execution_count": 12,
   "id": "354f20f7-1a10-452e-b4c9-e925ccaf43c2",
   "metadata": {},
   "outputs": [
    {
     "name": "stderr",
     "output_type": "stream",
     "text": [
      "Using custom data configuration default-0f3347c7136da314\n"
     ]
    },
    {
     "name": "stdout",
     "output_type": "stream",
     "text": [
      "Downloading and preparing dataset csv/default to /root/.cache/huggingface/datasets/csv/default-0f3347c7136da314/0.0.0/652c3096f041ee27b04d2232d41f10547a8fecda3e284a79a0ec4053c916ef7a...\n"
     ]
    },
    {
     "data": {
      "application/vnd.jupyter.widget-view+json": {
       "model_id": "86fc411628e140e2bc558db5edd3871a",
       "version_major": 2,
       "version_minor": 0
      },
      "text/plain": [
       "Downloading data files:   0%|          | 0/2 [00:00<?, ?it/s]"
      ]
     },
     "metadata": {},
     "output_type": "display_data"
    },
    {
     "data": {
      "application/vnd.jupyter.widget-view+json": {
       "model_id": "73072549f9c7428ca2104d37c144fb46",
       "version_major": 2,
       "version_minor": 0
      },
      "text/plain": [
       "Extracting data files:   0%|          | 0/2 [00:00<?, ?it/s]"
      ]
     },
     "metadata": {},
     "output_type": "display_data"
    },
    {
     "data": {
      "application/vnd.jupyter.widget-view+json": {
       "model_id": "",
       "version_major": 2,
       "version_minor": 0
      },
      "text/plain": [
       "0 tables [00:00, ? tables/s]"
      ]
     },
     "metadata": {},
     "output_type": "display_data"
    },
    {
     "name": "stderr",
     "output_type": "stream",
     "text": [
      "/usr/local/lib/python3.9/dist-packages/datasets/download/streaming_download_manager.py:695: FutureWarning: the 'mangle_dupe_cols' keyword is deprecated and will be removed in a future version. Please take steps to stop the use of 'mangle_dupe_cols'\n",
      "  return pd.read_csv(xopen(filepath_or_buffer, \"rb\", use_auth_token=use_auth_token), **kwargs)\n"
     ]
    },
    {
     "data": {
      "application/vnd.jupyter.widget-view+json": {
       "model_id": "",
       "version_major": 2,
       "version_minor": 0
      },
      "text/plain": [
       "0 tables [00:00, ? tables/s]"
      ]
     },
     "metadata": {},
     "output_type": "display_data"
    },
    {
     "name": "stderr",
     "output_type": "stream",
     "text": [
      "/usr/local/lib/python3.9/dist-packages/datasets/download/streaming_download_manager.py:695: FutureWarning: the 'mangle_dupe_cols' keyword is deprecated and will be removed in a future version. Please take steps to stop the use of 'mangle_dupe_cols'\n",
      "  return pd.read_csv(xopen(filepath_or_buffer, \"rb\", use_auth_token=use_auth_token), **kwargs)\n"
     ]
    },
    {
     "name": "stdout",
     "output_type": "stream",
     "text": [
      "Dataset csv downloaded and prepared to /root/.cache/huggingface/datasets/csv/default-0f3347c7136da314/0.0.0/652c3096f041ee27b04d2232d41f10547a8fecda3e284a79a0ec4053c916ef7a. Subsequent calls will reuse this data.\n"
     ]
    },
    {
     "data": {
      "application/vnd.jupyter.widget-view+json": {
       "model_id": "75b294a4671442e0acfde2ee72897fd0",
       "version_major": 2,
       "version_minor": 0
      },
      "text/plain": [
       "  0%|          | 0/2 [00:00<?, ?it/s]"
      ]
     },
     "metadata": {},
     "output_type": "display_data"
    }
   ],
   "source": [
    "from datasets import load_dataset\n",
    "\n",
    "data_files = {\"train\": \"drugsComTrain_raw.tsv\", \"test\": \"drugsComTest_raw.tsv\"}\n",
    "# \\t is the tab character in Python\n",
    "drug_dataset = load_dataset(\"csv\", data_files=data_files, delimiter=\"\\t\")"
   ]
  },
  {
   "cell_type": "code",
   "execution_count": 13,
   "id": "9f9eb2e0-fb30-45a4-a18f-ce3a3c6ab948",
   "metadata": {},
   "outputs": [
    {
     "data": {
      "text/plain": [
       "{'Unnamed: 0': [87571, 178045, 80482],\n",
       " 'drugName': ['Naproxen', 'Duloxetine', 'Mobic'],\n",
       " 'condition': ['Gout, Acute', 'ibromyalgia', 'Inflammatory Conditions'],\n",
       " 'review': ['\"like the previous person mention, I&#039;m a strong believer of aleve, it works faster for my gout than the prescription meds I take. No more going to the doctor for refills.....Aleve works!\"',\n",
       "  '\"I have taken Cymbalta for about a year and a half for fibromyalgia pain. It is great\\r\\nas a pain reducer and an anti-depressant, however, the side effects outweighed \\r\\nany benefit I got from it. I had trouble with restlessness, being tired constantly,\\r\\ndizziness, dry mouth, numbness and tingling in my feet, and horrible sweating. I am\\r\\nbeing weaned off of it now. Went from 60 mg to 30mg and now to 15 mg. I will be\\r\\noff completely in about a week. The fibro pain is coming back, but I would rather deal with it than the side effects.\"',\n",
       "  '\"I have been taking Mobic for over a year with no side effects other than an elevated blood pressure.  I had severe knee and ankle pain which completely went away after taking Mobic.  I attempted to stop the medication however pain returned after a few days.\"'],\n",
       " 'rating': [9.0, 3.0, 10.0],\n",
       " 'date': ['September 2, 2015', 'November 7, 2011', 'June 5, 2013'],\n",
       " 'usefulCount': [36, 13, 128]}"
      ]
     },
     "execution_count": 13,
     "metadata": {},
     "output_type": "execute_result"
    }
   ],
   "source": [
    "drug_sample = drug_dataset[\"train\"].shuffle(seed=42).select(range(1000))\n",
    "drug_sample[:3]"
   ]
  },
  {
   "cell_type": "code",
   "execution_count": 16,
   "id": "eba707f5-42f0-47ea-b632-061a31d3b25c",
   "metadata": {},
   "outputs": [],
   "source": [
    "for split in drug_dataset.keys():\n",
    "    assert len(drug_dataset[split]) == len(drug_dataset[split].unique(\"Unnamed: 0\"))"
   ]
  },
  {
   "cell_type": "code",
   "execution_count": 17,
   "id": "67ab4e1f-bfc2-4bc8-a2be-c0d23ce941a1",
   "metadata": {},
   "outputs": [
    {
     "data": {
      "text/plain": [
       "DatasetDict({\n",
       "    train: Dataset({\n",
       "        features: ['patient_id', 'drugName', 'condition', 'review', 'rating', 'date', 'usefulCount'],\n",
       "        num_rows: 161297\n",
       "    })\n",
       "    test: Dataset({\n",
       "        features: ['patient_id', 'drugName', 'condition', 'review', 'rating', 'date', 'usefulCount'],\n",
       "        num_rows: 53766\n",
       "    })\n",
       "})"
      ]
     },
     "execution_count": 17,
     "metadata": {},
     "output_type": "execute_result"
    }
   ],
   "source": [
    "drug_dataset = drug_dataset.rename_column(\n",
    "    original_column_name = \"Unnamed: 0\", new_column_name=\"patient_id\"\n",
    ")\n",
    "drug_dataset"
   ]
  },
  {
   "cell_type": "code",
   "execution_count": 20,
   "id": "ce574f2f-904f-4157-9883-c38f6e6e8876",
   "metadata": {},
   "outputs": [
    {
     "data": {
      "text/plain": [
       "3436"
      ]
     },
     "execution_count": 20,
     "metadata": {},
     "output_type": "execute_result"
    }
   ],
   "source": [
    "len(drug_dataset[\"train\"].unique('drugName'))"
   ]
  },
  {
   "cell_type": "code",
   "execution_count": 21,
   "id": "444c5ba0-40ca-4863-a894-f60bf6e4d0bb",
   "metadata": {},
   "outputs": [
    {
     "data": {
      "text/plain": [
       "2637"
      ]
     },
     "execution_count": 21,
     "metadata": {},
     "output_type": "execute_result"
    }
   ],
   "source": [
    "len(drug_dataset[\"test\"].unique('drugName'))"
   ]
  },
  {
   "cell_type": "code",
   "execution_count": 22,
   "id": "43a50b13-02f9-4383-91d6-1cd210b30b6f",
   "metadata": {},
   "outputs": [
    {
     "data": {
      "text/plain": [
       "885"
      ]
     },
     "execution_count": 22,
     "metadata": {},
     "output_type": "execute_result"
    }
   ],
   "source": [
    "len(drug_dataset[\"train\"].unique('condition'))"
   ]
  },
  {
   "cell_type": "code",
   "execution_count": 24,
   "id": "9cdb7321-98f4-4bd7-a43b-8633699e3167",
   "metadata": {},
   "outputs": [
    {
     "data": {
      "text/plain": [
       "709"
      ]
     },
     "execution_count": 24,
     "metadata": {},
     "output_type": "execute_result"
    }
   ],
   "source": [
    "len(drug_dataset[\"test\"].unique('condition'))"
   ]
  },
  {
   "cell_type": "code",
   "execution_count": 25,
   "id": "c004cc1f-c588-4729-add7-d1cc1aa82ea9",
   "metadata": {},
   "outputs": [],
   "source": [
    "def lowercase_condition(example):\n",
    "    return {\"condition\": example[\"condition\"].lower()}"
   ]
  },
  {
   "cell_type": "code",
   "execution_count": 26,
   "id": "239d01d2-75ae-4e82-8009-4326a9b26deb",
   "metadata": {},
   "outputs": [
    {
     "data": {
      "application/vnd.jupyter.widget-view+json": {
       "model_id": "4706bfa9c6cf4a07bcf2806c87c646f0",
       "version_major": 2,
       "version_minor": 0
      },
      "text/plain": [
       "  0%|          | 0/161297 [00:00<?, ?ex/s]"
      ]
     },
     "metadata": {},
     "output_type": "display_data"
    },
    {
     "ename": "AttributeError",
     "evalue": "'NoneType' object has no attribute 'lower'",
     "output_type": "error",
     "traceback": [
      "\u001b[0;31m---------------------------------------------------------------------------\u001b[0m",
      "\u001b[0;31mAttributeError\u001b[0m                            Traceback (most recent call last)",
      "Cell \u001b[0;32mIn [26], line 1\u001b[0m\n\u001b[0;32m----> 1\u001b[0m \u001b[43mdrug_dataset\u001b[49m\u001b[38;5;241;43m.\u001b[39;49m\u001b[43mmap\u001b[49m\u001b[43m(\u001b[49m\u001b[43mlowercase_condition\u001b[49m\u001b[43m)\u001b[49m\n",
      "File \u001b[0;32m/usr/local/lib/python3.9/dist-packages/datasets/dataset_dict.py:770\u001b[0m, in \u001b[0;36mDatasetDict.map\u001b[0;34m(self, function, with_indices, with_rank, input_columns, batched, batch_size, drop_last_batch, remove_columns, keep_in_memory, load_from_cache_file, cache_file_names, writer_batch_size, features, disable_nullable, fn_kwargs, num_proc, desc)\u001b[0m\n\u001b[1;32m    767\u001b[0m \u001b[38;5;28;01mif\u001b[39;00m cache_file_names \u001b[38;5;129;01mis\u001b[39;00m \u001b[38;5;28;01mNone\u001b[39;00m:\n\u001b[1;32m    768\u001b[0m     cache_file_names \u001b[38;5;241m=\u001b[39m {k: \u001b[38;5;28;01mNone\u001b[39;00m \u001b[38;5;28;01mfor\u001b[39;00m k \u001b[38;5;129;01min\u001b[39;00m \u001b[38;5;28mself\u001b[39m}\n\u001b[1;32m    769\u001b[0m \u001b[38;5;28;01mreturn\u001b[39;00m DatasetDict(\n\u001b[0;32m--> 770\u001b[0m     {\n\u001b[1;32m    771\u001b[0m         k: dataset\u001b[38;5;241m.\u001b[39mmap(\n\u001b[1;32m    772\u001b[0m             function\u001b[38;5;241m=\u001b[39mfunction,\n\u001b[1;32m    773\u001b[0m             with_indices\u001b[38;5;241m=\u001b[39mwith_indices,\n\u001b[1;32m    774\u001b[0m             with_rank\u001b[38;5;241m=\u001b[39mwith_rank,\n\u001b[1;32m    775\u001b[0m             input_columns\u001b[38;5;241m=\u001b[39minput_columns,\n\u001b[1;32m    776\u001b[0m             batched\u001b[38;5;241m=\u001b[39mbatched,\n\u001b[1;32m    777\u001b[0m             batch_size\u001b[38;5;241m=\u001b[39mbatch_size,\n\u001b[1;32m    778\u001b[0m             drop_last_batch\u001b[38;5;241m=\u001b[39mdrop_last_batch,\n\u001b[1;32m    779\u001b[0m             remove_columns\u001b[38;5;241m=\u001b[39mremove_columns,\n\u001b[1;32m    780\u001b[0m             keep_in_memory\u001b[38;5;241m=\u001b[39mkeep_in_memory,\n\u001b[1;32m    781\u001b[0m             load_from_cache_file\u001b[38;5;241m=\u001b[39mload_from_cache_file,\n\u001b[1;32m    782\u001b[0m             cache_file_name\u001b[38;5;241m=\u001b[39mcache_file_names[k],\n\u001b[1;32m    783\u001b[0m             writer_batch_size\u001b[38;5;241m=\u001b[39mwriter_batch_size,\n\u001b[1;32m    784\u001b[0m             features\u001b[38;5;241m=\u001b[39mfeatures,\n\u001b[1;32m    785\u001b[0m             disable_nullable\u001b[38;5;241m=\u001b[39mdisable_nullable,\n\u001b[1;32m    786\u001b[0m             fn_kwargs\u001b[38;5;241m=\u001b[39mfn_kwargs,\n\u001b[1;32m    787\u001b[0m             num_proc\u001b[38;5;241m=\u001b[39mnum_proc,\n\u001b[1;32m    788\u001b[0m             desc\u001b[38;5;241m=\u001b[39mdesc,\n\u001b[1;32m    789\u001b[0m         )\n\u001b[1;32m    790\u001b[0m         \u001b[38;5;28;01mfor\u001b[39;00m k, dataset \u001b[38;5;129;01min\u001b[39;00m \u001b[38;5;28mself\u001b[39m\u001b[38;5;241m.\u001b[39mitems()\n\u001b[1;32m    791\u001b[0m     }\n\u001b[1;32m    792\u001b[0m )\n",
      "File \u001b[0;32m/usr/local/lib/python3.9/dist-packages/datasets/dataset_dict.py:771\u001b[0m, in \u001b[0;36m<dictcomp>\u001b[0;34m(.0)\u001b[0m\n\u001b[1;32m    767\u001b[0m \u001b[38;5;28;01mif\u001b[39;00m cache_file_names \u001b[38;5;129;01mis\u001b[39;00m \u001b[38;5;28;01mNone\u001b[39;00m:\n\u001b[1;32m    768\u001b[0m     cache_file_names \u001b[38;5;241m=\u001b[39m {k: \u001b[38;5;28;01mNone\u001b[39;00m \u001b[38;5;28;01mfor\u001b[39;00m k \u001b[38;5;129;01min\u001b[39;00m \u001b[38;5;28mself\u001b[39m}\n\u001b[1;32m    769\u001b[0m \u001b[38;5;28;01mreturn\u001b[39;00m DatasetDict(\n\u001b[1;32m    770\u001b[0m     {\n\u001b[0;32m--> 771\u001b[0m         k: \u001b[43mdataset\u001b[49m\u001b[38;5;241;43m.\u001b[39;49m\u001b[43mmap\u001b[49m\u001b[43m(\u001b[49m\n\u001b[1;32m    772\u001b[0m \u001b[43m            \u001b[49m\u001b[43mfunction\u001b[49m\u001b[38;5;241;43m=\u001b[39;49m\u001b[43mfunction\u001b[49m\u001b[43m,\u001b[49m\n\u001b[1;32m    773\u001b[0m \u001b[43m            \u001b[49m\u001b[43mwith_indices\u001b[49m\u001b[38;5;241;43m=\u001b[39;49m\u001b[43mwith_indices\u001b[49m\u001b[43m,\u001b[49m\n\u001b[1;32m    774\u001b[0m \u001b[43m            \u001b[49m\u001b[43mwith_rank\u001b[49m\u001b[38;5;241;43m=\u001b[39;49m\u001b[43mwith_rank\u001b[49m\u001b[43m,\u001b[49m\n\u001b[1;32m    775\u001b[0m \u001b[43m            \u001b[49m\u001b[43minput_columns\u001b[49m\u001b[38;5;241;43m=\u001b[39;49m\u001b[43minput_columns\u001b[49m\u001b[43m,\u001b[49m\n\u001b[1;32m    776\u001b[0m \u001b[43m            \u001b[49m\u001b[43mbatched\u001b[49m\u001b[38;5;241;43m=\u001b[39;49m\u001b[43mbatched\u001b[49m\u001b[43m,\u001b[49m\n\u001b[1;32m    777\u001b[0m \u001b[43m            \u001b[49m\u001b[43mbatch_size\u001b[49m\u001b[38;5;241;43m=\u001b[39;49m\u001b[43mbatch_size\u001b[49m\u001b[43m,\u001b[49m\n\u001b[1;32m    778\u001b[0m \u001b[43m            \u001b[49m\u001b[43mdrop_last_batch\u001b[49m\u001b[38;5;241;43m=\u001b[39;49m\u001b[43mdrop_last_batch\u001b[49m\u001b[43m,\u001b[49m\n\u001b[1;32m    779\u001b[0m \u001b[43m            \u001b[49m\u001b[43mremove_columns\u001b[49m\u001b[38;5;241;43m=\u001b[39;49m\u001b[43mremove_columns\u001b[49m\u001b[43m,\u001b[49m\n\u001b[1;32m    780\u001b[0m \u001b[43m            \u001b[49m\u001b[43mkeep_in_memory\u001b[49m\u001b[38;5;241;43m=\u001b[39;49m\u001b[43mkeep_in_memory\u001b[49m\u001b[43m,\u001b[49m\n\u001b[1;32m    781\u001b[0m \u001b[43m            \u001b[49m\u001b[43mload_from_cache_file\u001b[49m\u001b[38;5;241;43m=\u001b[39;49m\u001b[43mload_from_cache_file\u001b[49m\u001b[43m,\u001b[49m\n\u001b[1;32m    782\u001b[0m \u001b[43m            \u001b[49m\u001b[43mcache_file_name\u001b[49m\u001b[38;5;241;43m=\u001b[39;49m\u001b[43mcache_file_names\u001b[49m\u001b[43m[\u001b[49m\u001b[43mk\u001b[49m\u001b[43m]\u001b[49m\u001b[43m,\u001b[49m\n\u001b[1;32m    783\u001b[0m \u001b[43m            \u001b[49m\u001b[43mwriter_batch_size\u001b[49m\u001b[38;5;241;43m=\u001b[39;49m\u001b[43mwriter_batch_size\u001b[49m\u001b[43m,\u001b[49m\n\u001b[1;32m    784\u001b[0m \u001b[43m            \u001b[49m\u001b[43mfeatures\u001b[49m\u001b[38;5;241;43m=\u001b[39;49m\u001b[43mfeatures\u001b[49m\u001b[43m,\u001b[49m\n\u001b[1;32m    785\u001b[0m \u001b[43m            \u001b[49m\u001b[43mdisable_nullable\u001b[49m\u001b[38;5;241;43m=\u001b[39;49m\u001b[43mdisable_nullable\u001b[49m\u001b[43m,\u001b[49m\n\u001b[1;32m    786\u001b[0m \u001b[43m            \u001b[49m\u001b[43mfn_kwargs\u001b[49m\u001b[38;5;241;43m=\u001b[39;49m\u001b[43mfn_kwargs\u001b[49m\u001b[43m,\u001b[49m\n\u001b[1;32m    787\u001b[0m \u001b[43m            \u001b[49m\u001b[43mnum_proc\u001b[49m\u001b[38;5;241;43m=\u001b[39;49m\u001b[43mnum_proc\u001b[49m\u001b[43m,\u001b[49m\n\u001b[1;32m    788\u001b[0m \u001b[43m            \u001b[49m\u001b[43mdesc\u001b[49m\u001b[38;5;241;43m=\u001b[39;49m\u001b[43mdesc\u001b[49m\u001b[43m,\u001b[49m\n\u001b[1;32m    789\u001b[0m \u001b[43m        \u001b[49m\u001b[43m)\u001b[49m\n\u001b[1;32m    790\u001b[0m         \u001b[38;5;28;01mfor\u001b[39;00m k, dataset \u001b[38;5;129;01min\u001b[39;00m \u001b[38;5;28mself\u001b[39m\u001b[38;5;241m.\u001b[39mitems()\n\u001b[1;32m    791\u001b[0m     }\n\u001b[1;32m    792\u001b[0m )\n",
      "File \u001b[0;32m/usr/local/lib/python3.9/dist-packages/datasets/arrow_dataset.py:2387\u001b[0m, in \u001b[0;36mDataset.map\u001b[0;34m(self, function, with_indices, with_rank, input_columns, batched, batch_size, drop_last_batch, remove_columns, keep_in_memory, load_from_cache_file, cache_file_name, writer_batch_size, features, disable_nullable, fn_kwargs, num_proc, suffix_template, new_fingerprint, desc)\u001b[0m\n\u001b[1;32m   2384\u001b[0m disable_tqdm \u001b[38;5;241m=\u001b[39m \u001b[38;5;129;01mnot\u001b[39;00m logging\u001b[38;5;241m.\u001b[39mis_progress_bar_enabled()\n\u001b[1;32m   2386\u001b[0m \u001b[38;5;28;01mif\u001b[39;00m num_proc \u001b[38;5;129;01mis\u001b[39;00m \u001b[38;5;28;01mNone\u001b[39;00m \u001b[38;5;129;01mor\u001b[39;00m num_proc \u001b[38;5;241m==\u001b[39m \u001b[38;5;241m1\u001b[39m:\n\u001b[0;32m-> 2387\u001b[0m     \u001b[38;5;28;01mreturn\u001b[39;00m \u001b[38;5;28;43mself\u001b[39;49m\u001b[38;5;241;43m.\u001b[39;49m\u001b[43m_map_single\u001b[49m\u001b[43m(\u001b[49m\n\u001b[1;32m   2388\u001b[0m \u001b[43m        \u001b[49m\u001b[43mfunction\u001b[49m\u001b[38;5;241;43m=\u001b[39;49m\u001b[43mfunction\u001b[49m\u001b[43m,\u001b[49m\n\u001b[1;32m   2389\u001b[0m \u001b[43m        \u001b[49m\u001b[43mwith_indices\u001b[49m\u001b[38;5;241;43m=\u001b[39;49m\u001b[43mwith_indices\u001b[49m\u001b[43m,\u001b[49m\n\u001b[1;32m   2390\u001b[0m \u001b[43m        \u001b[49m\u001b[43mwith_rank\u001b[49m\u001b[38;5;241;43m=\u001b[39;49m\u001b[43mwith_rank\u001b[49m\u001b[43m,\u001b[49m\n\u001b[1;32m   2391\u001b[0m \u001b[43m        \u001b[49m\u001b[43minput_columns\u001b[49m\u001b[38;5;241;43m=\u001b[39;49m\u001b[43minput_columns\u001b[49m\u001b[43m,\u001b[49m\n\u001b[1;32m   2392\u001b[0m \u001b[43m        \u001b[49m\u001b[43mbatched\u001b[49m\u001b[38;5;241;43m=\u001b[39;49m\u001b[43mbatched\u001b[49m\u001b[43m,\u001b[49m\n\u001b[1;32m   2393\u001b[0m \u001b[43m        \u001b[49m\u001b[43mbatch_size\u001b[49m\u001b[38;5;241;43m=\u001b[39;49m\u001b[43mbatch_size\u001b[49m\u001b[43m,\u001b[49m\n\u001b[1;32m   2394\u001b[0m \u001b[43m        \u001b[49m\u001b[43mdrop_last_batch\u001b[49m\u001b[38;5;241;43m=\u001b[39;49m\u001b[43mdrop_last_batch\u001b[49m\u001b[43m,\u001b[49m\n\u001b[1;32m   2395\u001b[0m \u001b[43m        \u001b[49m\u001b[43mremove_columns\u001b[49m\u001b[38;5;241;43m=\u001b[39;49m\u001b[43mremove_columns\u001b[49m\u001b[43m,\u001b[49m\n\u001b[1;32m   2396\u001b[0m \u001b[43m        \u001b[49m\u001b[43mkeep_in_memory\u001b[49m\u001b[38;5;241;43m=\u001b[39;49m\u001b[43mkeep_in_memory\u001b[49m\u001b[43m,\u001b[49m\n\u001b[1;32m   2397\u001b[0m \u001b[43m        \u001b[49m\u001b[43mload_from_cache_file\u001b[49m\u001b[38;5;241;43m=\u001b[39;49m\u001b[43mload_from_cache_file\u001b[49m\u001b[43m,\u001b[49m\n\u001b[1;32m   2398\u001b[0m \u001b[43m        \u001b[49m\u001b[43mcache_file_name\u001b[49m\u001b[38;5;241;43m=\u001b[39;49m\u001b[43mcache_file_name\u001b[49m\u001b[43m,\u001b[49m\n\u001b[1;32m   2399\u001b[0m \u001b[43m        \u001b[49m\u001b[43mwriter_batch_size\u001b[49m\u001b[38;5;241;43m=\u001b[39;49m\u001b[43mwriter_batch_size\u001b[49m\u001b[43m,\u001b[49m\n\u001b[1;32m   2400\u001b[0m \u001b[43m        \u001b[49m\u001b[43mfeatures\u001b[49m\u001b[38;5;241;43m=\u001b[39;49m\u001b[43mfeatures\u001b[49m\u001b[43m,\u001b[49m\n\u001b[1;32m   2401\u001b[0m \u001b[43m        \u001b[49m\u001b[43mdisable_nullable\u001b[49m\u001b[38;5;241;43m=\u001b[39;49m\u001b[43mdisable_nullable\u001b[49m\u001b[43m,\u001b[49m\n\u001b[1;32m   2402\u001b[0m \u001b[43m        \u001b[49m\u001b[43mfn_kwargs\u001b[49m\u001b[38;5;241;43m=\u001b[39;49m\u001b[43mfn_kwargs\u001b[49m\u001b[43m,\u001b[49m\n\u001b[1;32m   2403\u001b[0m \u001b[43m        \u001b[49m\u001b[43mnew_fingerprint\u001b[49m\u001b[38;5;241;43m=\u001b[39;49m\u001b[43mnew_fingerprint\u001b[49m\u001b[43m,\u001b[49m\n\u001b[1;32m   2404\u001b[0m \u001b[43m        \u001b[49m\u001b[43mdisable_tqdm\u001b[49m\u001b[38;5;241;43m=\u001b[39;49m\u001b[43mdisable_tqdm\u001b[49m\u001b[43m,\u001b[49m\n\u001b[1;32m   2405\u001b[0m \u001b[43m        \u001b[49m\u001b[43mdesc\u001b[49m\u001b[38;5;241;43m=\u001b[39;49m\u001b[43mdesc\u001b[49m\u001b[43m,\u001b[49m\n\u001b[1;32m   2406\u001b[0m \u001b[43m    \u001b[49m\u001b[43m)\u001b[49m\n\u001b[1;32m   2407\u001b[0m \u001b[38;5;28;01melse\u001b[39;00m:\n\u001b[1;32m   2409\u001b[0m     \u001b[38;5;28;01mdef\u001b[39;00m \u001b[38;5;21mformat_cache_file_name\u001b[39m(cache_file_name, rank):\n",
      "File \u001b[0;32m/usr/local/lib/python3.9/dist-packages/datasets/arrow_dataset.py:557\u001b[0m, in \u001b[0;36mtransmit_tasks.<locals>.wrapper\u001b[0;34m(*args, **kwargs)\u001b[0m\n\u001b[1;32m    555\u001b[0m     \u001b[38;5;28mself\u001b[39m: \u001b[38;5;124m\"\u001b[39m\u001b[38;5;124mDataset\u001b[39m\u001b[38;5;124m\"\u001b[39m \u001b[38;5;241m=\u001b[39m kwargs\u001b[38;5;241m.\u001b[39mpop(\u001b[38;5;124m\"\u001b[39m\u001b[38;5;124mself\u001b[39m\u001b[38;5;124m\"\u001b[39m)\n\u001b[1;32m    556\u001b[0m \u001b[38;5;66;03m# apply actual function\u001b[39;00m\n\u001b[0;32m--> 557\u001b[0m out: Union[\u001b[38;5;124m\"\u001b[39m\u001b[38;5;124mDataset\u001b[39m\u001b[38;5;124m\"\u001b[39m, \u001b[38;5;124m\"\u001b[39m\u001b[38;5;124mDatasetDict\u001b[39m\u001b[38;5;124m\"\u001b[39m] \u001b[38;5;241m=\u001b[39m \u001b[43mfunc\u001b[49m\u001b[43m(\u001b[49m\u001b[38;5;28;43mself\u001b[39;49m\u001b[43m,\u001b[49m\u001b[43m \u001b[49m\u001b[38;5;241;43m*\u001b[39;49m\u001b[43margs\u001b[49m\u001b[43m,\u001b[49m\u001b[43m \u001b[49m\u001b[38;5;241;43m*\u001b[39;49m\u001b[38;5;241;43m*\u001b[39;49m\u001b[43mkwargs\u001b[49m\u001b[43m)\u001b[49m\n\u001b[1;32m    558\u001b[0m datasets: List[\u001b[38;5;124m\"\u001b[39m\u001b[38;5;124mDataset\u001b[39m\u001b[38;5;124m\"\u001b[39m] \u001b[38;5;241m=\u001b[39m \u001b[38;5;28mlist\u001b[39m(out\u001b[38;5;241m.\u001b[39mvalues()) \u001b[38;5;28;01mif\u001b[39;00m \u001b[38;5;28misinstance\u001b[39m(out, \u001b[38;5;28mdict\u001b[39m) \u001b[38;5;28;01melse\u001b[39;00m [out]\n\u001b[1;32m    559\u001b[0m \u001b[38;5;28;01mfor\u001b[39;00m dataset \u001b[38;5;129;01min\u001b[39;00m datasets:\n\u001b[1;32m    560\u001b[0m     \u001b[38;5;66;03m# Remove task templates if a column mapping of the template is no longer valid\u001b[39;00m\n",
      "File \u001b[0;32m/usr/local/lib/python3.9/dist-packages/datasets/arrow_dataset.py:524\u001b[0m, in \u001b[0;36mtransmit_format.<locals>.wrapper\u001b[0;34m(*args, **kwargs)\u001b[0m\n\u001b[1;32m    517\u001b[0m self_format \u001b[38;5;241m=\u001b[39m {\n\u001b[1;32m    518\u001b[0m     \u001b[38;5;124m\"\u001b[39m\u001b[38;5;124mtype\u001b[39m\u001b[38;5;124m\"\u001b[39m: \u001b[38;5;28mself\u001b[39m\u001b[38;5;241m.\u001b[39m_format_type,\n\u001b[1;32m    519\u001b[0m     \u001b[38;5;124m\"\u001b[39m\u001b[38;5;124mformat_kwargs\u001b[39m\u001b[38;5;124m\"\u001b[39m: \u001b[38;5;28mself\u001b[39m\u001b[38;5;241m.\u001b[39m_format_kwargs,\n\u001b[1;32m    520\u001b[0m     \u001b[38;5;124m\"\u001b[39m\u001b[38;5;124mcolumns\u001b[39m\u001b[38;5;124m\"\u001b[39m: \u001b[38;5;28mself\u001b[39m\u001b[38;5;241m.\u001b[39m_format_columns,\n\u001b[1;32m    521\u001b[0m     \u001b[38;5;124m\"\u001b[39m\u001b[38;5;124moutput_all_columns\u001b[39m\u001b[38;5;124m\"\u001b[39m: \u001b[38;5;28mself\u001b[39m\u001b[38;5;241m.\u001b[39m_output_all_columns,\n\u001b[1;32m    522\u001b[0m }\n\u001b[1;32m    523\u001b[0m \u001b[38;5;66;03m# apply actual function\u001b[39;00m\n\u001b[0;32m--> 524\u001b[0m out: Union[\u001b[38;5;124m\"\u001b[39m\u001b[38;5;124mDataset\u001b[39m\u001b[38;5;124m\"\u001b[39m, \u001b[38;5;124m\"\u001b[39m\u001b[38;5;124mDatasetDict\u001b[39m\u001b[38;5;124m\"\u001b[39m] \u001b[38;5;241m=\u001b[39m \u001b[43mfunc\u001b[49m\u001b[43m(\u001b[49m\u001b[38;5;28;43mself\u001b[39;49m\u001b[43m,\u001b[49m\u001b[43m \u001b[49m\u001b[38;5;241;43m*\u001b[39;49m\u001b[43margs\u001b[49m\u001b[43m,\u001b[49m\u001b[43m \u001b[49m\u001b[38;5;241;43m*\u001b[39;49m\u001b[38;5;241;43m*\u001b[39;49m\u001b[43mkwargs\u001b[49m\u001b[43m)\u001b[49m\n\u001b[1;32m    525\u001b[0m datasets: List[\u001b[38;5;124m\"\u001b[39m\u001b[38;5;124mDataset\u001b[39m\u001b[38;5;124m\"\u001b[39m] \u001b[38;5;241m=\u001b[39m \u001b[38;5;28mlist\u001b[39m(out\u001b[38;5;241m.\u001b[39mvalues()) \u001b[38;5;28;01mif\u001b[39;00m \u001b[38;5;28misinstance\u001b[39m(out, \u001b[38;5;28mdict\u001b[39m) \u001b[38;5;28;01melse\u001b[39;00m [out]\n\u001b[1;32m    526\u001b[0m \u001b[38;5;66;03m# re-apply format to the output\u001b[39;00m\n",
      "File \u001b[0;32m/usr/local/lib/python3.9/dist-packages/datasets/fingerprint.py:480\u001b[0m, in \u001b[0;36mfingerprint_transform.<locals>._fingerprint.<locals>.wrapper\u001b[0;34m(*args, **kwargs)\u001b[0m\n\u001b[1;32m    476\u001b[0m             validate_fingerprint(kwargs[fingerprint_name])\n\u001b[1;32m    478\u001b[0m \u001b[38;5;66;03m# Call actual function\u001b[39;00m\n\u001b[0;32m--> 480\u001b[0m out \u001b[38;5;241m=\u001b[39m \u001b[43mfunc\u001b[49m\u001b[43m(\u001b[49m\u001b[38;5;28;43mself\u001b[39;49m\u001b[43m,\u001b[49m\u001b[43m \u001b[49m\u001b[38;5;241;43m*\u001b[39;49m\u001b[43margs\u001b[49m\u001b[43m,\u001b[49m\u001b[43m \u001b[49m\u001b[38;5;241;43m*\u001b[39;49m\u001b[38;5;241;43m*\u001b[39;49m\u001b[43mkwargs\u001b[49m\u001b[43m)\u001b[49m\n\u001b[1;32m    482\u001b[0m \u001b[38;5;66;03m# Update fingerprint of in-place transforms + update in-place history of transforms\u001b[39;00m\n\u001b[1;32m    484\u001b[0m \u001b[38;5;28;01mif\u001b[39;00m inplace:  \u001b[38;5;66;03m# update after calling func so that the fingerprint doesn't change if the function fails\u001b[39;00m\n",
      "File \u001b[0;32m/usr/local/lib/python3.9/dist-packages/datasets/arrow_dataset.py:2756\u001b[0m, in \u001b[0;36mDataset._map_single\u001b[0;34m(self, function, with_indices, with_rank, input_columns, batched, batch_size, drop_last_batch, remove_columns, keep_in_memory, load_from_cache_file, cache_file_name, writer_batch_size, features, disable_nullable, fn_kwargs, new_fingerprint, rank, offset, disable_tqdm, desc, cache_only)\u001b[0m\n\u001b[1;32m   2754\u001b[0m \u001b[38;5;28;01mif\u001b[39;00m \u001b[38;5;129;01mnot\u001b[39;00m batched:\n\u001b[1;32m   2755\u001b[0m     \u001b[38;5;28;01mfor\u001b[39;00m i, example \u001b[38;5;129;01min\u001b[39;00m \u001b[38;5;28menumerate\u001b[39m(pbar):\n\u001b[0;32m-> 2756\u001b[0m         example \u001b[38;5;241m=\u001b[39m \u001b[43mapply_function_on_filtered_inputs\u001b[49m\u001b[43m(\u001b[49m\u001b[43mexample\u001b[49m\u001b[43m,\u001b[49m\u001b[43m \u001b[49m\u001b[43mi\u001b[49m\u001b[43m,\u001b[49m\u001b[43m \u001b[49m\u001b[43moffset\u001b[49m\u001b[38;5;241;43m=\u001b[39;49m\u001b[43moffset\u001b[49m\u001b[43m)\u001b[49m\n\u001b[1;32m   2757\u001b[0m         \u001b[38;5;28;01mif\u001b[39;00m update_data:\n\u001b[1;32m   2758\u001b[0m             \u001b[38;5;28;01mif\u001b[39;00m i \u001b[38;5;241m==\u001b[39m \u001b[38;5;241m0\u001b[39m:\n",
      "File \u001b[0;32m/usr/local/lib/python3.9/dist-packages/datasets/arrow_dataset.py:2655\u001b[0m, in \u001b[0;36mDataset._map_single.<locals>.apply_function_on_filtered_inputs\u001b[0;34m(inputs, indices, check_same_num_examples, offset)\u001b[0m\n\u001b[1;32m   2653\u001b[0m \u001b[38;5;28;01mif\u001b[39;00m with_rank:\n\u001b[1;32m   2654\u001b[0m     additional_args \u001b[38;5;241m+\u001b[39m\u001b[38;5;241m=\u001b[39m (rank,)\n\u001b[0;32m-> 2655\u001b[0m processed_inputs \u001b[38;5;241m=\u001b[39m \u001b[43mfunction\u001b[49m\u001b[43m(\u001b[49m\u001b[38;5;241;43m*\u001b[39;49m\u001b[43mfn_args\u001b[49m\u001b[43m,\u001b[49m\u001b[43m \u001b[49m\u001b[38;5;241;43m*\u001b[39;49m\u001b[43madditional_args\u001b[49m\u001b[43m,\u001b[49m\u001b[43m \u001b[49m\u001b[38;5;241;43m*\u001b[39;49m\u001b[38;5;241;43m*\u001b[39;49m\u001b[43mfn_kwargs\u001b[49m\u001b[43m)\u001b[49m\n\u001b[1;32m   2656\u001b[0m \u001b[38;5;28;01mif\u001b[39;00m update_data \u001b[38;5;129;01mis\u001b[39;00m \u001b[38;5;28;01mNone\u001b[39;00m:\n\u001b[1;32m   2657\u001b[0m     \u001b[38;5;66;03m# Check if the function returns updated examples\u001b[39;00m\n\u001b[1;32m   2658\u001b[0m     update_data \u001b[38;5;241m=\u001b[39m \u001b[38;5;28misinstance\u001b[39m(processed_inputs, (Mapping, pa\u001b[38;5;241m.\u001b[39mTable))\n",
      "File \u001b[0;32m/usr/local/lib/python3.9/dist-packages/datasets/arrow_dataset.py:2347\u001b[0m, in \u001b[0;36mDataset.map.<locals>.decorate.<locals>.decorated\u001b[0;34m(item, *args, **kwargs)\u001b[0m\n\u001b[1;32m   2343\u001b[0m decorated_item \u001b[38;5;241m=\u001b[39m (\n\u001b[1;32m   2344\u001b[0m     Example(item, features\u001b[38;5;241m=\u001b[39m\u001b[38;5;28mself\u001b[39m\u001b[38;5;241m.\u001b[39mfeatures) \u001b[38;5;28;01mif\u001b[39;00m \u001b[38;5;129;01mnot\u001b[39;00m batched \u001b[38;5;28;01melse\u001b[39;00m Batch(item, features\u001b[38;5;241m=\u001b[39m\u001b[38;5;28mself\u001b[39m\u001b[38;5;241m.\u001b[39mfeatures)\n\u001b[1;32m   2345\u001b[0m )\n\u001b[1;32m   2346\u001b[0m \u001b[38;5;66;03m# Use the LazyDict internally, while mapping the function\u001b[39;00m\n\u001b[0;32m-> 2347\u001b[0m result \u001b[38;5;241m=\u001b[39m \u001b[43mf\u001b[49m\u001b[43m(\u001b[49m\u001b[43mdecorated_item\u001b[49m\u001b[43m,\u001b[49m\u001b[43m \u001b[49m\u001b[38;5;241;43m*\u001b[39;49m\u001b[43margs\u001b[49m\u001b[43m,\u001b[49m\u001b[43m \u001b[49m\u001b[38;5;241;43m*\u001b[39;49m\u001b[38;5;241;43m*\u001b[39;49m\u001b[43mkwargs\u001b[49m\u001b[43m)\u001b[49m\n\u001b[1;32m   2348\u001b[0m \u001b[38;5;66;03m# Return a standard dict\u001b[39;00m\n\u001b[1;32m   2349\u001b[0m \u001b[38;5;28;01mreturn\u001b[39;00m result\u001b[38;5;241m.\u001b[39mdata \u001b[38;5;28;01mif\u001b[39;00m \u001b[38;5;28misinstance\u001b[39m(result, LazyDict) \u001b[38;5;28;01melse\u001b[39;00m result\n",
      "Cell \u001b[0;32mIn [25], line 2\u001b[0m, in \u001b[0;36mlowercase_condition\u001b[0;34m(example)\u001b[0m\n\u001b[1;32m      1\u001b[0m \u001b[38;5;28;01mdef\u001b[39;00m \u001b[38;5;21mlowercase_condition\u001b[39m(example):\n\u001b[0;32m----> 2\u001b[0m     \u001b[38;5;28;01mreturn\u001b[39;00m {\u001b[38;5;124m\"\u001b[39m\u001b[38;5;124mcondition\u001b[39m\u001b[38;5;124m\"\u001b[39m: \u001b[43mexample\u001b[49m\u001b[43m[\u001b[49m\u001b[38;5;124;43m\"\u001b[39;49m\u001b[38;5;124;43mcondition\u001b[39;49m\u001b[38;5;124;43m\"\u001b[39;49m\u001b[43m]\u001b[49m\u001b[38;5;241;43m.\u001b[39;49m\u001b[43mlower\u001b[49m()}\n",
      "\u001b[0;31mAttributeError\u001b[0m: 'NoneType' object has no attribute 'lower'"
     ]
    }
   ],
   "source": [
    "drug_dataset.map(lowercase_condition)"
   ]
  },
  {
   "cell_type": "code",
   "execution_count": 27,
   "id": "5311dfb6-d958-486a-b3f6-0fb3db6644c7",
   "metadata": {},
   "outputs": [],
   "source": [
    "def filter_nones(x):\n",
    "    return x[\"condition\"] is not None"
   ]
  },
  {
   "cell_type": "code",
   "execution_count": 28,
   "id": "11e5666c-2e30-4fe9-ad15-d51079b0e37c",
   "metadata": {},
   "outputs": [
    {
     "data": {
      "application/vnd.jupyter.widget-view+json": {
       "model_id": "da7dbd0d15b54e88b4e8ac499a1263b8",
       "version_major": 2,
       "version_minor": 0
      },
      "text/plain": [
       "  0%|          | 0/162 [00:00<?, ?ba/s]"
      ]
     },
     "metadata": {},
     "output_type": "display_data"
    },
    {
     "data": {
      "application/vnd.jupyter.widget-view+json": {
       "model_id": "c052ef8546c842dea147cd9b39eeaaa9",
       "version_major": 2,
       "version_minor": 0
      },
      "text/plain": [
       "  0%|          | 0/54 [00:00<?, ?ba/s]"
      ]
     },
     "metadata": {},
     "output_type": "display_data"
    }
   ],
   "source": [
    "drug_dataset = drug_dataset.filter(filter_nones)"
   ]
  },
  {
   "cell_type": "code",
   "execution_count": 31,
   "id": "05af72a0-ded3-48e2-b12b-505d98359169",
   "metadata": {},
   "outputs": [
    {
     "name": "stderr",
     "output_type": "stream",
     "text": [
      "Loading cached processed dataset at /root/.cache/huggingface/datasets/csv/default-0f3347c7136da314/0.0.0/652c3096f041ee27b04d2232d41f10547a8fecda3e284a79a0ec4053c916ef7a/cache-ee0f0c49c2a412c9.arrow\n",
      "Loading cached processed dataset at /root/.cache/huggingface/datasets/csv/default-0f3347c7136da314/0.0.0/652c3096f041ee27b04d2232d41f10547a8fecda3e284a79a0ec4053c916ef7a/cache-d412b1a6bdf4c654.arrow\n"
     ]
    }
   ],
   "source": [
    "drug_dataset = drug_dataset.map(lowercase_condition)"
   ]
  },
  {
   "cell_type": "code",
   "execution_count": 32,
   "id": "d28dd994-de05-45b9-869f-86ef8fde5a50",
   "metadata": {},
   "outputs": [
    {
     "data": {
      "text/plain": [
       "884"
      ]
     },
     "execution_count": 32,
     "metadata": {},
     "output_type": "execute_result"
    }
   ],
   "source": [
    "len(drug_dataset[\"train\"].unique('condition'))"
   ]
  },
  {
   "cell_type": "code",
   "execution_count": 33,
   "id": "5668904b-b0fa-4cbf-8021-aac391185018",
   "metadata": {},
   "outputs": [
    {
     "data": {
      "text/plain": [
       "708"
      ]
     },
     "execution_count": 33,
     "metadata": {},
     "output_type": "execute_result"
    }
   ],
   "source": [
    "len(drug_dataset[\"test\"].unique('condition'))"
   ]
  },
  {
   "cell_type": "markdown",
   "id": "e9559218-177a-47f7-a2a7-5702901b8a7f",
   "metadata": {},
   "source": [
    "## Creating new columns"
   ]
  },
  {
   "cell_type": "code",
   "execution_count": 34,
   "id": "268b223a-e346-4956-9b21-483790be906b",
   "metadata": {},
   "outputs": [],
   "source": [
    "# check lengths\n",
    "def compute_review_length(example):\n",
    "    return {\"review_length\": len(example[\"review\"].split())}"
   ]
  },
  {
   "cell_type": "code",
   "execution_count": 35,
   "id": "edb36df0-fd2d-487f-871b-c3d2687e47ed",
   "metadata": {},
   "outputs": [
    {
     "data": {
      "application/vnd.jupyter.widget-view+json": {
       "model_id": "6d7dd776662d478fb596bff5a755b9e9",
       "version_major": 2,
       "version_minor": 0
      },
      "text/plain": [
       "  0%|          | 0/160398 [00:00<?, ?ex/s]"
      ]
     },
     "metadata": {},
     "output_type": "display_data"
    },
    {
     "data": {
      "application/vnd.jupyter.widget-view+json": {
       "model_id": "545a25f3b20d403fb3c953d7a8e4b8ff",
       "version_major": 2,
       "version_minor": 0
      },
      "text/plain": [
       "  0%|          | 0/53471 [00:00<?, ?ex/s]"
      ]
     },
     "metadata": {},
     "output_type": "display_data"
    },
    {
     "data": {
      "text/plain": [
       "{'patient_id': 206461,\n",
       " 'drugName': 'Valsartan',\n",
       " 'condition': 'left ventricular dysfunction',\n",
       " 'review': '\"It has no side effect, I take it in combination of Bystolic 5 Mg and Fish Oil\"',\n",
       " 'rating': 9.0,\n",
       " 'date': 'May 20, 2012',\n",
       " 'usefulCount': 27,\n",
       " 'review_length': 17}"
      ]
     },
     "execution_count": 35,
     "metadata": {},
     "output_type": "execute_result"
    }
   ],
   "source": [
    "drug_dataset = drug_dataset.map(compute_review_length)\n",
    "drug_dataset[\"train\"][0]"
   ]
  },
  {
   "cell_type": "code",
   "execution_count": 36,
   "id": "54e479c6-4cb3-4e8e-a944-4b1598004a00",
   "metadata": {},
   "outputs": [
    {
     "data": {
      "text/plain": [
       "{'patient_id': [103488, 23627, 20558],\n",
       " 'drugName': ['Loestrin 21 1 / 20', 'Chlorzoxazone', 'Nucynta'],\n",
       " 'condition': ['birth control', 'muscle spasm', 'pain'],\n",
       " 'review': ['\"Excellent.\"', '\"useless\"', '\"ok\"'],\n",
       " 'rating': [10.0, 1.0, 6.0],\n",
       " 'date': ['November 4, 2008', 'March 24, 2017', 'August 20, 2016'],\n",
       " 'usefulCount': [5, 2, 10],\n",
       " 'review_length': [1, 1, 1]}"
      ]
     },
     "execution_count": 36,
     "metadata": {},
     "output_type": "execute_result"
    }
   ],
   "source": [
    "drug_dataset[\"train\"].sort(\"review_length\")[:3]"
   ]
  },
  {
   "cell_type": "code",
   "execution_count": 37,
   "id": "9f499465-b6ec-4cea-93ed-7915a1b1b8fe",
   "metadata": {},
   "outputs": [
    {
     "data": {
      "application/vnd.jupyter.widget-view+json": {
       "model_id": "46334bae4b2d470caca964b02e383464",
       "version_major": 2,
       "version_minor": 0
      },
      "text/plain": [
       "  0%|          | 0/161 [00:00<?, ?ba/s]"
      ]
     },
     "metadata": {},
     "output_type": "display_data"
    },
    {
     "data": {
      "application/vnd.jupyter.widget-view+json": {
       "model_id": "9471cc2d5b35474ea22ec73ba8e77329",
       "version_major": 2,
       "version_minor": 0
      },
      "text/plain": [
       "  0%|          | 0/54 [00:00<?, ?ba/s]"
      ]
     },
     "metadata": {},
     "output_type": "display_data"
    },
    {
     "name": "stdout",
     "output_type": "stream",
     "text": [
      "{'train': 138514, 'test': 46108}\n"
     ]
    }
   ],
   "source": [
    "# filter out short reviews\n",
    "drug_dataset = drug_dataset.filter(lambda x: x[\"review_length\"] > 30)\n",
    "print(drug_dataset.num_rows)"
   ]
  },
  {
   "cell_type": "code",
   "execution_count": 38,
   "id": "903eb35a-3829-4ade-aa18-f289afa8097a",
   "metadata": {},
   "outputs": [
    {
     "data": {
      "text/plain": [
       "{'patient_id': [121004, 181160, 216072],\n",
       " 'drugName': ['Venlafaxine', 'Prozac', 'Copper'],\n",
       " 'condition': ['migraine', 'obsessive compulsive disorde', 'birth control'],\n",
       " 'review': ['\"Two and a half months ago I was prescribed Venlafaxine to help prevent chronic migraines.\\r\\nIt did help the migraines (reduced them by almost half), but with it came a host of side effects that were far worse than the problem I was trying to get rid of.\\r\\nHaving now come off of the stuff, I would not recommend anyone ever use Venlafaxine unless they suffer from extreme / suicidal depression. I mean extreme in the most emphatic sense of the word. \\r\\nBefore trying Venlafaxine, I was a writer. While on Venlafaxine, I could barely write or speak or communicate at all. More than that, I just didn&#039;t want to. Not normal for a usually outgoing extrovert.\\r\\nNow, I&#039;m beginning to write again - but my ability to speak and converse with others has deteriorated by about 95%. Writing these words is taking forever; keeping up in conversation with even one person is impossible, and I barely see the point of trying either. On Venlafaxine, words pretty much left me - my conversational vocabulary  was whittled down to the following:\\r\\n&quot;Mmm&quot; for yes; a sharp and clipped &quot;Mm&quot; for &quot;No&quot;\\r\\n&quot;Okay.&quot;\\r\\n&quot;Really?&quot;\\r\\n&quot;Oh right.&quot;\\r\\n&quot;Cool.&quot;\\r\\n&quot;That sucks&quot;\\r\\nAt the moment, I&#039;m a week into withdrawal, and I have to try extremely hard just to make the most mundane small talk. Last night I went to a party with some close friends, cheesy &#039;90s music, and a barbecue. About half of them are academics, and I couldn&#039;t keep up with conversations I normally would be able to; the other half like to dance and party, but I felt glued to my seat (as well as practically mute) and eventually walked off and found a quiet sofa to lie down on.\\r\\nI have never felt so isolated and lonely in my life. Thanks Venlafaxine.\\r\\nIf you consider yourself a social, creative, and curious person, DO NOT TAKE EVEN ONE DOSE OF VENLAFAXINE. Unless of course you are extremely extremely depressed. I&#039;ve suffered from depression in the past, but only mildly. Venlafaxine has shown me what true depression feels like.\\r\\nAs for the other side effects:\\r\\n- About two days&#039; worth of total joyful euphoria during the first 48 hours of taking Venlafaxine. Anxiety of all kinds evaporated. This felt amazing - although I can&#039;t remember what it felt like now. At the time, this extremely brief effect was powerful enough to make me feel that pushing on with Venlafaxine would be a Good Idea.\\r\\n- After that, I started feeling very sleepy. All the time. I slept more. No euphoria; more anxiety.\\r\\n- A week later, the night sweats started. My room was pretty cold (it was only spring in the UK), but I sweated more than I ever have on any tropical holiday. This meant that despite being extremely sleepy, I couldn&#039;t sleep.\\r\\nSince the side effects were supposed to wear off after six weeks or so, I stuck with Venlafaxine for six weeks. Over that time I became so sleep deprived that I lived in a state of permanent exhaustion.\\r\\nEnter the writer&#039;s worst enemy: Brain fog. I spent entire days so braindead that the most challenging thing I could manage was staring blankly at a wall - or lifting my phone to read text messages and attempt to learn something from articles about Venlafaxine. I&#039;ve read the same articles countless times, but nothing sank in; every time I read the same article it felt like I was reading it for the first time. I recognised the layout and design of each webpage, and that way I was able to realise I&#039;d read it before, but the actual text went in one eye and out the other.\\r\\nIn conversation, I had a brain like a sieve. Words went in one ear and out the other. Normally, I could pump out a lot of writing on a regular basis; on Venlafaxine, I wrote a small and frankly pitiful handful of short and uninspired pieces, and that was it. If you love being productive and creative, do not go near Venlafaxine.\\r\\nThe above was my life for six weeks - and that was enough. I did see family and friends while on Venlafaxine, but I constantly forgot what was going on and must have seemed scatterbrained or borderline retarded at times. Although I did explain to people what was going on with my medication, it just seemed to make people uncomfortable - and I&#039;ve now become the butt of a lot of jokes relating to my consistent uselessness at everything from chatting to party games and my inability to work or do anything productive. Someone even compared me to Lenny from Of Mice And Men and asked when my family were going to take me into the back garden and shoot me in the head rather than continue to care for me. All of this contributed to the worst feeling of loneliness and isolation I have ever experienced in my life.\\r\\nVenlafaxine not only trapped me inside my head - it also emptied my head of anything worth remembering, and left me barely able to learn new things. \\r\\nI&#039;d sit around tables with people and realise I couldn&#039;t remember the names of people I&#039;d know for years - or even family members. \\r\\nI&#039;d hear a song playing and say &quot;Hey - what&#039;s the name of this dance?&quot;\\r\\nAny sentence longer than a few words requires a minute or so to compose when written. Spoken out loud? Forget about it. When I try to speak, I sound like the Goon from Popeye.\\r\\nAfter six weeks of hell, my doctor and I agreed to taper off my 75mg daily dose. This process lasted a month, not following a particular schedule (which might have been a better idea), and was mostly side effect free until I came down to 18.25mg a day - one half of one 37.5mg tablet.\\r\\nAfter three days of that, it really hit the fan. I got up one day, pottered around a bit, and suddenly decided that I wanted to kill myself. Literally out of nowhere.\\r\\nFortunately I was of sound enough mind to call the Samaritans, who recommended I call the emergency services, who sent an ambulance to take me to hospital. For suicidal thoughts. \\r\\nTo be honest, I&#039;d rather have gone to Disneyland.\\r\\nOnce I was in A&amp;E, I got to wait for several hours, just stewing in a room with a sofa and not much else. Then I met the most useless doctor of all time. After I refused his suggestion that I not only go back on Venlafaxine, but *try a higher dose* than the one that got me into this mess in the first place, he said there wasn&#039;t anything else they could do - and handed me a little leaflet for a local mental health charity meetup that happens every so often.\\r\\nBy this point I&#039;d decided that suicide would not be the best option - and nor would going on even more Venlafaxine than before. I also binned the leaflet on my way out, determined to keep going and just deal with the withdrawal.\\r\\nSince that time, my intelligence level has plummeted to the point of being humiliating. But that&#039;s not even the worst of it.\\r\\nAs I mentioned before, I started taking Venlafaxine for migraines. Now that I&#039;m not taking it, they&#039;re coming back again - but they&#039;ve also changed.\\r\\nA few days ago, days before the party I should probably have stayed home for only I couldn&#039;t stand sitting at home any longer so I went and ended up alone in a darkened room and felt more depressed than I have in my entire life, I was at home when I collapsed. The right side of my body gave way, I hit the wall, and fell on the floor where I lay frozen for God knows how long. Then when I did get up, I realised I couldn&#039;t speak at all, the right side of my body was almost paralysed, and the right side of my head was numb on the outside, and in agony on the inside.\\r\\nAfter calling the emergency services again, I was taken through the standard questions I guess they ask everyone when they think the person in question is having a stroke. Like the suicidal thoughts, stroke symptoms were a new experience for me. Thanks, Venlafaxine.\\r\\nWhen the ambulance arrived, they were able to reassure me that I wasn&#039;t having a stroke, as one side of my face wasn&#039;t drooping. This was good news - but since they couldn&#039;t explain what was actually going on, I was taking to hospital for a brain scan and blood tests and a meeting with a doctor who told me I&#039;d had a right-sided hemiplegic migraine. I&#039;d never had one before, and didn&#039;t know they existed until then; my migraines have always felt like my head is both in a vice and exploding at the same time, and I get them across my whole head, not just one side.\\r\\nAt this point, I&#039;m determined to continue fighting the withdrawal symptoms. The only thing that&#039;s really helped me in doing this was the discovery of a cognitive distortion called &quot;emotional reasoning&quot;. This involves assuming that because you feel bad, things must actually be bad.\\r\\nObviously emotional reasoning (which is worth Googling as it&#039;s quite an in depth subject, or at least feels like it given that my brain&#039;s been hopefully temporarily damaged by Venlafaxine) is pretty common in depression. It&#039;s also been my brain&#039;s default way of operating possibly for as long as I can remember, but definitely since I started taking Venlafaxine. The emotional and physical and psychological rollercoaster Venlafaxine puts you through is utterly exhausting - and while it&#039;s throwing you all over the place and especially during withdrawal it&#039;s tough to keep in mind that a lot of the negative thoughts your mind throws up are going to be based on how you feel (i.e. the levels and mix of different chemicals in your brain), NOT on any Real Life Stuff. You&#039;ll most likely unintentionally filter out all the good stuff in your brain and only remember the darkest and worst things you possibly can, and attach all kinds of apparently logical arguments to make a case against yourself / a case that argues that you and your life are awful.\\r\\nLooking back on this experience, my thoughts were similar to one of those films you see advertised as &quot;...based on a true story&quot;. Works of fiction based very loosely on facts.\\r\\nRather than a film you&#039;d give two stars and never watch again, emotional reasoning&#039;s end product is a lie - not to mention the most toxic thoughts a human being can think. Depression can definitely make people tell these lies to themselves - but Venlafaxine made my brain malfunction so badly that putting together an apparently sensible argument for any depressive thoughts suddenly seemed like the most obvious thing in the world one day.\\r\\nIf I hadn&#039;t had those thoughts, I would&#039;ve just made lunch.\\r\\nSo that&#039;s about it for now - if I don&#039;t update this story in the future, assume I got better and decided to never revisit this page again, preferring to leave Venlafaxine and its horrific toxicity behind me. Good luck with your own journey :)\"',\n",
       "  '\"I don&rsquo;t find a lot of positive stories about antidepressants, or I find stories where people are taking the antidepressant the wrong way.\\r\\n\\r\\nI wanted to share my experience.  A positive one.\\r\\n\\r\\nI&rsquo;ve had generalized anxiety disorder, SEVERE OCD, and panic disorder for as long as I can remember.  My first memory of having an episode was when I was 4 years old at my kindergarten interview.  I feel as though I was born with the illnesses mentioned above, right from the womb.  When I was a child I was extremely anxious, had bad separation anxiety from my parents and had extreme OCD, I was just a kid and thought that the way I was feeling is how all kids felt, I didn&rsquo;t realize that I was different.  This went on, and got even worse in middle school.  I began developing trichtilomania in middle school.  In high school I went from being a 90% above student, to failing every class within a couple of years.  I couldn&rsquo;t leave the house.  My panic disorder and gad caused debilitating physical symptoms.  I would be shaking when I had to leave the house, I wouldn&rsquo;t drink alcohol because I was afraid of vomiting, I was suffering so much, for my whole entire life with severe phobias, fears, and anxiety.  I prayed and prayed and prayed to God every night for it to go away.  I was a 16 year old living in a prison of her own mind.  It never went away.  Every single day was the worst day of my life, I would wake up and the thoughts just started,  I never had a break.  My life was exhausting.\\r\\n\\r\\nI am of east indian background and my parents didn&rsquo;t understand mental illness well.  It is very taboo in my culture.  I went to tons of doctors and they told me it was just growing pains,  no doctor ever told me that maybe I should see a therapist.  I didn&rsquo;t have any support.  When I was 22 I attempted suicide.  Luckily the attempt didn&rsquo;t work and I was forced to go on medication.  I was livid, I was so against antidepressants, I was so so so scared, it felt unnatural. My general practitioner put me on Effexor, I took it for almost 8 weeks, it helped me to not want to kill myself, but It also made me gain tons of weight which made me depressed, and it make me hear voices.  One evening a voice told me to choke my mom, and I started freaking out and my parents drove me immediately to the hospital.  At the hospital I talked to a psych nurse who calmed me down, and got me an appointment with a psychiatrist the next day.  This appointment and this psychiatrist saved my life, and changed my entire life.\\r\\n\\r\\nI want to really mention that you should not be going to a General Practitioner for mental illness medication, you should ALWAYS&hellip;ALWAYS go to a psychiatrist no matter what.  If your GP is the only person you are seeing to help you manage your meds for ocd, anxiety, etc, that is the WRONG MOVE.  That is such a common mistake people are making, you NEED a psychiatrist in order to get the meds right, please do not just go to your regular doctor, you&rsquo;ll be cheating yourself.\\r\\n\\r\\nI went to the psychiatrist appointment the next day.  It was the first time I had ever seen a psychiatrist.   I got into her room and we talked about everything, my childhood, my phobias, my ocd.  She then brought my parents into the room to explain the whole situation to them and the fact that I have a chemical imbalance in my brain and that I have been suffering for way too long.  My parents were so supportive.  The doctor told me I was on the wrong medication, that I never should have been placed on Effexor which is an SNRI, and that I should be on an SSRI considering my main problem is OCD and GAD.  We talked a lot about it and she told me she would like to place me on Prozac.  She said for me, because my neural pathways have been the same for 20 plus years, that I would need a higher dosage of Prozac especially for anxiety and OCD.   I see on this forum, that so many people are on 20mg, or 40mg for anxiety disorders.   You should be on 60mg at least, do not be afraid to go higher.  People that say Prozac or an SSRI didn&rsquo;t really do anything for their anxiety or ocd is because they are only taking a 20mg dose,  That is not an OCD dose.  40-80mg for anxiety and OCD.   Please up your dose.   Use the medication, REALLY USE IT.  Do not be afraid!\\r\\n\\r\\nMy doctor started me on 40mg, eventually took me to 100mg, and then I went back to 80mg.  Yes the side effects are insane, I was nauseated, I couldn&rsquo;t sleep, I was shaking, I had anxiety, but she prescribed me Ativan and said to use it until the Prozac kicked in.  That the Ativan would keep me comfortable until that happened.  Don&rsquo;t try to be a hero, use your Ativan or your Xanax or whatever to stay as comfortable as possible.\\r\\n\\r\\nI could write so much more, but I&rsquo;ll conclude with this.  4 months after being on 80mg of Prozac everyday, I woke up one day and I was cured.   Yes cured.  I had no OCD, I had no anxiety, I no longer had fears or phobias.   I was cured.   You have no idea how that day felt.  It was like the first day of my whole entire life.  I woke up being the real me, who is free spirited and isn&rsquo;t afraid of anything!  I was finally free, I was no longer a prisoner.  I didn&rsquo;t even have to go to therapy.  I just woke up one day a brand new person, from taking a high dose of Prozac every single day.\\r\\n\\r\\nDO NOT go off of the antidepressants.   Your ocd, your anxiety, depression etc will come back.  I WOULD never dream or even think to come off of my antidepressants,  I have an illness, that will return if I go off the medication, because I have a brain disorder.  OCD is a brain disorder.  Do not stop taking medication for your brain disorder, do not try to fix your brain disorder with just a 20mg or 40mg dose.  Own your medication, be on it for life.\\r\\n\\r\\nIt&rsquo;s been 5 years since I have been cured.  If it wasn&rsquo;t for Prozac, I would be dead.\\r\\n\\r\\n1)\\tYou need a psychiatrist\\r\\n2)\\tDo not be afraid to take more than 40mg of Prozac to treat panic attacks etc,  I am on 80mg a day and my life is a ball.  It is so wonderful and so carefree.\\r\\n3)\\tDo not stop the meds.  Be on the meds for life.\"',\n",
       "  '\"My Complicated experience with the insertion of the copper IUD. It was &quot;one of the most difficult &amp; Complicated IUD insertions I&#039;ve had in a very long time&quot; quoting the words of my Gynecologist MD. Now I have not been sexually active for over a year and a half (by choice) &amp; I&#039;ve never had kids so that for one was a concern for my doctor since she said i might be very tight &amp; feel pain. Anywhom I am 23 and recently decided to date again &amp; wanted to have a convinient birth control that won&#039;t affect my weight or cause acne since acne has recently been a new battle for me, so my first step was hitting the Internet for options. After reading many reviews for multiple birth controls I decided on the copper para guard which is for 10-12 years. Now I went to my doctor and had a screening for STDs &amp; HIV which is protocol to any birth control procedure. Then pregnancy tests were taken a few days before the insertion and the day of the insertion, after everything came out negative I was ready for my IUD. I was schedule to go in on Tuesday September 1, 2015 so I went in with anticipation of pain and I was very nervous. Mostly because it was something new for me to have a speculum inside me since I just had my first Pap smear ,ever, two weeks prior to the IUD insertion. As my doctor placed the speculum I had some discomfort, she had trouble finding my cervix, after some time she had everything positioned right and began to try and dilate my cervix, right when she started I began to feel extreme cramping. My doctor could not get her tool that she used to dilate my cervix to stay in, I was too tight due to the fact that I&#039;ve never had kids so it wasn&#039;t easy, my cervix kept pushing the prob out. She attempted a few more times until I couldn&#039;t take the pain anymore because the cramping became so severe I began to cry. Now I know i sound ridiculous crying but I have a pretty high tolerance for pain &amp; I never understood how many woman couldn&#039;t take the cramping they had when on their period because I don&#039;t experience cramping on my periods, at least until now. I now have so much more sympathy for those who do have this pain every month. My doctor gave me other birth control options because she wasn&#039;t successful in Inserting the IUD but she knew I didn&#039;t want others so she offered to use an anesthetic on my cervix to help with the insertion (which is not normally a part of the procedure but since I had a special case she offered this option to me). I was not happy with the fact that I had to have a needle inserted in my cervix but this was the birth control I wanted and I was going to do whatever to get it. I was in too much pain that day so I had to come back the next morning. So here I go Wednesday morning into my doctors office, laying down ready to get a needle inserted into my cervix which terrified me because I already knew how painful it was but I didn&#039;t feel a thing when she put the anesthetic, I was told I would feel a slight sting and some burning sensation but I didn&#039;t feel anything. It took her about 15 min to position the IUD correctly, she had to dilate me 8cm to get a good view and make sure I had a successful insertion. I felt NOTHING &amp; then she was done. Right after she had me lay down for a few minutes then had me slowly sit up, I felt like I was going to faint, The MD said my eyes were not focusing on her and I was so pale. At that point my whole face and hands where numb. She stayed there with me until I regained full blood flow to my upper body. FYI my doctor said some woman actually faint after the procedure &amp; in some rare cases they even have seizure because the pain of dilating the cervix is so intense. I was lucky of not having any cramps because my cervix was numb. 8 hrs later the numbness began to fade &amp; the pain started, I got prescribed 600 Tylenol which helped a little. I spotted the next 3 days, I had to use pantie liners. Then my period came 1 week early just 4 days after I got my IUD placed, it was very heavy the first 3 days with medium cramping and my period lasted 5 1/2 days. My usual periods post the IUD was 4 days with only 1 heavy day. I have now had my IUD going on 3 weeks and I have little spotting every day so I use liners all the time. Now the part that I was most nervous about was the whole &quot;me checking if I can feel the IUD strings&quot; Its something I&#039;m a bit uncomfortable doing mostly because I&#039;ve never done it before so the first couple of times I tried to check for the strings I couldn&#039;t feel anything so I began to freak out and rushed to my doctors office after my unsuccessful attempts. She said to wait until my first period was over and then to try again. I tried again after my period and I still couldn&#039;t feel anything then I found a way to check that best fits me since I have small hands so I&#039;ll share my wisdom with you guys lol. I check in the shower every morning I lift one leg as if I&#039;m going to shave then I insert my pointer and I squat a little which helps and I&#039;m able to feel the tip of the strings. I have not had any cramping since my period and my discharge has reduced. I&#039;m very happy with my IUD &amp; I plan on using it safely and responsibly as I have heard many woman have got pregnant with the IUD. I still plan on using condoms because of STDs and I got the IUD as a backup just in case. I plan on keeping it for the full 10 year unless there are any complications. Sorry for the long story but I for one would have loved to hear the entire experience someone had so I decided to share mine. Hope it helps at least one person :)\"'],\n",
       " 'rating': [2.0, 10.0, 10.0],\n",
       " 'date': ['June 18, 2017', 'May 26, 2017', 'September 17, 2015'],\n",
       " 'usefulCount': [9, 148, 43],\n",
       " 'review_length': [1894, 1162, 1107]}"
      ]
     },
     "execution_count": 38,
     "metadata": {},
     "output_type": "execute_result"
    }
   ],
   "source": [
    "drug_dataset[\"train\"].sort(\"review_length\", reverse=True)[:3]"
   ]
  },
  {
   "cell_type": "code",
   "execution_count": 40,
   "id": "fbf9e586-071f-4351-b9d6-0ca0e7efde8d",
   "metadata": {},
   "outputs": [
    {
     "data": {
      "application/vnd.jupyter.widget-view+json": {
       "model_id": "13e7631e5ae54962ab8a556d734cfa91",
       "version_major": 2,
       "version_minor": 0
      },
      "text/plain": [
       "  0%|          | 0/138514 [00:00<?, ?ex/s]"
      ]
     },
     "metadata": {},
     "output_type": "display_data"
    },
    {
     "data": {
      "application/vnd.jupyter.widget-view+json": {
       "model_id": "c47bbe6d158c4d11b37269e248d9fb62",
       "version_major": 2,
       "version_minor": 0
      },
      "text/plain": [
       "  0%|          | 0/46108 [00:00<?, ?ex/s]"
      ]
     },
     "metadata": {},
     "output_type": "display_data"
    }
   ],
   "source": [
    "# unescape html character codes\n",
    "import html\n",
    "drug_dataset = drug_dataset.map(lambda x: {\"review\": html.unescape(x[\"review\"])})"
   ]
  },
  {
   "cell_type": "markdown",
   "id": "1776c189-1fac-464f-ba75-d6c060466bb9",
   "metadata": {},
   "source": [
    "## The `map()` method's superpowers"
   ]
  },
  {
   "cell_type": "code",
   "execution_count": 41,
   "id": "72730cfe-b258-4fd1-9e7f-bd7ba29aa928",
   "metadata": {},
   "outputs": [
    {
     "data": {
      "application/vnd.jupyter.widget-view+json": {
       "model_id": "2720bf77efe1404fac774f367c6f9a75",
       "version_major": 2,
       "version_minor": 0
      },
      "text/plain": [
       "  0%|          | 0/139 [00:00<?, ?ba/s]"
      ]
     },
     "metadata": {},
     "output_type": "display_data"
    },
    {
     "data": {
      "application/vnd.jupyter.widget-view+json": {
       "model_id": "2b4f26cb2c244b7888606bbebb574a9d",
       "version_major": 2,
       "version_minor": 0
      },
      "text/plain": [
       "  0%|          | 0/47 [00:00<?, ?ba/s]"
      ]
     },
     "metadata": {},
     "output_type": "display_data"
    }
   ],
   "source": [
    "# batched=True for increased performance\n",
    "new_drug_dataset = drug_dataset.map(\n",
    "    lambda x: {\"review\":[html.unescape(o) for o in x[\"review\"]]}, batched=True\n",
    ")"
   ]
  },
  {
   "cell_type": "code",
   "execution_count": 53,
   "id": "820dd882-a907-4fbf-b63e-bf66f2ee7dc4",
   "metadata": {},
   "outputs": [],
   "source": [
    "# fast tokenizer\n",
    "from transformers import AutoTokenizer\n",
    "tokenizer = AutoTokenizer.from_pretrained(\"bert-base-cased\")\n",
    "def tokenize_function(examples):\n",
    "    return tokenizer(examples[\"review\"], truncation=True)"
   ]
  },
  {
   "cell_type": "code",
   "execution_count": 43,
   "id": "c784c9f6-0dca-43c7-bb3a-c187e3b0d3b1",
   "metadata": {},
   "outputs": [
    {
     "data": {
      "application/vnd.jupyter.widget-view+json": {
       "model_id": "4cd7aaa8aaa149788d0ce0b5935db8d4",
       "version_major": 2,
       "version_minor": 0
      },
      "text/plain": [
       "  0%|          | 0/139 [00:00<?, ?ba/s]"
      ]
     },
     "metadata": {},
     "output_type": "display_data"
    },
    {
     "data": {
      "application/vnd.jupyter.widget-view+json": {
       "model_id": "0cd0c3406c36481c8b172d5aeb166321",
       "version_major": 2,
       "version_minor": 0
      },
      "text/plain": [
       "  0%|          | 0/47 [00:00<?, ?ba/s]"
      ]
     },
     "metadata": {},
     "output_type": "display_data"
    },
    {
     "name": "stdout",
     "output_type": "stream",
     "text": [
      "CPU times: user 1min 41s, sys: 821 ms, total: 1min 41s\n",
      "Wall time: 33.6 s\n"
     ]
    },
    {
     "data": {
      "text/plain": [
       "DatasetDict({\n",
       "    train: Dataset({\n",
       "        features: ['patient_id', 'drugName', 'condition', 'review', 'rating', 'date', 'usefulCount', 'review_length', 'input_ids', 'token_type_ids', 'attention_mask'],\n",
       "        num_rows: 138514\n",
       "    })\n",
       "    test: Dataset({\n",
       "        features: ['patient_id', 'drugName', 'condition', 'review', 'rating', 'date', 'usefulCount', 'review_length', 'input_ids', 'token_type_ids', 'attention_mask'],\n",
       "        num_rows: 46108\n",
       "    })\n",
       "})"
      ]
     },
     "execution_count": 43,
     "metadata": {},
     "output_type": "execute_result"
    }
   ],
   "source": [
    "%time drug_dataset.map(tokenize_function, batched=True)"
   ]
  },
  {
   "cell_type": "code",
   "execution_count": 44,
   "id": "fdd8ec18-db57-455e-8e8d-831e16d78ac1",
   "metadata": {},
   "outputs": [
    {
     "data": {
      "application/vnd.jupyter.widget-view+json": {
       "model_id": "7bb3028cab134638bfaad2ebe8506310",
       "version_major": 2,
       "version_minor": 0
      },
      "text/plain": [
       "  0%|          | 0/138514 [00:00<?, ?ex/s]"
      ]
     },
     "metadata": {},
     "output_type": "display_data"
    },
    {
     "data": {
      "application/vnd.jupyter.widget-view+json": {
       "model_id": "262e697bc0bb4e8eb7c7cb4a3b52508c",
       "version_major": 2,
       "version_minor": 0
      },
      "text/plain": [
       "  0%|          | 0/46108 [00:00<?, ?ex/s]"
      ]
     },
     "metadata": {},
     "output_type": "display_data"
    },
    {
     "name": "stdout",
     "output_type": "stream",
     "text": [
      "CPU times: user 2min 10s, sys: 1.21 s, total: 2min 11s\n",
      "Wall time: 2min 10s\n"
     ]
    },
    {
     "data": {
      "text/plain": [
       "DatasetDict({\n",
       "    train: Dataset({\n",
       "        features: ['patient_id', 'drugName', 'condition', 'review', 'rating', 'date', 'usefulCount', 'review_length', 'input_ids', 'token_type_ids', 'attention_mask'],\n",
       "        num_rows: 138514\n",
       "    })\n",
       "    test: Dataset({\n",
       "        features: ['patient_id', 'drugName', 'condition', 'review', 'rating', 'date', 'usefulCount', 'review_length', 'input_ids', 'token_type_ids', 'attention_mask'],\n",
       "        num_rows: 46108\n",
       "    })\n",
       "})"
      ]
     },
     "execution_count": 44,
     "metadata": {},
     "output_type": "execute_result"
    }
   ],
   "source": [
    "%time drug_dataset.map(tokenize_function, batched=False)"
   ]
  },
  {
   "cell_type": "code",
   "execution_count": 50,
   "id": "20035ac4-52c9-42ac-8a94-c6204963a293",
   "metadata": {},
   "outputs": [],
   "source": [
    "# slow tokenizer\n",
    "from transformers import AutoTokenizer\n",
    "slow_tokenizer = AutoTokenizer.from_pretrained(\"bert-base-cased\", use_fast=False)\n",
    "def slow_tokenize_function(examples):\n",
    "    return slow_tokenizer(examples[\"review\"], truncation=True)"
   ]
  },
  {
   "cell_type": "code",
   "execution_count": 51,
   "id": "b9832d39-c8a2-4b6e-9638-6d6e6b0739fe",
   "metadata": {},
   "outputs": [
    {
     "data": {
      "application/vnd.jupyter.widget-view+json": {
       "model_id": "d69a486988e84488b26fb43eadaaf3f7",
       "version_major": 2,
       "version_minor": 0
      },
      "text/plain": [
       "  0%|          | 0/139 [00:00<?, ?ba/s]"
      ]
     },
     "metadata": {},
     "output_type": "display_data"
    },
    {
     "data": {
      "application/vnd.jupyter.widget-view+json": {
       "model_id": "39b1be4d075a4f93a3cd9b4fb9a9403d",
       "version_major": 2,
       "version_minor": 0
      },
      "text/plain": [
       "  0%|          | 0/47 [00:00<?, ?ba/s]"
      ]
     },
     "metadata": {},
     "output_type": "display_data"
    },
    {
     "name": "stdout",
     "output_type": "stream",
     "text": [
      "CPU times: user 5min 18s, sys: 958 ms, total: 5min 19s\n",
      "Wall time: 5min 19s\n"
     ]
    },
    {
     "data": {
      "text/plain": [
       "DatasetDict({\n",
       "    train: Dataset({\n",
       "        features: ['patient_id', 'drugName', 'condition', 'review', 'rating', 'date', 'usefulCount', 'review_length', 'input_ids', 'token_type_ids', 'attention_mask'],\n",
       "        num_rows: 138514\n",
       "    })\n",
       "    test: Dataset({\n",
       "        features: ['patient_id', 'drugName', 'condition', 'review', 'rating', 'date', 'usefulCount', 'review_length', 'input_ids', 'token_type_ids', 'attention_mask'],\n",
       "        num_rows: 46108\n",
       "    })\n",
       "})"
      ]
     },
     "execution_count": 51,
     "metadata": {},
     "output_type": "execute_result"
    }
   ],
   "source": [
    "%time drug_dataset.map(slow_tokenize_function, batched=True)"
   ]
  },
  {
   "cell_type": "code",
   "execution_count": 52,
   "id": "b235fc10-dbf1-46de-84bd-5f57cf23bdfd",
   "metadata": {},
   "outputs": [
    {
     "data": {
      "application/vnd.jupyter.widget-view+json": {
       "model_id": "d2942e70cdc2436a9b01e01f97e01aaf",
       "version_major": 2,
       "version_minor": 0
      },
      "text/plain": [
       "  0%|          | 0/138514 [00:00<?, ?ex/s]"
      ]
     },
     "metadata": {},
     "output_type": "display_data"
    },
    {
     "data": {
      "application/vnd.jupyter.widget-view+json": {
       "model_id": "7b8a288276714e65ace0d1c67487c5f6",
       "version_major": 2,
       "version_minor": 0
      },
      "text/plain": [
       "  0%|          | 0/46108 [00:00<?, ?ex/s]"
      ]
     },
     "metadata": {},
     "output_type": "display_data"
    },
    {
     "name": "stdout",
     "output_type": "stream",
     "text": [
      "CPU times: user 6min 5s, sys: 5.32 s, total: 6min 11s\n",
      "Wall time: 6min 7s\n"
     ]
    },
    {
     "data": {
      "text/plain": [
       "DatasetDict({\n",
       "    train: Dataset({\n",
       "        features: ['patient_id', 'drugName', 'condition', 'review', 'rating', 'date', 'usefulCount', 'review_length', 'input_ids', 'token_type_ids', 'attention_mask'],\n",
       "        num_rows: 138514\n",
       "    })\n",
       "    test: Dataset({\n",
       "        features: ['patient_id', 'drugName', 'condition', 'review', 'rating', 'date', 'usefulCount', 'review_length', 'input_ids', 'token_type_ids', 'attention_mask'],\n",
       "        num_rows: 46108\n",
       "    })\n",
       "})"
      ]
     },
     "execution_count": 52,
     "metadata": {},
     "output_type": "execute_result"
    }
   ],
   "source": [
    "%time drug_dataset.map(slow_tokenize_function, batched=False)"
   ]
  },
  {
   "cell_type": "code",
   "execution_count": 56,
   "id": "9d5e5d12-444d-470d-ac97-295470bb992c",
   "metadata": {},
   "outputs": [],
   "source": [
    "def tokenize_and_split(examples):\n",
    "    return tokenizer(\n",
    "        examples[\"review\"],\n",
    "        truncation=True,\n",
    "        max_length=128,\n",
    "        return_overflowing_tokens=True,\n",
    "    )"
   ]
  },
  {
   "cell_type": "code",
   "execution_count": 57,
   "id": "00fa1b99-9302-45f4-98e0-0d59f96b7a34",
   "metadata": {},
   "outputs": [
    {
     "data": {
      "application/vnd.jupyter.widget-view+json": {
       "model_id": "494554ed7bb44d48851c593f198b64c7",
       "version_major": 2,
       "version_minor": 0
      },
      "text/plain": [
       "  0%|          | 0/139 [00:00<?, ?ba/s]"
      ]
     },
     "metadata": {},
     "output_type": "display_data"
    },
    {
     "ename": "ArrowInvalid",
     "evalue": "Column 8 named input_ids expected length 1000 but got length 1463",
     "output_type": "error",
     "traceback": [
      "\u001b[0;31m---------------------------------------------------------------------------\u001b[0m",
      "\u001b[0;31mArrowInvalid\u001b[0m                              Traceback (most recent call last)",
      "Cell \u001b[0;32mIn [57], line 1\u001b[0m\n\u001b[0;32m----> 1\u001b[0m tokenized_dataset \u001b[38;5;241m=\u001b[39m \u001b[43mdrug_dataset\u001b[49m\u001b[38;5;241;43m.\u001b[39;49m\u001b[43mmap\u001b[49m\u001b[43m(\u001b[49m\u001b[43mtokenize_and_split\u001b[49m\u001b[43m,\u001b[49m\u001b[43m \u001b[49m\u001b[43mbatched\u001b[49m\u001b[38;5;241;43m=\u001b[39;49m\u001b[38;5;28;43;01mTrue\u001b[39;49;00m\u001b[43m)\u001b[49m\n",
      "File \u001b[0;32m/usr/local/lib/python3.9/dist-packages/datasets/dataset_dict.py:770\u001b[0m, in \u001b[0;36mDatasetDict.map\u001b[0;34m(self, function, with_indices, with_rank, input_columns, batched, batch_size, drop_last_batch, remove_columns, keep_in_memory, load_from_cache_file, cache_file_names, writer_batch_size, features, disable_nullable, fn_kwargs, num_proc, desc)\u001b[0m\n\u001b[1;32m    767\u001b[0m \u001b[38;5;28;01mif\u001b[39;00m cache_file_names \u001b[38;5;129;01mis\u001b[39;00m \u001b[38;5;28;01mNone\u001b[39;00m:\n\u001b[1;32m    768\u001b[0m     cache_file_names \u001b[38;5;241m=\u001b[39m {k: \u001b[38;5;28;01mNone\u001b[39;00m \u001b[38;5;28;01mfor\u001b[39;00m k \u001b[38;5;129;01min\u001b[39;00m \u001b[38;5;28mself\u001b[39m}\n\u001b[1;32m    769\u001b[0m \u001b[38;5;28;01mreturn\u001b[39;00m DatasetDict(\n\u001b[0;32m--> 770\u001b[0m     {\n\u001b[1;32m    771\u001b[0m         k: dataset\u001b[38;5;241m.\u001b[39mmap(\n\u001b[1;32m    772\u001b[0m             function\u001b[38;5;241m=\u001b[39mfunction,\n\u001b[1;32m    773\u001b[0m             with_indices\u001b[38;5;241m=\u001b[39mwith_indices,\n\u001b[1;32m    774\u001b[0m             with_rank\u001b[38;5;241m=\u001b[39mwith_rank,\n\u001b[1;32m    775\u001b[0m             input_columns\u001b[38;5;241m=\u001b[39minput_columns,\n\u001b[1;32m    776\u001b[0m             batched\u001b[38;5;241m=\u001b[39mbatched,\n\u001b[1;32m    777\u001b[0m             batch_size\u001b[38;5;241m=\u001b[39mbatch_size,\n\u001b[1;32m    778\u001b[0m             drop_last_batch\u001b[38;5;241m=\u001b[39mdrop_last_batch,\n\u001b[1;32m    779\u001b[0m             remove_columns\u001b[38;5;241m=\u001b[39mremove_columns,\n\u001b[1;32m    780\u001b[0m             keep_in_memory\u001b[38;5;241m=\u001b[39mkeep_in_memory,\n\u001b[1;32m    781\u001b[0m             load_from_cache_file\u001b[38;5;241m=\u001b[39mload_from_cache_file,\n\u001b[1;32m    782\u001b[0m             cache_file_name\u001b[38;5;241m=\u001b[39mcache_file_names[k],\n\u001b[1;32m    783\u001b[0m             writer_batch_size\u001b[38;5;241m=\u001b[39mwriter_batch_size,\n\u001b[1;32m    784\u001b[0m             features\u001b[38;5;241m=\u001b[39mfeatures,\n\u001b[1;32m    785\u001b[0m             disable_nullable\u001b[38;5;241m=\u001b[39mdisable_nullable,\n\u001b[1;32m    786\u001b[0m             fn_kwargs\u001b[38;5;241m=\u001b[39mfn_kwargs,\n\u001b[1;32m    787\u001b[0m             num_proc\u001b[38;5;241m=\u001b[39mnum_proc,\n\u001b[1;32m    788\u001b[0m             desc\u001b[38;5;241m=\u001b[39mdesc,\n\u001b[1;32m    789\u001b[0m         )\n\u001b[1;32m    790\u001b[0m         \u001b[38;5;28;01mfor\u001b[39;00m k, dataset \u001b[38;5;129;01min\u001b[39;00m \u001b[38;5;28mself\u001b[39m\u001b[38;5;241m.\u001b[39mitems()\n\u001b[1;32m    791\u001b[0m     }\n\u001b[1;32m    792\u001b[0m )\n",
      "File \u001b[0;32m/usr/local/lib/python3.9/dist-packages/datasets/dataset_dict.py:771\u001b[0m, in \u001b[0;36m<dictcomp>\u001b[0;34m(.0)\u001b[0m\n\u001b[1;32m    767\u001b[0m \u001b[38;5;28;01mif\u001b[39;00m cache_file_names \u001b[38;5;129;01mis\u001b[39;00m \u001b[38;5;28;01mNone\u001b[39;00m:\n\u001b[1;32m    768\u001b[0m     cache_file_names \u001b[38;5;241m=\u001b[39m {k: \u001b[38;5;28;01mNone\u001b[39;00m \u001b[38;5;28;01mfor\u001b[39;00m k \u001b[38;5;129;01min\u001b[39;00m \u001b[38;5;28mself\u001b[39m}\n\u001b[1;32m    769\u001b[0m \u001b[38;5;28;01mreturn\u001b[39;00m DatasetDict(\n\u001b[1;32m    770\u001b[0m     {\n\u001b[0;32m--> 771\u001b[0m         k: \u001b[43mdataset\u001b[49m\u001b[38;5;241;43m.\u001b[39;49m\u001b[43mmap\u001b[49m\u001b[43m(\u001b[49m\n\u001b[1;32m    772\u001b[0m \u001b[43m            \u001b[49m\u001b[43mfunction\u001b[49m\u001b[38;5;241;43m=\u001b[39;49m\u001b[43mfunction\u001b[49m\u001b[43m,\u001b[49m\n\u001b[1;32m    773\u001b[0m \u001b[43m            \u001b[49m\u001b[43mwith_indices\u001b[49m\u001b[38;5;241;43m=\u001b[39;49m\u001b[43mwith_indices\u001b[49m\u001b[43m,\u001b[49m\n\u001b[1;32m    774\u001b[0m \u001b[43m            \u001b[49m\u001b[43mwith_rank\u001b[49m\u001b[38;5;241;43m=\u001b[39;49m\u001b[43mwith_rank\u001b[49m\u001b[43m,\u001b[49m\n\u001b[1;32m    775\u001b[0m \u001b[43m            \u001b[49m\u001b[43minput_columns\u001b[49m\u001b[38;5;241;43m=\u001b[39;49m\u001b[43minput_columns\u001b[49m\u001b[43m,\u001b[49m\n\u001b[1;32m    776\u001b[0m \u001b[43m            \u001b[49m\u001b[43mbatched\u001b[49m\u001b[38;5;241;43m=\u001b[39;49m\u001b[43mbatched\u001b[49m\u001b[43m,\u001b[49m\n\u001b[1;32m    777\u001b[0m \u001b[43m            \u001b[49m\u001b[43mbatch_size\u001b[49m\u001b[38;5;241;43m=\u001b[39;49m\u001b[43mbatch_size\u001b[49m\u001b[43m,\u001b[49m\n\u001b[1;32m    778\u001b[0m \u001b[43m            \u001b[49m\u001b[43mdrop_last_batch\u001b[49m\u001b[38;5;241;43m=\u001b[39;49m\u001b[43mdrop_last_batch\u001b[49m\u001b[43m,\u001b[49m\n\u001b[1;32m    779\u001b[0m \u001b[43m            \u001b[49m\u001b[43mremove_columns\u001b[49m\u001b[38;5;241;43m=\u001b[39;49m\u001b[43mremove_columns\u001b[49m\u001b[43m,\u001b[49m\n\u001b[1;32m    780\u001b[0m \u001b[43m            \u001b[49m\u001b[43mkeep_in_memory\u001b[49m\u001b[38;5;241;43m=\u001b[39;49m\u001b[43mkeep_in_memory\u001b[49m\u001b[43m,\u001b[49m\n\u001b[1;32m    781\u001b[0m \u001b[43m            \u001b[49m\u001b[43mload_from_cache_file\u001b[49m\u001b[38;5;241;43m=\u001b[39;49m\u001b[43mload_from_cache_file\u001b[49m\u001b[43m,\u001b[49m\n\u001b[1;32m    782\u001b[0m \u001b[43m            \u001b[49m\u001b[43mcache_file_name\u001b[49m\u001b[38;5;241;43m=\u001b[39;49m\u001b[43mcache_file_names\u001b[49m\u001b[43m[\u001b[49m\u001b[43mk\u001b[49m\u001b[43m]\u001b[49m\u001b[43m,\u001b[49m\n\u001b[1;32m    783\u001b[0m \u001b[43m            \u001b[49m\u001b[43mwriter_batch_size\u001b[49m\u001b[38;5;241;43m=\u001b[39;49m\u001b[43mwriter_batch_size\u001b[49m\u001b[43m,\u001b[49m\n\u001b[1;32m    784\u001b[0m \u001b[43m            \u001b[49m\u001b[43mfeatures\u001b[49m\u001b[38;5;241;43m=\u001b[39;49m\u001b[43mfeatures\u001b[49m\u001b[43m,\u001b[49m\n\u001b[1;32m    785\u001b[0m \u001b[43m            \u001b[49m\u001b[43mdisable_nullable\u001b[49m\u001b[38;5;241;43m=\u001b[39;49m\u001b[43mdisable_nullable\u001b[49m\u001b[43m,\u001b[49m\n\u001b[1;32m    786\u001b[0m \u001b[43m            \u001b[49m\u001b[43mfn_kwargs\u001b[49m\u001b[38;5;241;43m=\u001b[39;49m\u001b[43mfn_kwargs\u001b[49m\u001b[43m,\u001b[49m\n\u001b[1;32m    787\u001b[0m \u001b[43m            \u001b[49m\u001b[43mnum_proc\u001b[49m\u001b[38;5;241;43m=\u001b[39;49m\u001b[43mnum_proc\u001b[49m\u001b[43m,\u001b[49m\n\u001b[1;32m    788\u001b[0m \u001b[43m            \u001b[49m\u001b[43mdesc\u001b[49m\u001b[38;5;241;43m=\u001b[39;49m\u001b[43mdesc\u001b[49m\u001b[43m,\u001b[49m\n\u001b[1;32m    789\u001b[0m \u001b[43m        \u001b[49m\u001b[43m)\u001b[49m\n\u001b[1;32m    790\u001b[0m         \u001b[38;5;28;01mfor\u001b[39;00m k, dataset \u001b[38;5;129;01min\u001b[39;00m \u001b[38;5;28mself\u001b[39m\u001b[38;5;241m.\u001b[39mitems()\n\u001b[1;32m    791\u001b[0m     }\n\u001b[1;32m    792\u001b[0m )\n",
      "File \u001b[0;32m/usr/local/lib/python3.9/dist-packages/datasets/arrow_dataset.py:2387\u001b[0m, in \u001b[0;36mDataset.map\u001b[0;34m(self, function, with_indices, with_rank, input_columns, batched, batch_size, drop_last_batch, remove_columns, keep_in_memory, load_from_cache_file, cache_file_name, writer_batch_size, features, disable_nullable, fn_kwargs, num_proc, suffix_template, new_fingerprint, desc)\u001b[0m\n\u001b[1;32m   2384\u001b[0m disable_tqdm \u001b[38;5;241m=\u001b[39m \u001b[38;5;129;01mnot\u001b[39;00m logging\u001b[38;5;241m.\u001b[39mis_progress_bar_enabled()\n\u001b[1;32m   2386\u001b[0m \u001b[38;5;28;01mif\u001b[39;00m num_proc \u001b[38;5;129;01mis\u001b[39;00m \u001b[38;5;28;01mNone\u001b[39;00m \u001b[38;5;129;01mor\u001b[39;00m num_proc \u001b[38;5;241m==\u001b[39m \u001b[38;5;241m1\u001b[39m:\n\u001b[0;32m-> 2387\u001b[0m     \u001b[38;5;28;01mreturn\u001b[39;00m \u001b[38;5;28;43mself\u001b[39;49m\u001b[38;5;241;43m.\u001b[39;49m\u001b[43m_map_single\u001b[49m\u001b[43m(\u001b[49m\n\u001b[1;32m   2388\u001b[0m \u001b[43m        \u001b[49m\u001b[43mfunction\u001b[49m\u001b[38;5;241;43m=\u001b[39;49m\u001b[43mfunction\u001b[49m\u001b[43m,\u001b[49m\n\u001b[1;32m   2389\u001b[0m \u001b[43m        \u001b[49m\u001b[43mwith_indices\u001b[49m\u001b[38;5;241;43m=\u001b[39;49m\u001b[43mwith_indices\u001b[49m\u001b[43m,\u001b[49m\n\u001b[1;32m   2390\u001b[0m \u001b[43m        \u001b[49m\u001b[43mwith_rank\u001b[49m\u001b[38;5;241;43m=\u001b[39;49m\u001b[43mwith_rank\u001b[49m\u001b[43m,\u001b[49m\n\u001b[1;32m   2391\u001b[0m \u001b[43m        \u001b[49m\u001b[43minput_columns\u001b[49m\u001b[38;5;241;43m=\u001b[39;49m\u001b[43minput_columns\u001b[49m\u001b[43m,\u001b[49m\n\u001b[1;32m   2392\u001b[0m \u001b[43m        \u001b[49m\u001b[43mbatched\u001b[49m\u001b[38;5;241;43m=\u001b[39;49m\u001b[43mbatched\u001b[49m\u001b[43m,\u001b[49m\n\u001b[1;32m   2393\u001b[0m \u001b[43m        \u001b[49m\u001b[43mbatch_size\u001b[49m\u001b[38;5;241;43m=\u001b[39;49m\u001b[43mbatch_size\u001b[49m\u001b[43m,\u001b[49m\n\u001b[1;32m   2394\u001b[0m \u001b[43m        \u001b[49m\u001b[43mdrop_last_batch\u001b[49m\u001b[38;5;241;43m=\u001b[39;49m\u001b[43mdrop_last_batch\u001b[49m\u001b[43m,\u001b[49m\n\u001b[1;32m   2395\u001b[0m \u001b[43m        \u001b[49m\u001b[43mremove_columns\u001b[49m\u001b[38;5;241;43m=\u001b[39;49m\u001b[43mremove_columns\u001b[49m\u001b[43m,\u001b[49m\n\u001b[1;32m   2396\u001b[0m \u001b[43m        \u001b[49m\u001b[43mkeep_in_memory\u001b[49m\u001b[38;5;241;43m=\u001b[39;49m\u001b[43mkeep_in_memory\u001b[49m\u001b[43m,\u001b[49m\n\u001b[1;32m   2397\u001b[0m \u001b[43m        \u001b[49m\u001b[43mload_from_cache_file\u001b[49m\u001b[38;5;241;43m=\u001b[39;49m\u001b[43mload_from_cache_file\u001b[49m\u001b[43m,\u001b[49m\n\u001b[1;32m   2398\u001b[0m \u001b[43m        \u001b[49m\u001b[43mcache_file_name\u001b[49m\u001b[38;5;241;43m=\u001b[39;49m\u001b[43mcache_file_name\u001b[49m\u001b[43m,\u001b[49m\n\u001b[1;32m   2399\u001b[0m \u001b[43m        \u001b[49m\u001b[43mwriter_batch_size\u001b[49m\u001b[38;5;241;43m=\u001b[39;49m\u001b[43mwriter_batch_size\u001b[49m\u001b[43m,\u001b[49m\n\u001b[1;32m   2400\u001b[0m \u001b[43m        \u001b[49m\u001b[43mfeatures\u001b[49m\u001b[38;5;241;43m=\u001b[39;49m\u001b[43mfeatures\u001b[49m\u001b[43m,\u001b[49m\n\u001b[1;32m   2401\u001b[0m \u001b[43m        \u001b[49m\u001b[43mdisable_nullable\u001b[49m\u001b[38;5;241;43m=\u001b[39;49m\u001b[43mdisable_nullable\u001b[49m\u001b[43m,\u001b[49m\n\u001b[1;32m   2402\u001b[0m \u001b[43m        \u001b[49m\u001b[43mfn_kwargs\u001b[49m\u001b[38;5;241;43m=\u001b[39;49m\u001b[43mfn_kwargs\u001b[49m\u001b[43m,\u001b[49m\n\u001b[1;32m   2403\u001b[0m \u001b[43m        \u001b[49m\u001b[43mnew_fingerprint\u001b[49m\u001b[38;5;241;43m=\u001b[39;49m\u001b[43mnew_fingerprint\u001b[49m\u001b[43m,\u001b[49m\n\u001b[1;32m   2404\u001b[0m \u001b[43m        \u001b[49m\u001b[43mdisable_tqdm\u001b[49m\u001b[38;5;241;43m=\u001b[39;49m\u001b[43mdisable_tqdm\u001b[49m\u001b[43m,\u001b[49m\n\u001b[1;32m   2405\u001b[0m \u001b[43m        \u001b[49m\u001b[43mdesc\u001b[49m\u001b[38;5;241;43m=\u001b[39;49m\u001b[43mdesc\u001b[49m\u001b[43m,\u001b[49m\n\u001b[1;32m   2406\u001b[0m \u001b[43m    \u001b[49m\u001b[43m)\u001b[49m\n\u001b[1;32m   2407\u001b[0m \u001b[38;5;28;01melse\u001b[39;00m:\n\u001b[1;32m   2409\u001b[0m     \u001b[38;5;28;01mdef\u001b[39;00m \u001b[38;5;21mformat_cache_file_name\u001b[39m(cache_file_name, rank):\n",
      "File \u001b[0;32m/usr/local/lib/python3.9/dist-packages/datasets/arrow_dataset.py:557\u001b[0m, in \u001b[0;36mtransmit_tasks.<locals>.wrapper\u001b[0;34m(*args, **kwargs)\u001b[0m\n\u001b[1;32m    555\u001b[0m     \u001b[38;5;28mself\u001b[39m: \u001b[38;5;124m\"\u001b[39m\u001b[38;5;124mDataset\u001b[39m\u001b[38;5;124m\"\u001b[39m \u001b[38;5;241m=\u001b[39m kwargs\u001b[38;5;241m.\u001b[39mpop(\u001b[38;5;124m\"\u001b[39m\u001b[38;5;124mself\u001b[39m\u001b[38;5;124m\"\u001b[39m)\n\u001b[1;32m    556\u001b[0m \u001b[38;5;66;03m# apply actual function\u001b[39;00m\n\u001b[0;32m--> 557\u001b[0m out: Union[\u001b[38;5;124m\"\u001b[39m\u001b[38;5;124mDataset\u001b[39m\u001b[38;5;124m\"\u001b[39m, \u001b[38;5;124m\"\u001b[39m\u001b[38;5;124mDatasetDict\u001b[39m\u001b[38;5;124m\"\u001b[39m] \u001b[38;5;241m=\u001b[39m \u001b[43mfunc\u001b[49m\u001b[43m(\u001b[49m\u001b[38;5;28;43mself\u001b[39;49m\u001b[43m,\u001b[49m\u001b[43m \u001b[49m\u001b[38;5;241;43m*\u001b[39;49m\u001b[43margs\u001b[49m\u001b[43m,\u001b[49m\u001b[43m \u001b[49m\u001b[38;5;241;43m*\u001b[39;49m\u001b[38;5;241;43m*\u001b[39;49m\u001b[43mkwargs\u001b[49m\u001b[43m)\u001b[49m\n\u001b[1;32m    558\u001b[0m datasets: List[\u001b[38;5;124m\"\u001b[39m\u001b[38;5;124mDataset\u001b[39m\u001b[38;5;124m\"\u001b[39m] \u001b[38;5;241m=\u001b[39m \u001b[38;5;28mlist\u001b[39m(out\u001b[38;5;241m.\u001b[39mvalues()) \u001b[38;5;28;01mif\u001b[39;00m \u001b[38;5;28misinstance\u001b[39m(out, \u001b[38;5;28mdict\u001b[39m) \u001b[38;5;28;01melse\u001b[39;00m [out]\n\u001b[1;32m    559\u001b[0m \u001b[38;5;28;01mfor\u001b[39;00m dataset \u001b[38;5;129;01min\u001b[39;00m datasets:\n\u001b[1;32m    560\u001b[0m     \u001b[38;5;66;03m# Remove task templates if a column mapping of the template is no longer valid\u001b[39;00m\n",
      "File \u001b[0;32m/usr/local/lib/python3.9/dist-packages/datasets/arrow_dataset.py:524\u001b[0m, in \u001b[0;36mtransmit_format.<locals>.wrapper\u001b[0;34m(*args, **kwargs)\u001b[0m\n\u001b[1;32m    517\u001b[0m self_format \u001b[38;5;241m=\u001b[39m {\n\u001b[1;32m    518\u001b[0m     \u001b[38;5;124m\"\u001b[39m\u001b[38;5;124mtype\u001b[39m\u001b[38;5;124m\"\u001b[39m: \u001b[38;5;28mself\u001b[39m\u001b[38;5;241m.\u001b[39m_format_type,\n\u001b[1;32m    519\u001b[0m     \u001b[38;5;124m\"\u001b[39m\u001b[38;5;124mformat_kwargs\u001b[39m\u001b[38;5;124m\"\u001b[39m: \u001b[38;5;28mself\u001b[39m\u001b[38;5;241m.\u001b[39m_format_kwargs,\n\u001b[1;32m    520\u001b[0m     \u001b[38;5;124m\"\u001b[39m\u001b[38;5;124mcolumns\u001b[39m\u001b[38;5;124m\"\u001b[39m: \u001b[38;5;28mself\u001b[39m\u001b[38;5;241m.\u001b[39m_format_columns,\n\u001b[1;32m    521\u001b[0m     \u001b[38;5;124m\"\u001b[39m\u001b[38;5;124moutput_all_columns\u001b[39m\u001b[38;5;124m\"\u001b[39m: \u001b[38;5;28mself\u001b[39m\u001b[38;5;241m.\u001b[39m_output_all_columns,\n\u001b[1;32m    522\u001b[0m }\n\u001b[1;32m    523\u001b[0m \u001b[38;5;66;03m# apply actual function\u001b[39;00m\n\u001b[0;32m--> 524\u001b[0m out: Union[\u001b[38;5;124m\"\u001b[39m\u001b[38;5;124mDataset\u001b[39m\u001b[38;5;124m\"\u001b[39m, \u001b[38;5;124m\"\u001b[39m\u001b[38;5;124mDatasetDict\u001b[39m\u001b[38;5;124m\"\u001b[39m] \u001b[38;5;241m=\u001b[39m \u001b[43mfunc\u001b[49m\u001b[43m(\u001b[49m\u001b[38;5;28;43mself\u001b[39;49m\u001b[43m,\u001b[49m\u001b[43m \u001b[49m\u001b[38;5;241;43m*\u001b[39;49m\u001b[43margs\u001b[49m\u001b[43m,\u001b[49m\u001b[43m \u001b[49m\u001b[38;5;241;43m*\u001b[39;49m\u001b[38;5;241;43m*\u001b[39;49m\u001b[43mkwargs\u001b[49m\u001b[43m)\u001b[49m\n\u001b[1;32m    525\u001b[0m datasets: List[\u001b[38;5;124m\"\u001b[39m\u001b[38;5;124mDataset\u001b[39m\u001b[38;5;124m\"\u001b[39m] \u001b[38;5;241m=\u001b[39m \u001b[38;5;28mlist\u001b[39m(out\u001b[38;5;241m.\u001b[39mvalues()) \u001b[38;5;28;01mif\u001b[39;00m \u001b[38;5;28misinstance\u001b[39m(out, \u001b[38;5;28mdict\u001b[39m) \u001b[38;5;28;01melse\u001b[39;00m [out]\n\u001b[1;32m    526\u001b[0m \u001b[38;5;66;03m# re-apply format to the output\u001b[39;00m\n",
      "File \u001b[0;32m/usr/local/lib/python3.9/dist-packages/datasets/fingerprint.py:480\u001b[0m, in \u001b[0;36mfingerprint_transform.<locals>._fingerprint.<locals>.wrapper\u001b[0;34m(*args, **kwargs)\u001b[0m\n\u001b[1;32m    476\u001b[0m             validate_fingerprint(kwargs[fingerprint_name])\n\u001b[1;32m    478\u001b[0m \u001b[38;5;66;03m# Call actual function\u001b[39;00m\n\u001b[0;32m--> 480\u001b[0m out \u001b[38;5;241m=\u001b[39m \u001b[43mfunc\u001b[49m\u001b[43m(\u001b[49m\u001b[38;5;28;43mself\u001b[39;49m\u001b[43m,\u001b[49m\u001b[43m \u001b[49m\u001b[38;5;241;43m*\u001b[39;49m\u001b[43margs\u001b[49m\u001b[43m,\u001b[49m\u001b[43m \u001b[49m\u001b[38;5;241;43m*\u001b[39;49m\u001b[38;5;241;43m*\u001b[39;49m\u001b[43mkwargs\u001b[49m\u001b[43m)\u001b[49m\n\u001b[1;32m    482\u001b[0m \u001b[38;5;66;03m# Update fingerprint of in-place transforms + update in-place history of transforms\u001b[39;00m\n\u001b[1;32m    484\u001b[0m \u001b[38;5;28;01mif\u001b[39;00m inplace:  \u001b[38;5;66;03m# update after calling func so that the fingerprint doesn't change if the function fails\u001b[39;00m\n",
      "File \u001b[0;32m/usr/local/lib/python3.9/dist-packages/datasets/arrow_dataset.py:2792\u001b[0m, in \u001b[0;36mDataset._map_single\u001b[0;34m(self, function, with_indices, with_rank, input_columns, batched, batch_size, drop_last_batch, remove_columns, keep_in_memory, load_from_cache_file, cache_file_name, writer_batch_size, features, disable_nullable, fn_kwargs, new_fingerprint, rank, offset, disable_tqdm, desc, cache_only)\u001b[0m\n\u001b[1;32m   2790\u001b[0m                 writer\u001b[38;5;241m.\u001b[39mwrite_table(batch)\n\u001b[1;32m   2791\u001b[0m             \u001b[38;5;28;01melse\u001b[39;00m:\n\u001b[0;32m-> 2792\u001b[0m                 \u001b[43mwriter\u001b[49m\u001b[38;5;241;43m.\u001b[39;49m\u001b[43mwrite_batch\u001b[49m\u001b[43m(\u001b[49m\u001b[43mbatch\u001b[49m\u001b[43m)\u001b[49m\n\u001b[1;32m   2793\u001b[0m \u001b[38;5;28;01mif\u001b[39;00m update_data \u001b[38;5;129;01mand\u001b[39;00m writer \u001b[38;5;129;01mis\u001b[39;00m \u001b[38;5;129;01mnot\u001b[39;00m \u001b[38;5;28;01mNone\u001b[39;00m:\n\u001b[1;32m   2794\u001b[0m     writer\u001b[38;5;241m.\u001b[39mfinalize()  \u001b[38;5;66;03m# close_stream=bool(buf_writer is None))  # We only close if we are writing in a file\u001b[39;00m\n",
      "File \u001b[0;32m/usr/local/lib/python3.9/dist-packages/datasets/arrow_writer.py:511\u001b[0m, in \u001b[0;36mArrowWriter.write_batch\u001b[0;34m(self, batch_examples, writer_batch_size)\u001b[0m\n\u001b[1;32m    509\u001b[0m     inferred_features[col] \u001b[38;5;241m=\u001b[39m typed_sequence\u001b[38;5;241m.\u001b[39mget_inferred_type()\n\u001b[1;32m    510\u001b[0m schema \u001b[38;5;241m=\u001b[39m inferred_features\u001b[38;5;241m.\u001b[39marrow_schema \u001b[38;5;28;01mif\u001b[39;00m \u001b[38;5;28mself\u001b[39m\u001b[38;5;241m.\u001b[39mpa_writer \u001b[38;5;129;01mis\u001b[39;00m \u001b[38;5;28;01mNone\u001b[39;00m \u001b[38;5;28;01melse\u001b[39;00m \u001b[38;5;28mself\u001b[39m\u001b[38;5;241m.\u001b[39mschema\n\u001b[0;32m--> 511\u001b[0m pa_table \u001b[38;5;241m=\u001b[39m \u001b[43mpa\u001b[49m\u001b[38;5;241;43m.\u001b[39;49m\u001b[43mTable\u001b[49m\u001b[38;5;241;43m.\u001b[39;49m\u001b[43mfrom_arrays\u001b[49m\u001b[43m(\u001b[49m\u001b[43marrays\u001b[49m\u001b[43m,\u001b[49m\u001b[43m \u001b[49m\u001b[43mschema\u001b[49m\u001b[38;5;241;43m=\u001b[39;49m\u001b[43mschema\u001b[49m\u001b[43m)\u001b[49m\n\u001b[1;32m    512\u001b[0m \u001b[38;5;28mself\u001b[39m\u001b[38;5;241m.\u001b[39mwrite_table(pa_table, writer_batch_size)\n",
      "File \u001b[0;32m/usr/local/lib/python3.9/dist-packages/pyarrow/table.pxi:3592\u001b[0m, in \u001b[0;36mpyarrow.lib.Table.from_arrays\u001b[0;34m()\u001b[0m\n",
      "File \u001b[0;32m/usr/local/lib/python3.9/dist-packages/pyarrow/table.pxi:2785\u001b[0m, in \u001b[0;36mpyarrow.lib.Table.validate\u001b[0;34m()\u001b[0m\n",
      "File \u001b[0;32m/usr/local/lib/python3.9/dist-packages/pyarrow/error.pxi:100\u001b[0m, in \u001b[0;36mpyarrow.lib.check_status\u001b[0;34m()\u001b[0m\n",
      "\u001b[0;31mArrowInvalid\u001b[0m: Column 8 named input_ids expected length 1000 but got length 1463"
     ]
    }
   ],
   "source": [
    "tokenized_dataset = drug_dataset.map(tokenize_and_split, batched=True)"
   ]
  },
  {
   "cell_type": "code",
   "execution_count": 58,
   "id": "c9912d25-9e76-4782-b635-d56f9643beda",
   "metadata": {},
   "outputs": [
    {
     "data": {
      "application/vnd.jupyter.widget-view+json": {
       "model_id": "e67839cb469949ffa1d9af4c990f0a3b",
       "version_major": 2,
       "version_minor": 0
      },
      "text/plain": [
       "  0%|          | 0/139 [00:00<?, ?ba/s]"
      ]
     },
     "metadata": {},
     "output_type": "display_data"
    },
    {
     "data": {
      "application/vnd.jupyter.widget-view+json": {
       "model_id": "364fb7e0f19a409186bfa45e47ec8d81",
       "version_major": 2,
       "version_minor": 0
      },
      "text/plain": [
       "  0%|          | 0/47 [00:00<?, ?ba/s]"
      ]
     },
     "metadata": {},
     "output_type": "display_data"
    }
   ],
   "source": [
    "# error above as 1000 examples but 1463 sets of tokens, so remove old columns\n",
    "tokenized_dataset = drug_dataset.map(tokenize_and_split, batched=True, remove_columns=drug_dataset[\"train\"].column_names)"
   ]
  },
  {
   "cell_type": "code",
   "execution_count": 59,
   "id": "65b47833-08cf-42fe-9f21-f65f0f2676d7",
   "metadata": {},
   "outputs": [
    {
     "data": {
      "text/plain": [
       "(206772, 138514)"
      ]
     },
     "execution_count": 59,
     "metadata": {},
     "output_type": "execute_result"
    }
   ],
   "source": [
    "len(tokenized_dataset[\"train\"]), len(drug_dataset[\"train\"])"
   ]
  },
  {
   "cell_type": "code",
   "execution_count": 62,
   "id": "69c8fb08-b071-4b13-8b42-8b704bcad74b",
   "metadata": {},
   "outputs": [],
   "source": [
    "# alternatively to keep old columns use `overflow_to_sample_mapping` from tokenizer to generate new columns for the extra tokens that overflowed\n",
    "def tokenize_and_split(examples):\n",
    "    result = tokenizer(\n",
    "        examples[\"review\"],\n",
    "        truncation=True,\n",
    "        max_length=128,\n",
    "        return_overflowing_tokens=True,\n",
    "    )\n",
    "    # Extract mapping between new and old indices\n",
    "    sample_map = result.pop(\"overflow_to_sample_mapping\")\n",
    "    for key, values in examples.items():\n",
    "        result[key]=[values[i] for i in sample_map]\n",
    "    return result    \n",
    "    "
   ]
  },
  {
   "cell_type": "code",
   "execution_count": 63,
   "id": "cd845b7c-3148-4af4-84c1-7b1bf99a2c3d",
   "metadata": {},
   "outputs": [
    {
     "data": {
      "application/vnd.jupyter.widget-view+json": {
       "model_id": "90bd571c2d204e38992d8e64dd41402a",
       "version_major": 2,
       "version_minor": 0
      },
      "text/plain": [
       "  0%|          | 0/139 [00:00<?, ?ba/s]"
      ]
     },
     "metadata": {},
     "output_type": "display_data"
    },
    {
     "data": {
      "application/vnd.jupyter.widget-view+json": {
       "model_id": "1aeba7a1e5c443698928f79df6b44c3e",
       "version_major": 2,
       "version_minor": 0
      },
      "text/plain": [
       "  0%|          | 0/47 [00:00<?, ?ba/s]"
      ]
     },
     "metadata": {},
     "output_type": "display_data"
    },
    {
     "data": {
      "text/plain": [
       "DatasetDict({\n",
       "    train: Dataset({\n",
       "        features: ['patient_id', 'drugName', 'condition', 'review', 'rating', 'date', 'usefulCount', 'review_length', 'input_ids', 'token_type_ids', 'attention_mask'],\n",
       "        num_rows: 206772\n",
       "    })\n",
       "    test: Dataset({\n",
       "        features: ['patient_id', 'drugName', 'condition', 'review', 'rating', 'date', 'usefulCount', 'review_length', 'input_ids', 'token_type_ids', 'attention_mask'],\n",
       "        num_rows: 68876\n",
       "    })\n",
       "})"
      ]
     },
     "execution_count": 63,
     "metadata": {},
     "output_type": "execute_result"
    }
   ],
   "source": [
    "tokenized_dataset = drug_dataset.map(tokenize_and_split, batched=True)\n",
    "tokenized_dataset"
   ]
  },
  {
   "cell_type": "markdown",
   "id": "2685a21f-40e4-4659-a04c-0f11993a0d2c",
   "metadata": {},
   "source": [
    "## From `Datasets` to `DataFrames` and back"
   ]
  },
  {
   "cell_type": "code",
   "execution_count": 64,
   "id": "42091122-bc42-4911-aa02-733f0bb529c5",
   "metadata": {},
   "outputs": [],
   "source": [
    "drug_dataset.set_format(\"pandas\")"
   ]
  },
  {
   "cell_type": "code",
   "execution_count": 65,
   "id": "4beb4cf5-8031-444b-a442-3c138fe6c952",
   "metadata": {},
   "outputs": [
    {
     "data": {
      "text/html": [
       "<div>\n",
       "<style scoped>\n",
       "    .dataframe tbody tr th:only-of-type {\n",
       "        vertical-align: middle;\n",
       "    }\n",
       "\n",
       "    .dataframe tbody tr th {\n",
       "        vertical-align: top;\n",
       "    }\n",
       "\n",
       "    .dataframe thead th {\n",
       "        text-align: right;\n",
       "    }\n",
       "</style>\n",
       "<table border=\"1\" class=\"dataframe\">\n",
       "  <thead>\n",
       "    <tr style=\"text-align: right;\">\n",
       "      <th></th>\n",
       "      <th>patient_id</th>\n",
       "      <th>drugName</th>\n",
       "      <th>condition</th>\n",
       "      <th>review</th>\n",
       "      <th>rating</th>\n",
       "      <th>date</th>\n",
       "      <th>usefulCount</th>\n",
       "      <th>review_length</th>\n",
       "    </tr>\n",
       "  </thead>\n",
       "  <tbody>\n",
       "    <tr>\n",
       "      <th>0</th>\n",
       "      <td>95260</td>\n",
       "      <td>Guanfacine</td>\n",
       "      <td>adhd</td>\n",
       "      <td>\"My son is halfway through his fourth week of ...</td>\n",
       "      <td>8.0</td>\n",
       "      <td>April 27, 2010</td>\n",
       "      <td>192</td>\n",
       "      <td>141</td>\n",
       "    </tr>\n",
       "    <tr>\n",
       "      <th>1</th>\n",
       "      <td>92703</td>\n",
       "      <td>Lybrel</td>\n",
       "      <td>birth control</td>\n",
       "      <td>\"I used to take another oral contraceptive, wh...</td>\n",
       "      <td>5.0</td>\n",
       "      <td>December 14, 2009</td>\n",
       "      <td>17</td>\n",
       "      <td>134</td>\n",
       "    </tr>\n",
       "    <tr>\n",
       "      <th>2</th>\n",
       "      <td>138000</td>\n",
       "      <td>Ortho Evra</td>\n",
       "      <td>birth control</td>\n",
       "      <td>\"This is my first time using any form of birth...</td>\n",
       "      <td>8.0</td>\n",
       "      <td>November 3, 2015</td>\n",
       "      <td>10</td>\n",
       "      <td>89</td>\n",
       "    </tr>\n",
       "  </tbody>\n",
       "</table>\n",
       "</div>"
      ],
      "text/plain": [
       "   patient_id    drugName      condition  \\\n",
       "0       95260  Guanfacine           adhd   \n",
       "1       92703      Lybrel  birth control   \n",
       "2      138000  Ortho Evra  birth control   \n",
       "\n",
       "                                              review  rating  \\\n",
       "0  \"My son is halfway through his fourth week of ...     8.0   \n",
       "1  \"I used to take another oral contraceptive, wh...     5.0   \n",
       "2  \"This is my first time using any form of birth...     8.0   \n",
       "\n",
       "                date  usefulCount  review_length  \n",
       "0     April 27, 2010          192            141  \n",
       "1  December 14, 2009           17            134  \n",
       "2   November 3, 2015           10             89  "
      ]
     },
     "execution_count": 65,
     "metadata": {},
     "output_type": "execute_result"
    }
   ],
   "source": [
    "drug_dataset[\"train\"][:3]"
   ]
  },
  {
   "cell_type": "code",
   "execution_count": 66,
   "id": "5a93764b-d929-4246-8e47-c52df5ca9776",
   "metadata": {},
   "outputs": [
    {
     "data": {
      "text/html": [
       "<div>\n",
       "<style scoped>\n",
       "    .dataframe tbody tr th:only-of-type {\n",
       "        vertical-align: middle;\n",
       "    }\n",
       "\n",
       "    .dataframe tbody tr th {\n",
       "        vertical-align: top;\n",
       "    }\n",
       "\n",
       "    .dataframe thead th {\n",
       "        text-align: right;\n",
       "    }\n",
       "</style>\n",
       "<table border=\"1\" class=\"dataframe\">\n",
       "  <thead>\n",
       "    <tr style=\"text-align: right;\">\n",
       "      <th></th>\n",
       "      <th>patient_id</th>\n",
       "      <th>drugName</th>\n",
       "      <th>condition</th>\n",
       "      <th>review</th>\n",
       "      <th>rating</th>\n",
       "      <th>date</th>\n",
       "      <th>usefulCount</th>\n",
       "      <th>review_length</th>\n",
       "    </tr>\n",
       "  </thead>\n",
       "  <tbody>\n",
       "    <tr>\n",
       "      <th>0</th>\n",
       "      <td>95260</td>\n",
       "      <td>Guanfacine</td>\n",
       "      <td>adhd</td>\n",
       "      <td>\"My son is halfway through his fourth week of ...</td>\n",
       "      <td>8.0</td>\n",
       "      <td>April 27, 2010</td>\n",
       "      <td>192</td>\n",
       "      <td>141</td>\n",
       "    </tr>\n",
       "    <tr>\n",
       "      <th>1</th>\n",
       "      <td>92703</td>\n",
       "      <td>Lybrel</td>\n",
       "      <td>birth control</td>\n",
       "      <td>\"I used to take another oral contraceptive, wh...</td>\n",
       "      <td>5.0</td>\n",
       "      <td>December 14, 2009</td>\n",
       "      <td>17</td>\n",
       "      <td>134</td>\n",
       "    </tr>\n",
       "    <tr>\n",
       "      <th>2</th>\n",
       "      <td>138000</td>\n",
       "      <td>Ortho Evra</td>\n",
       "      <td>birth control</td>\n",
       "      <td>\"This is my first time using any form of birth...</td>\n",
       "      <td>8.0</td>\n",
       "      <td>November 3, 2015</td>\n",
       "      <td>10</td>\n",
       "      <td>89</td>\n",
       "    </tr>\n",
       "    <tr>\n",
       "      <th>3</th>\n",
       "      <td>35696</td>\n",
       "      <td>Buprenorphine / naloxone</td>\n",
       "      <td>opiate dependence</td>\n",
       "      <td>\"Suboxone has completely turned my life around...</td>\n",
       "      <td>9.0</td>\n",
       "      <td>November 27, 2016</td>\n",
       "      <td>37</td>\n",
       "      <td>124</td>\n",
       "    </tr>\n",
       "    <tr>\n",
       "      <th>4</th>\n",
       "      <td>155963</td>\n",
       "      <td>Cialis</td>\n",
       "      <td>benign prostatic hyperplasia</td>\n",
       "      <td>\"2nd day on 5mg started to work with rock hard...</td>\n",
       "      <td>2.0</td>\n",
       "      <td>November 28, 2015</td>\n",
       "      <td>43</td>\n",
       "      <td>68</td>\n",
       "    </tr>\n",
       "  </tbody>\n",
       "</table>\n",
       "</div>"
      ],
      "text/plain": [
       "   patient_id                  drugName                     condition  \\\n",
       "0       95260                Guanfacine                          adhd   \n",
       "1       92703                    Lybrel                 birth control   \n",
       "2      138000                Ortho Evra                 birth control   \n",
       "3       35696  Buprenorphine / naloxone             opiate dependence   \n",
       "4      155963                    Cialis  benign prostatic hyperplasia   \n",
       "\n",
       "                                              review  rating  \\\n",
       "0  \"My son is halfway through his fourth week of ...     8.0   \n",
       "1  \"I used to take another oral contraceptive, wh...     5.0   \n",
       "2  \"This is my first time using any form of birth...     8.0   \n",
       "3  \"Suboxone has completely turned my life around...     9.0   \n",
       "4  \"2nd day on 5mg started to work with rock hard...     2.0   \n",
       "\n",
       "                date  usefulCount  review_length  \n",
       "0     April 27, 2010          192            141  \n",
       "1  December 14, 2009           17            134  \n",
       "2   November 3, 2015           10             89  \n",
       "3  November 27, 2016           37            124  \n",
       "4  November 28, 2015           43             68  "
      ]
     },
     "execution_count": 66,
     "metadata": {},
     "output_type": "execute_result"
    }
   ],
   "source": [
    "train_df = drug_dataset[\"train\"][:]\n",
    "train_df.head()"
   ]
  },
  {
   "cell_type": "code",
   "execution_count": 67,
   "id": "589b4add-48a2-4952-b0d9-fe7ce8743f15",
   "metadata": {},
   "outputs": [
    {
     "data": {
      "text/html": [
       "<div>\n",
       "<style scoped>\n",
       "    .dataframe tbody tr th:only-of-type {\n",
       "        vertical-align: middle;\n",
       "    }\n",
       "\n",
       "    .dataframe tbody tr th {\n",
       "        vertical-align: top;\n",
       "    }\n",
       "\n",
       "    .dataframe thead th {\n",
       "        text-align: right;\n",
       "    }\n",
       "</style>\n",
       "<table border=\"1\" class=\"dataframe\">\n",
       "  <thead>\n",
       "    <tr style=\"text-align: right;\">\n",
       "      <th></th>\n",
       "      <th>condition</th>\n",
       "      <th>frequency</th>\n",
       "    </tr>\n",
       "  </thead>\n",
       "  <tbody>\n",
       "    <tr>\n",
       "      <th>0</th>\n",
       "      <td>birth control</td>\n",
       "      <td>27655</td>\n",
       "    </tr>\n",
       "    <tr>\n",
       "      <th>1</th>\n",
       "      <td>depression</td>\n",
       "      <td>8023</td>\n",
       "    </tr>\n",
       "    <tr>\n",
       "      <th>2</th>\n",
       "      <td>acne</td>\n",
       "      <td>5209</td>\n",
       "    </tr>\n",
       "    <tr>\n",
       "      <th>3</th>\n",
       "      <td>anxiety</td>\n",
       "      <td>4991</td>\n",
       "    </tr>\n",
       "    <tr>\n",
       "      <th>4</th>\n",
       "      <td>pain</td>\n",
       "      <td>4744</td>\n",
       "    </tr>\n",
       "  </tbody>\n",
       "</table>\n",
       "</div>"
      ],
      "text/plain": [
       "       condition  frequency\n",
       "0  birth control      27655\n",
       "1     depression       8023\n",
       "2           acne       5209\n",
       "3        anxiety       4991\n",
       "4           pain       4744"
      ]
     },
     "execution_count": 67,
     "metadata": {},
     "output_type": "execute_result"
    }
   ],
   "source": [
    "frequencies = (train_df[\"condition\"].value_counts().to_frame().reset_index().rename(columns={\"index\":\"condition\", \"condition\":\"frequency\"}))\n",
    "frequencies.head()"
   ]
  },
  {
   "cell_type": "code",
   "execution_count": 69,
   "id": "fc96938c-f361-42c4-a275-a788bcd1d5f4",
   "metadata": {},
   "outputs": [
    {
     "data": {
      "text/plain": [
       "Dataset({\n",
       "    features: ['condition', 'frequency'],\n",
       "    num_rows: 819\n",
       "})"
      ]
     },
     "execution_count": 69,
     "metadata": {},
     "output_type": "execute_result"
    }
   ],
   "source": [
    "from datasets import Dataset\n",
    "freq_dataset = Dataset.from_pandas(frequencies)\n",
    "freq_dataset"
   ]
  },
  {
   "cell_type": "code",
   "execution_count": 84,
   "id": "cb4aaf36-5e2a-4b95-81a1-4f21fd8caf98",
   "metadata": {},
   "outputs": [
    {
     "data": {
      "text/html": [
       "<div>\n",
       "<style scoped>\n",
       "    .dataframe tbody tr th:only-of-type {\n",
       "        vertical-align: middle;\n",
       "    }\n",
       "\n",
       "    .dataframe tbody tr th {\n",
       "        vertical-align: top;\n",
       "    }\n",
       "\n",
       "    .dataframe thead th {\n",
       "        text-align: right;\n",
       "    }\n",
       "</style>\n",
       "<table border=\"1\" class=\"dataframe\">\n",
       "  <thead>\n",
       "    <tr style=\"text-align: right;\">\n",
       "      <th></th>\n",
       "      <th>rating</th>\n",
       "    </tr>\n",
       "    <tr>\n",
       "      <th>drugName</th>\n",
       "      <th></th>\n",
       "    </tr>\n",
       "  </thead>\n",
       "  <tbody>\n",
       "    <tr>\n",
       "      <th>A + D Cracked Skin Relief</th>\n",
       "      <td>10.000000</td>\n",
       "    </tr>\n",
       "    <tr>\n",
       "      <th>A / B Otic</th>\n",
       "      <td>10.000000</td>\n",
       "    </tr>\n",
       "    <tr>\n",
       "      <th>Abacavir / dolutegravir / lamivudine</th>\n",
       "      <td>7.953488</td>\n",
       "    </tr>\n",
       "    <tr>\n",
       "      <th>Abacavir / lamivudine / zidovudine</th>\n",
       "      <td>9.000000</td>\n",
       "    </tr>\n",
       "    <tr>\n",
       "      <th>Abatacept</th>\n",
       "      <td>7.312500</td>\n",
       "    </tr>\n",
       "  </tbody>\n",
       "</table>\n",
       "</div>"
      ],
      "text/plain": [
       "                                         rating\n",
       "drugName                                       \n",
       "A + D Cracked Skin Relief             10.000000\n",
       "A / B Otic                            10.000000\n",
       "Abacavir / dolutegravir / lamivudine   7.953488\n",
       "Abacavir / lamivudine / zidovudine     9.000000\n",
       "Abatacept                              7.312500"
      ]
     },
     "execution_count": 84,
     "metadata": {},
     "output_type": "execute_result"
    }
   ],
   "source": [
    "avg_rating_df = train_df[[\"drugName\",\"rating\"]].groupby(train_df[\"drugName\"]).agg({\"rating\":\"mean\"})\n",
    "\n",
    "avg_rating_df.head()"
   ]
  },
  {
   "cell_type": "code",
   "execution_count": 85,
   "id": "0365bfb5-1e04-45a9-a6a0-2195830da5de",
   "metadata": {},
   "outputs": [
    {
     "data": {
      "text/plain": [
       "Dataset({\n",
       "    features: ['rating', 'drugName'],\n",
       "    num_rows: 3052\n",
       "})"
      ]
     },
     "execution_count": 85,
     "metadata": {},
     "output_type": "execute_result"
    }
   ],
   "source": [
    "avg_rating_dataset = Dataset.from_pandas(avg_rating_df)\n",
    "avg_rating_dataset"
   ]
  },
  {
   "cell_type": "code",
   "execution_count": 90,
   "id": "2ffc17b7-b9d1-4de6-bfb7-23aba9b53c2c",
   "metadata": {},
   "outputs": [],
   "source": [
    "drug_dataset.reset_format()"
   ]
  },
  {
   "cell_type": "markdown",
   "id": "0ad05716-9037-4941-a5ce-9da2f100874c",
   "metadata": {},
   "source": [
    "## Creating a validation set"
   ]
  },
  {
   "cell_type": "code",
   "execution_count": 91,
   "id": "8b97524c-6664-4152-b1c6-e53c6740a959",
   "metadata": {},
   "outputs": [],
   "source": [
    "drug_dataset_clean = drug_dataset[\"train\"].train_test_split(train_size=0.8, seed=42)"
   ]
  },
  {
   "cell_type": "code",
   "execution_count": 92,
   "id": "6405cbf2-7702-4c4f-853f-9b0b1d7b3eea",
   "metadata": {},
   "outputs": [],
   "source": [
    "drug_dataset_clean[\"validation\"] = drug_dataset_clean.pop(\"test\")"
   ]
  },
  {
   "cell_type": "code",
   "execution_count": 93,
   "id": "b0f60dcc-cc74-47f1-9dbe-76b25abfbc17",
   "metadata": {},
   "outputs": [
    {
     "data": {
      "text/plain": [
       "DatasetDict({\n",
       "    train: Dataset({\n",
       "        features: ['patient_id', 'drugName', 'condition', 'review', 'rating', 'date', 'usefulCount', 'review_length'],\n",
       "        num_rows: 110811\n",
       "    })\n",
       "    validation: Dataset({\n",
       "        features: ['patient_id', 'drugName', 'condition', 'review', 'rating', 'date', 'usefulCount', 'review_length'],\n",
       "        num_rows: 27703\n",
       "    })\n",
       "    test: Dataset({\n",
       "        features: ['patient_id', 'drugName', 'condition', 'review', 'rating', 'date', 'usefulCount', 'review_length'],\n",
       "        num_rows: 46108\n",
       "    })\n",
       "})"
      ]
     },
     "execution_count": 93,
     "metadata": {},
     "output_type": "execute_result"
    }
   ],
   "source": [
    "drug_dataset_clean[\"test\"] = drug_dataset[\"test\"]\n",
    "drug_dataset_clean\n",
    "                   "
   ]
  },
  {
   "cell_type": "markdown",
   "id": "d9e69243-52c4-4cac-8311-cb4f81a31231",
   "metadata": {},
   "source": [
    "## Saving a dataset"
   ]
  },
  {
   "cell_type": "code",
   "execution_count": 94,
   "id": "1c75151e-5056-4842-94da-8aa8d3fb61a1",
   "metadata": {},
   "outputs": [
    {
     "data": {
      "application/vnd.jupyter.widget-view+json": {
       "model_id": "93470c93ca6f4250b693335b7e27e641",
       "version_major": 2,
       "version_minor": 0
      },
      "text/plain": [
       "Flattening the indices:   0%|          | 0/111 [00:00<?, ?ba/s]"
      ]
     },
     "metadata": {},
     "output_type": "display_data"
    },
    {
     "data": {
      "application/vnd.jupyter.widget-view+json": {
       "model_id": "08fe0016b750403db7c436fd98923fdd",
       "version_major": 2,
       "version_minor": 0
      },
      "text/plain": [
       "Flattening the indices:   0%|          | 0/28 [00:00<?, ?ba/s]"
      ]
     },
     "metadata": {},
     "output_type": "display_data"
    }
   ],
   "source": [
    "drug_dataset_clean.save_to_disk(\"drug-reviews\")"
   ]
  },
  {
   "cell_type": "code",
   "execution_count": 95,
   "id": "d8936af3-49bd-4dcc-a026-42470c12f3d9",
   "metadata": {},
   "outputs": [
    {
     "data": {
      "text/plain": [
       "DatasetDict({\n",
       "    train: Dataset({\n",
       "        features: ['patient_id', 'drugName', 'condition', 'review', 'rating', 'date', 'usefulCount', 'review_length'],\n",
       "        num_rows: 110811\n",
       "    })\n",
       "    validation: Dataset({\n",
       "        features: ['patient_id', 'drugName', 'condition', 'review', 'rating', 'date', 'usefulCount', 'review_length'],\n",
       "        num_rows: 27703\n",
       "    })\n",
       "    test: Dataset({\n",
       "        features: ['patient_id', 'drugName', 'condition', 'review', 'rating', 'date', 'usefulCount', 'review_length'],\n",
       "        num_rows: 46108\n",
       "    })\n",
       "})"
      ]
     },
     "execution_count": 95,
     "metadata": {},
     "output_type": "execute_result"
    }
   ],
   "source": [
    "from datasets import load_from_disk\n",
    "drug_dataset_reloaded = load_from_disk(\"drug-reviews\")\n",
    "drug_dataset_reloaded"
   ]
  },
  {
   "cell_type": "code",
   "execution_count": 96,
   "id": "a00cb3c2-08ed-4ed1-af81-6d78bbc23695",
   "metadata": {},
   "outputs": [
    {
     "data": {
      "application/vnd.jupyter.widget-view+json": {
       "model_id": "c4afaffaa65440b5803f05f10c4f6c90",
       "version_major": 2,
       "version_minor": 0
      },
      "text/plain": [
       "Creating json from Arrow format:   0%|          | 0/12 [00:00<?, ?ba/s]"
      ]
     },
     "metadata": {},
     "output_type": "display_data"
    },
    {
     "data": {
      "application/vnd.jupyter.widget-view+json": {
       "model_id": "05c71b75175c4326a18902e591b54eae",
       "version_major": 2,
       "version_minor": 0
      },
      "text/plain": [
       "Creating json from Arrow format:   0%|          | 0/3 [00:00<?, ?ba/s]"
      ]
     },
     "metadata": {},
     "output_type": "display_data"
    },
    {
     "data": {
      "application/vnd.jupyter.widget-view+json": {
       "model_id": "fe7b6fb73fc4464da82d97ff69dbc49a",
       "version_major": 2,
       "version_minor": 0
      },
      "text/plain": [
       "Creating json from Arrow format:   0%|          | 0/5 [00:00<?, ?ba/s]"
      ]
     },
     "metadata": {},
     "output_type": "display_data"
    }
   ],
   "source": [
    "for split, dataset in drug_dataset_clean.items():\n",
    "    dataset.to_json(f\"drug-reviews-{split}.jsonl\")"
   ]
  },
  {
   "cell_type": "code",
   "execution_count": 97,
   "id": "f92852ca-87a2-43c2-a789-b02944fbd64a",
   "metadata": {},
   "outputs": [
    {
     "name": "stdout",
     "output_type": "stream",
     "text": [
      "huggingface/tokenizers: The current process just got forked, after parallelism has already been used. Disabling parallelism to avoid deadlocks...\n",
      "To disable this warning, you can either:\n",
      "\t- Avoid using `tokenizers` before the fork if possible\n",
      "\t- Explicitly set the environment variable TOKENIZERS_PARALLELISM=(true | false)\n",
      "{\"patient_id\":89879,\"drugName\":\"Cyclosporine\",\"condition\":\"keratoconjunctivitis sicca\",\"review\":\"\\\"I have used Restasis for about a year now and have seen almost no progress.  For most of my life I've had red and bothersome eyes. After trying various eye drops, my doctor recommended Restasis.  He said it typically takes 3 to 6 months for it to really kick in but it never did kick in.  When I put the drops in it burns my eyes for the first 30 - 40 minutes.  I've talked with my doctor about this and he said it is normal but should go away after some time, but it hasn't. Every year around spring time my eyes get terrible irritated  and this year has been the same (maybe even worse than other years) even though I've been using Restasis for a year now. The only difference I notice was for the first couple weeks, but now I'm ready to move on.\\\"\",\"rating\":2.0,\"date\":\"April 20, 2013\",\"usefulCount\":69,\"review_length\":147}\n"
     ]
    }
   ],
   "source": [
    "!head -n 1 drug-reviews-train.jsonl"
   ]
  },
  {
   "cell_type": "code",
   "execution_count": 98,
   "id": "163f5025-b087-4db4-ab27-c078b7ead065",
   "metadata": {},
   "outputs": [
    {
     "name": "stderr",
     "output_type": "stream",
     "text": [
      "Using custom data configuration default-d6a3247b129776b0\n"
     ]
    },
    {
     "name": "stdout",
     "output_type": "stream",
     "text": [
      "Downloading and preparing dataset json/default to /root/.cache/huggingface/datasets/json/default-d6a3247b129776b0/0.0.0/a3e658c4731e59120d44081ac10bf85dc7e1388126b92338344ce9661907f253...\n"
     ]
    },
    {
     "data": {
      "application/vnd.jupyter.widget-view+json": {
       "model_id": "9df72032dc6642959b959c8a346a8dd4",
       "version_major": 2,
       "version_minor": 0
      },
      "text/plain": [
       "Downloading data files:   0%|          | 0/3 [00:00<?, ?it/s]"
      ]
     },
     "metadata": {},
     "output_type": "display_data"
    },
    {
     "data": {
      "application/vnd.jupyter.widget-view+json": {
       "model_id": "bcdb574ce4e947dbbf220f293c3a052c",
       "version_major": 2,
       "version_minor": 0
      },
      "text/plain": [
       "Extracting data files:   0%|          | 0/3 [00:00<?, ?it/s]"
      ]
     },
     "metadata": {},
     "output_type": "display_data"
    },
    {
     "data": {
      "application/vnd.jupyter.widget-view+json": {
       "model_id": "",
       "version_major": 2,
       "version_minor": 0
      },
      "text/plain": [
       "0 tables [00:00, ? tables/s]"
      ]
     },
     "metadata": {},
     "output_type": "display_data"
    },
    {
     "data": {
      "application/vnd.jupyter.widget-view+json": {
       "model_id": "",
       "version_major": 2,
       "version_minor": 0
      },
      "text/plain": [
       "0 tables [00:00, ? tables/s]"
      ]
     },
     "metadata": {},
     "output_type": "display_data"
    },
    {
     "data": {
      "application/vnd.jupyter.widget-view+json": {
       "model_id": "",
       "version_major": 2,
       "version_minor": 0
      },
      "text/plain": [
       "0 tables [00:00, ? tables/s]"
      ]
     },
     "metadata": {},
     "output_type": "display_data"
    },
    {
     "name": "stdout",
     "output_type": "stream",
     "text": [
      "Dataset json downloaded and prepared to /root/.cache/huggingface/datasets/json/default-d6a3247b129776b0/0.0.0/a3e658c4731e59120d44081ac10bf85dc7e1388126b92338344ce9661907f253. Subsequent calls will reuse this data.\n"
     ]
    },
    {
     "data": {
      "application/vnd.jupyter.widget-view+json": {
       "model_id": "87238445ad3e4678bd27ea4a40054c7a",
       "version_major": 2,
       "version_minor": 0
      },
      "text/plain": [
       "  0%|          | 0/3 [00:00<?, ?it/s]"
      ]
     },
     "metadata": {},
     "output_type": "display_data"
    }
   ],
   "source": [
    "data_files = {\n",
    "    \"train\": \"drug-reviews-train.jsonl\",\n",
    "    \"validation\": \"drug-reviews-validation.jsonl\",\n",
    "    \"test\": \"drug-reviews-test.jsonl\",\n",
    "}\n",
    "drug_dataset_reloaded = load_dataset(\"json\", data_files=data_files)"
   ]
  },
  {
   "cell_type": "code",
   "execution_count": null,
   "id": "2c8bea9e-2e4e-48eb-acdf-6436ec7503cb",
   "metadata": {},
   "outputs": [],
   "source": []
  }
 ],
 "metadata": {
  "kernelspec": {
   "display_name": "Python 3 (ipykernel)",
   "language": "python",
   "name": "python3"
  },
  "language_info": {
   "codemirror_mode": {
    "name": "ipython",
    "version": 3
   },
   "file_extension": ".py",
   "mimetype": "text/x-python",
   "name": "python",
   "nbconvert_exporter": "python",
   "pygments_lexer": "ipython3",
   "version": "3.9.16"
  }
 },
 "nbformat": 4,
 "nbformat_minor": 5
}
