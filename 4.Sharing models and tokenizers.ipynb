{
 "cells": [
  {
   "cell_type": "markdown",
   "id": "c85f0c37-577e-4c22-bdb8-9cf2511a1496",
   "metadata": {},
   "source": [
    "# Using pretrained models"
   ]
  },
  {
   "cell_type": "markdown",
   "id": "ea7801e6-19ab-4e5e-a083-5c91a161043c",
   "metadata": {},
   "source": [
    "### pipeline api"
   ]
  },
  {
   "cell_type": "code",
   "execution_count": null,
   "id": "20d45610-3bae-4a1f-98d9-c4fbbe44ed42",
   "metadata": {},
   "outputs": [],
   "source": [
    "from transformers import pipeline\n",
    "camembert_fill_mask = pipeline(\"fill-mask\", model=\"camembert-base\")\n"
   ]
  },
  {
   "cell_type": "code",
   "execution_count": null,
   "id": "5cfc653b-8a80-4581-a580-d990c31dc413",
   "metadata": {},
   "outputs": [],
   "source": [
    "results = camembert_fill_mask(\"Le camembert est <mask> :)\")\n",
    "print(results)"
   ]
  },
  {
   "cell_type": "markdown",
   "id": "bd37b618-6496-43cb-a0ee-f82c3c381805",
   "metadata": {},
   "source": [
    "### Model Architecture"
   ]
  },
  {
   "cell_type": "code",
   "execution_count": null,
   "id": "102bcb2e-f0b1-4309-a566-be0a68c5d1f2",
   "metadata": {},
   "outputs": [],
   "source": [
    "from transformers import CamembertTokenizer, CamembertForMaskedLM\n",
    "tokenizer = CamembertTokenizer.from_pretrained(\"camembert-base\")\n",
    "model = CamembertForMaskedLM.from_pretrained(\"camembert-base\")"
   ]
  },
  {
   "cell_type": "markdown",
   "id": "22a83ea7-df79-491e-8140-3333e580c59a",
   "metadata": {},
   "source": [
    "### Auto* classes (recommended)"
   ]
  },
  {
   "cell_type": "code",
   "execution_count": null,
   "id": "ddf70eb4-5ba7-4018-9635-8b46ca2ab9fb",
   "metadata": {},
   "outputs": [],
   "source": [
    "from transformers import AutoTokenizer, AutoModelForMaskedLM\n",
    "tokenizer = AutoTokenizer.from_pretrained(\"camembert-base\")\n",
    "model = AutoModelForMaskedLM.from_pretrained(\"camembert-base\")"
   ]
  },
  {
   "cell_type": "markdown",
   "id": "19f44697-4472-4493-8c7b-758dcfcdcbe6",
   "metadata": {},
   "source": [
    "# Sharing pretrained models"
   ]
  },
  {
   "cell_type": "markdown",
   "id": "dbb9288b-7631-4767-9334-53b23b0722c3",
   "metadata": {},
   "source": [
    "## Using the push_to_hub API"
   ]
  },
  {
   "cell_type": "code",
   "execution_count": null,
   "id": "1fbfdf92-6a2f-42be-930d-6409923a72f6",
   "metadata": {},
   "outputs": [],
   "source": [
    "!pip install -U huggingface_hub transformers"
   ]
  },
  {
   "cell_type": "code",
   "execution_count": 2,
   "id": "1d6e3508-16ab-4c97-9b8b-3bf7fe28fc67",
   "metadata": {},
   "outputs": [
    {
     "data": {
      "application/vnd.jupyter.widget-view+json": {
       "model_id": "ac08eb42b2d04cc0878e08fd10f95b25",
       "version_major": 2,
       "version_minor": 0
      },
      "text/plain": [
       "VBox(children=(HTML(value='<center> <img\\nsrc=https://huggingface.co/front/assets/huggingface_logo-noborder.sv…"
      ]
     },
     "metadata": {},
     "output_type": "display_data"
    }
   ],
   "source": [
    "from huggingface_hub import notebook_login\n",
    "notebook_login()"
   ]
  },
  {
   "cell_type": "code",
   "execution_count": 3,
   "id": "f8815d95-6236-4b31-93f4-9227773971db",
   "metadata": {},
   "outputs": [
    {
     "data": {
      "application/vnd.jupyter.widget-view+json": {
       "model_id": "215001c643f044e9a9ee7f9d4383ca6b",
       "version_major": 2,
       "version_minor": 0
      },
      "text/plain": [
       "Downloading (…)lve/main/config.json:   0%|          | 0.00/508 [00:00<?, ?B/s]"
      ]
     },
     "metadata": {},
     "output_type": "display_data"
    },
    {
     "data": {
      "application/vnd.jupyter.widget-view+json": {
       "model_id": "b80704f7322c4fcd8cff8fb8f8472743",
       "version_major": 2,
       "version_minor": 0
      },
      "text/plain": [
       "Downloading model.safetensors:   0%|          | 0.00/445M [00:00<?, ?B/s]"
      ]
     },
     "metadata": {},
     "output_type": "display_data"
    },
    {
     "name": "stderr",
     "output_type": "stream",
     "text": [
      "Some weights of the model checkpoint at camembert-base were not used when initializing CamembertForMaskedLM: ['roberta.pooler.dense.bias', 'roberta.pooler.dense.weight']\n",
      "- This IS expected if you are initializing CamembertForMaskedLM from the checkpoint of a model trained on another task or with another architecture (e.g. initializing a BertForSequenceClassification model from a BertForPreTraining model).\n",
      "- This IS NOT expected if you are initializing CamembertForMaskedLM from the checkpoint of a model that you expect to be exactly identical (initializing a BertForSequenceClassification model from a BertForSequenceClassification model).\n"
     ]
    },
    {
     "data": {
      "application/vnd.jupyter.widget-view+json": {
       "model_id": "229687044d174e938c080f45155255bd",
       "version_major": 2,
       "version_minor": 0
      },
      "text/plain": [
       "Downloading (…)tencepiece.bpe.model:   0%|          | 0.00/811k [00:00<?, ?B/s]"
      ]
     },
     "metadata": {},
     "output_type": "display_data"
    },
    {
     "data": {
      "application/vnd.jupyter.widget-view+json": {
       "model_id": "7a1caa86829948f193695a8c0ec77065",
       "version_major": 2,
       "version_minor": 0
      },
      "text/plain": [
       "Downloading (…)/main/tokenizer.json:   0%|          | 0.00/1.40M [00:00<?, ?B/s]"
      ]
     },
     "metadata": {},
     "output_type": "display_data"
    }
   ],
   "source": [
    "from transformers import AutoModelForMaskedLM, AutoTokenizer\n",
    "\n",
    "checkpoint = \"camembert-base\"\n",
    "\n",
    "model = AutoModelForMaskedLM.from_pretrained(checkpoint)\n",
    "tokenizer = AutoTokenizer.from_pretrained(checkpoint)"
   ]
  },
  {
   "cell_type": "code",
   "execution_count": 4,
   "id": "6bdb8965-ea8b-4484-9651-cecb6c0f7e27",
   "metadata": {},
   "outputs": [
    {
     "data": {
      "application/vnd.jupyter.widget-view+json": {
       "model_id": "668252b50fab4d378fc16f87095d2855",
       "version_major": 2,
       "version_minor": 0
      },
      "text/plain": [
       "pytorch_model.bin:   0%|          | 0.00/443M [00:00<?, ?B/s]"
      ]
     },
     "metadata": {},
     "output_type": "display_data"
    },
    {
     "data": {
      "text/plain": [
       "CommitInfo(commit_url='https://huggingface.co/ptah23/dummy_model/commit/6d33aa86c1369decbeb168c0d49c90fd45ea16e7', commit_message='Upload CamembertForMaskedLM', commit_description='', oid='6d33aa86c1369decbeb168c0d49c90fd45ea16e7', pr_url=None, pr_revision=None, pr_num=None)"
      ]
     },
     "execution_count": 4,
     "metadata": {},
     "output_type": "execute_result"
    }
   ],
   "source": [
    "model.push_to_hub(\"dummy_model\")"
   ]
  },
  {
   "cell_type": "code",
   "execution_count": 5,
   "id": "cb718ecb-55bf-4017-85db-d169d8c5eba9",
   "metadata": {},
   "outputs": [
    {
     "data": {
      "application/vnd.jupyter.widget-view+json": {
       "model_id": "847e84416a6646e9bcac8f8f8be47d2b",
       "version_major": 2,
       "version_minor": 0
      },
      "text/plain": [
       "sentencepiece.bpe.model:   0%|          | 0.00/811k [00:00<?, ?B/s]"
      ]
     },
     "metadata": {},
     "output_type": "display_data"
    },
    {
     "data": {
      "text/plain": [
       "CommitInfo(commit_url='https://huggingface.co/ptah23/dummy-model/commit/0d98ffa79762f427b316c3e89b18cd6b39182eec', commit_message='Upload tokenizer', commit_description='', oid='0d98ffa79762f427b316c3e89b18cd6b39182eec', pr_url=None, pr_revision=None, pr_num=None)"
      ]
     },
     "execution_count": 5,
     "metadata": {},
     "output_type": "execute_result"
    }
   ],
   "source": [
    "tokenizer.push_to_hub(\"dummy-model\")"
   ]
  },
  {
   "cell_type": "code",
   "execution_count": null,
   "id": "3dcf2a39-ee91-4ce9-93cd-9abda93ce9f7",
   "metadata": {},
   "outputs": [],
   "source": []
  }
 ],
 "metadata": {
  "kernelspec": {
   "display_name": "Python 3 (ipykernel)",
   "language": "python",
   "name": "python3"
  },
  "language_info": {
   "codemirror_mode": {
    "name": "ipython",
    "version": 3
   },
   "file_extension": ".py",
   "mimetype": "text/x-python",
   "name": "python",
   "nbconvert_exporter": "python",
   "pygments_lexer": "ipython3",
   "version": "3.9.16"
  }
 },
 "nbformat": 4,
 "nbformat_minor": 5
}
